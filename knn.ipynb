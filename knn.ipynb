{
 "metadata": {
  "language_info": {
   "codemirror_mode": {
    "name": "ipython",
    "version": 3
   },
   "file_extension": ".py",
   "mimetype": "text/x-python",
   "name": "python",
   "nbconvert_exporter": "python",
   "pygments_lexer": "ipython3",
   "version": 3
  },
  "orig_nbformat": 2
 },
 "nbformat": 4,
 "nbformat_minor": 2,
 "cells": [
  {
   "cell_type": "code",
   "execution_count": null,
   "metadata": {},
   "outputs": [],
   "source": [
    "# Biblotecas de manipulação de dados\n",
    "import numpy as np\n",
    "import pandas as pd\n",
    "# Bibliotecas de visualização\n",
    "import seaborn as sns\n",
    "import matplotlib.pyplot as plt\n",
    "# Testes estatísticos\n",
    "from scipy.stats import ttest_ind\n",
    "\n",
    "\n",
    "from sklearn.tree import DecisionTreeRegressor\n",
    "from sklearn.model_selection import train_test_split\n",
    "from sklearn import svm\n",
    "from sklearn import datasets\n",
    "from sklearn.metrics import classification_report \n",
    "from sklearn.neighbors import KNeighborsClassifier\n",
    "from sklearn.model_selection import train_test_split\n",
    "\n",
    "# Bibliotecas Locais\n",
    "from carga import *\n",
    "from tratamentos import *\n",
    "from categorizacao import *\n",
    "\n",
    "pfEnade = doCarga('microdados_enade_2019.txt')\n",
    "# TRATAMENTOS \n",
    "pfEnade = doIdade(pfEnade)\n",
    "pfEnade = doNota(pfEnade)\n",
    "pfEnade = doVazios(pfEnade)\n",
    "pfEnade = doPublicoPrivada(pfEnade)\n",
    "pfEnade = doHumanasExatas(pfEnade)\n",
    "pfEnade = doRenda(pfEnade)\n",
    "pfEnade = doMigracao(pfEnade)\n",
    "pfEnade = doRenda(pfEnade)\n",
    "pfEnade = doEscolaridade(pfEnade)\n",
    "pfEnade = doCategoricos(pfEnade)"
   ]
  },
  {
   "cell_type": "code",
   "execution_count": null,
   "metadata": {},
   "outputs": [],
   "source": [
    "y = pd.DataFrame(pfEnade, columns = ['QE_I08CAT']) # , 'QE_I23CAT'])\n",
    "enade_features = ['NT_GER']\n",
    "X = pfEnade[enade_features]\n",
    "enade_model = DecisionTreeRegressor(random_state=1) # Cria um novo modelo não treinado\n",
    "enade_model.fit(X, y)"
   ]
  },
  {
   "source": [
    "# Dividindo Grupos de Treinamento\n",
    "X_train, X_test, y_train, y_test = train_test_split(X, y, test_size=0.33, random_state=42)"
   ],
   "cell_type": "code",
   "metadata": {},
   "execution_count": null,
   "outputs": []
  },
  {
   "cell_type": "code",
   "execution_count": null,
   "metadata": {},
   "outputs": [],
   "source": [
    "n_neighbors = 10 % notas de 10 em 10 \n",
    "clf = KNeighborsClassifier(n_neighbors=n_neighbors)"
   ]
  },
  {
   "cell_type": "code",
   "execution_count": null,
   "metadata": {},
   "outputs": [],
   "source": [
    "clf.fit(X_train, y_train)"
   ]
  },
  {
   "cell_type": "code",
   "execution_count": null,
   "metadata": {},
   "outputs": [],
   "source": [
    "y_pred = clf.predict(X_test)"
   ]
  },
  {
   "cell_type": "code",
   "execution_count": null,
   "metadata": {},
   "outputs": [],
   "source": [
    "# Relatório de Classificação F1\n",
    "print (classification_report(y_test, y_pred, target_names=doQE_I08DIC()))"
   ]
  }
 ]
}