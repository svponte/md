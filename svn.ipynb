{
 "metadata": {
  "language_info": {
   "codemirror_mode": {
    "name": "ipython",
    "version": 3
   },
   "file_extension": ".py",
   "mimetype": "text/x-python",
   "name": "python",
   "nbconvert_exporter": "python",
   "pygments_lexer": "ipython3",
   "version": "3.8.5"
  },
  "orig_nbformat": 2,
  "kernelspec": {
   "name": "python385jvsc74a57bd0b3ba2566441a7c06988d0923437866b63cedc61552a5af99d1f4fb67d367b25f",
   "display_name": "Python 3.8.5 64-bit ('base': conda)"
  }
 },
 "nbformat": 4,
 "nbformat_minor": 2,
 "cells": [
  {
   "cell_type": "code",
   "execution_count": null,
   "metadata": {},
   "outputs": [],
   "source": [
    "# Biblotecas de manipulação de dados\n",
    "import numpy as np\n",
    "import pandas as pd\n",
    "# Bibliotecas de visualização\n",
    "import seaborn as sns\n",
    "import matplotlib.pyplot as plt\n",
    "# Testes estatísticos\n",
    "from scipy.stats import ttest_ind\n",
    "\n",
    "\n",
    "from sklearn.tree import DecisionTreeRegressor\n",
    "from sklearn.model_selection import train_test_split\n",
    "from sklearn import svm\n",
    "from sklearn import datasets\n",
    "from sklearn.metrics import classification_report \n",
    "\n",
    "# Bibliotecas Locais\n",
    "from carga import *\n",
    "from tratamentos import *\n",
    "from categorizacao import *\n",
    "\n",
    "pfEnade = doCarga('microdados_enade_2019.txt')\n",
    "# TRATAMENTOS \n",
    "pfEnade = doIdade(pfEnade)\n",
    "pfEnade = doNota(pfEnade)\n",
    "pfEnade = doVazios(pfEnade)\n",
    "pfEnade = doPublicoPrivada(pfEnade)\n",
    "pfEnade = doHumanasExatas(pfEnade)\n",
    "pfEnade = doRenda(pfEnade)\n",
    "pfEnade = doMigracao(pfEnade)\n",
    "pfEnade = doRenda(pfEnade)\n",
    "pfEnade = doEscolaridade(pfEnade)\n",
    "pfEnade = doCategoricos(pfEnade)"
   ]
  },
  {
   "cell_type": "code",
   "execution_count": null,
   "metadata": {},
   "outputs": [],
   "source": [
    "# 'CO_CATEGAD'  - Categórico - Código da categoria administrativa da IES\n",
    "# 'CO_GRUPO'    - Categórico - Código da Área de enquadramento do curso no Enade\n",
    "# 'TP_SEXO'     - Categórico - \n",
    "# 'ANO_FIM_EM'  - NORMALIZADO\n",
    "# 'ANO_IN_GRAD' - NORMALIZADO\n",
    "# 'QE_I08'      - Categórico - Qual a renda total de sua família, incluindo seus rendimentos?\n",
    "# 'QE_I16'      - Categórico - Em que unidade da Federação você concluiu o ensino médio?\n",
    "# 'QE_I17'      - Categórico - Em que tipo de escola você cursou o ensino médio?\t\n",
    "# 'QE_I04'      - Categórico - Até que etapa de escolarização seu pai concluiu?\n",
    "# 'QE_I05'      - Categórico - Até que etapa de escolarização sua mãe concluiu?\n",
    "# 'CO_UF_CURSO' - Categórico - Código da UF de funcionamento do curso\n",
    "# 03 'NT_GER'      - NORMALIZADO- Nota bruta da prova - (valor de 0 a 100)\n",
    "# 'QE_I23'      - Categórico - Quantas horas por semana você dedicou aos estudos, excetuando as horas de aula?\n",
    "# 'QE_I07'      - Categórico - Quantas pessoas da sua família moram com você?  \n",
    "# RendaCAT\n",
    "# RendaDIC\n",
    "\n",
    "# doRendaDIC()\n",
    "# doHEstudoDIC()\n",
    "# doSexoDIC()\n",
    "# doMigradoDIC()\n",
    "# 19 QE_I08CAT  \n",
    "# 20 QE_I23CAT\n",
    "#xdf = pfEnade.iloc[:,[15, 20]]"
   ]
  },
  {
   "cell_type": "code",
   "execution_count": null,
   "metadata": {},
   "outputs": [],
   "source": [
    "pfEnade.columns\n",
    "\n"
   ]
  },
  {
   "cell_type": "code",
   "execution_count": null,
   "metadata": {},
   "outputs": [],
   "source": [
    "pfEnade.columns\n",
    "\n",
    "xdf = pd.DataFrame(pfEnade, columns = ['NT_GER']) # , 'QE_I23CAT'])\n",
    "# xdf = pfEnade.iloc[:,[19, 3]]\n",
    "#xdf.plot.scatter(0,1,)"
   ]
  },
  {
   "cell_type": "code",
   "execution_count": null,
   "metadata": {},
   "outputs": [],
   "source": [
    "# y = Prediction Target - Rótulo - que a gente quer prever - y = f(X)\n",
    "\n",
    "#y = pfEnade.QE_I08\n",
    "# y = pfEnade.NT_GER\n",
    "y = pd.DataFrame(pfEnade, columns = ['QE_I08CAT']) # , 'QE_I23CAT'])\n",
    "y.head()"
   ]
  },
  {
   "source": [
    "# X = Data Features - Características \n",
    "\n",
    "# enade_features = ['NT_GER', 'Migrado']\n",
    "#enade_features = ['QE_I08']\n",
    "enade_features = ['NT_GER']\n",
    "X = pfEnade[enade_features]\n",
    "X.describe()"
   ],
   "cell_type": "code",
   "metadata": {},
   "execution_count": null,
   "outputs": []
  },
  {
   "cell_type": "code",
   "execution_count": null,
   "metadata": {},
   "outputs": [],
   "source": [
    "# Definir o modelo -- my_model = ModelName()\n",
    "\n",
    "enade_model = DecisionTreeRegressor(random_state=1) # Cria um novo modelo não treinado\n",
    "enade_model.fit(X, y)"
   ]
  },
  {
   "cell_type": "code",
   "execution_count": null,
   "metadata": {},
   "outputs": [],
   "source": [
    "print(X.head())\n"
   ]
  },
  {
   "cell_type": "code",
   "execution_count": null,
   "metadata": {},
   "outputs": [],
   "source": [
    "print(enade_model.predict(X.head()))"
   ]
  },
  {
   "cell_type": "code",
   "execution_count": null,
   "metadata": {},
   "outputs": [],
   "source": [
    "enade_model.fit(X, y)"
   ]
  },
  {
   "cell_type": "code",
   "execution_count": null,
   "metadata": {},
   "outputs": [],
   "source": [
    "print(X.head())\n",
    "print(enade_model.predict(X.head()))"
   ]
  },
  {
   "cell_type": "code",
   "execution_count": null,
   "metadata": {},
   "outputs": [],
   "source": [
    "# Dividindo Grupos de Treinamento\n",
    "X_train, X_test, y_train, y_test = train_test_split(X, y, test_size=0.33, random_state=42)"
   ]
  },
  {
   "cell_type": "code",
   "execution_count": null,
   "metadata": {},
   "outputs": [],
   "source": [
    "X_train.shape"
   ]
  },
  {
   "cell_type": "code",
   "execution_count": null,
   "metadata": {},
   "outputs": [],
   "source": [
    "X_test.shape "
   ]
  },
  {
   "cell_type": "code",
   "execution_count": null,
   "metadata": {},
   "outputs": [],
   "source": [
    "# Plotar em pares \n",
    "# tentar visualizar se é possível um divisão linear (no caso não é)\n",
    "#sns.pairplot(pfEnade[['QE_I08CAT', 'QE_I23CAT', 'NT_GER']], hue='QE_I08CAT')\n",
    "sns.pairplot(pfEnade[['QE_I08CAT', 'NT_GER']], hue='QE_I08CAT')"
   ]
  },
  {
   "cell_type": "code",
   "execution_count": null,
   "metadata": {},
   "outputs": [],
   "source": [
    "# SVM - Support Vector Machines\n",
    "# Separar classes por linha reta\n",
    "C=1.0   # marge \n",
    "clf = svm.SVC(kerner='linear', C=C)\n"
   ]
  },
  {
   "cell_type": "code",
   "execution_count": null,
   "metadata": {},
   "outputs": [],
   "source": [
    "clf.fit(X_train, y_train)"
   ]
  },
  {
   "cell_type": "code",
   "execution_count": null,
   "metadata": {},
   "outputs": [],
   "source": [
    "y_pred = clf.predict(X_test)"
   ]
  },
  {
   "cell_type": "code",
   "execution_count": null,
   "metadata": {},
   "outputs": [],
   "source": [
    "clf.score(X_test, y_test)"
   ]
  },
  {
   "cell_type": "code",
   "execution_count": null,
   "metadata": {},
   "outputs": [],
   "source": [
    "# Relatório de Classificação F1\n",
    "# print (classification_report(y_test, y_pred))\n",
    "print (classification_report(y_test, y_pred, target_names=doQE_I08DIC()))"
   ]
  }
 ]
}