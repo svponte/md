{
  "nbformat": 4,
  "nbformat_minor": 0,
  "metadata": {
    "colab": {
      "name": "main.ipynb",
      "provenance": [],
      "authorship_tag": "ABX9TyP8lcu8nTVvbm8xE3+cNuti",
      "include_colab_link": true
    },
    "kernelspec": {
      "name": "python385jvsc74a57bd0b3ba2566441a7c06988d0923437866b63cedc61552a5af99d1f4fb67d367b25f",
      "display_name": "Python 3.8.5 64-bit (conda)"
    },
    "language_info": {
      "name": "python",
      "version": "3.8.5-final"
    }
  },
  "cells": [
    {
      "cell_type": "markdown",
      "metadata": {
        "id": "view-in-github",
        "colab_type": "text"
      },
      "source": [
        "<a href=\"https://colab.research.google.com/github/svponte/md/blob/main/main.ipynb\" target=\"_parent\"><img src=\"https://colab.research.google.com/assets/colab-badge.svg\" alt=\"Open In Colab\"/></a>"
      ]
    },
    {
      "cell_type": "markdown",
      "metadata": {
        "id": "Zb3jzcpgGR-4"
      },
      "source": [
        "# **Mineração de Dados**"
      ]
    },
    {
      "cell_type": "code",
      "metadata": {
        "colab": {
          "base_uri": "https://localhost:8080/"
        },
        "id": "gmVf8fHrAD-T",
        "outputId": "de04e870-1ba5-47f0-8763-03324ae03813"
      },
      "source": [
        "import pandas as pd\n",
        "import numpy as np\n",
        "from sklearn.tree import DecisionTreeRegressor\n",
        "from sklearn.model_selection import train_test_split\n",
        "from sklearn.metrics import mean_squared_error as MSE \n",
        "\n",
        "#import seaborn as sns\n",
        "#import matplotlib.pyplot as plt\n",
        "\n",
        "# Carrega dataframe\n",
        "pfEnade = pd.read_csv(\"microdados_enade_2019.txt\", sep = ';', low_memory=False)\n",
        "\n",
        "# Quantas linhas e colunas no dataframe\n",
        "pfEnade.shape\n"
      ],
      "execution_count": null,
      "outputs": []
    },
    {
      "cell_type": "code",
      "execution_count": null,
      "metadata": {},
      "outputs": [],
      "source": [
        "# Remover colunas excedentes \n",
        "\n",
        "# Campos Escolhidos \n",
        "#['CO_IES', 'CO_CATEGAD', 'CO_ORGACAD', 'CO_GRUPO', 'CO_CURSO', \n",
        "# 'ANO_FIM_EM', 'ANO_IN_GRAD', 'NT_OBJ_FG', 'NT_DIS_FG', \n",
        "# 'QE_I15', 'QE_I17', 'QE_I25']\n",
        "\n",
        "# NOME\tNº\tTIPO\tTAMANHO\tDESCRIÇÃO\t\n",
        "del pfEnade['NU_ANO'] #\t1 - N - 4 - Ano de realização do exame\t\n",
        "del pfEnade['CO_IES'] #\t2 - N - 5 - Código da IES (e-MEC)\t\n",
        "# del pfEnade['CO_CATEGAD'] #\t3 - N - 5 - Código da categoria administrativa da IES\t\n",
        "# del pfEnade['CO_ORGACAD'] #\t4 - N - 5 - Código da organização acadêmica da IES\t\n",
        "# del pfEnade['CO_GRUPO'] #\t5 - N - 4 - Código da Área de enquadramento do curso no Enade\t\n",
        "# del pfEnade['CO_CURSO'] #\t6 - N - 7 - Código do curso no Enade\t\n",
        "del pfEnade['CO_MODALIDADE'] #\t7 - N - 1 - Código da Modalidade de Ensino\t\n",
        "del pfEnade['CO_MUNIC_CURSO'] #\t8 - N - 7 - Código do município de funcionamento do curso\t\n",
        "# del pfEnade['CO_UF_CURSO'] #\t9 - N - 2 - Código da UF de funcionamento do curso\t\n",
        "del pfEnade['CO_REGIAO_CURSO'] #\t10 - N - 1 - Código da região de funcionamento do curso\t\n",
        "del pfEnade['NU_IDADE'] #\t11 - N - 2 - Idade do inscrito em 24/11/2019\t\n",
        "# del pfEnade['TP_SEXO'] #\t12 - C - 1 - Sexo\t\n",
        "# del pfEnade['ANO_FIM_EM'] #\t13 - N - 4 - Ano de conclusão do Ensino Médio\t\n",
        "# del pfEnade['ANO_IN_GRAD'] #\t14 - N - 4 - Ano de início da graduação\t\n",
        "del pfEnade['CO_TURNO_GRADUACAO'] #\t15 - N - 1 - Código do turno de graduação\t\n",
        "del pfEnade['TP_INSCRICAO_ADM'] #\t16 - N - 1 - Forma pela qual foi realizada a inscrição\t\n",
        "del pfEnade['TP_INSCRICAO'] #\t17 - N - 1 - Tipo de inscrição\t\n",
        "del pfEnade['NU_ITEM_OFG'] #\t18 - N - 1 - Número de itens da parte objetiva da Formação Geral\t\n",
        "del pfEnade['NU_ITEM_OFG_Z'] #\t19 - N - 1 - Número de itens da parte objetiva da Formação Geral que foram excluídos devido a anulação\t\n",
        "del pfEnade['NU_ITEM_OFG_X'] #\t20 - N - 1 - Número de itens da parte objetiva da Formação Geral que foram excluídos devido ao coeficiente ponto-bisserial menor que 0,20\t\n",
        "del pfEnade['NU_ITEM_OFG_N'] #\t21 - N - 1 - Número de itens da parte objetiva da Formação Geral que não se aplicam ao grupo de curso\t\n",
        "del pfEnade['NU_ITEM_OCE'] #\t22 - N - 2 - Número de itens da parte objetiva de Componente Específico\t\n",
        "del pfEnade['NU_ITEM_OCE_Z'] #\t23 - N - 2 - Número de itens da parte objetiva de Componente Específico que foram excluídos devido a anulação\t\n",
        "del pfEnade['NU_ITEM_OCE_X'] #\t24 - N - 1 - Número de itens da parte objetiva de Componente Específico que foram excluídos devido ao coeficiente ponto-bisserial menor que 0,20\t\n",
        "del pfEnade['NU_ITEM_OCE_N'] #\t25 - N - 1 - Número de itens da parte objetiva de Componente Específico que não se aplicam ao grupo de curso\t\n",
        "del pfEnade['DS_VT_GAB_OFG_ORIG'] #\t26 - C - 8 - Vetor que representa o gabarito original de Formação Geral\t\n",
        "del pfEnade['DS_VT_GAB_OFG_FIN'] #\t27 - C - 8 - Vetor que representa o gabarito final de Formação Geral\t\n",
        "del pfEnade['DS_VT_GAB_OCE_ORIG'] #\t28 - C - 27 - Vetor que representa o gabarito original de Componente Específico\t\n",
        "del pfEnade['DS_VT_GAB_OCE_FIN'] #\t29 - C - 27 - Vetor que representa o gabarito final de Componente Específico\t\n",
        "del pfEnade['DS_VT_ESC_OFG'] #\t30 - C - 8 - Vetor que representa a escolha de resposta da parte objetiva da Formação Geral\t\n",
        "del pfEnade['DS_VT_ACE_OFG'] #\t31 - C - 8 - Vetor que representa os acertos da parte objetiva na Formação Geral\t\n",
        "del pfEnade['DS_VT_ESC_OCE'] #\t32 - C - 27 - Vetor que representa a escolha de resposta da parte objetiva do Componente Específico\t\n",
        "del pfEnade['DS_VT_ACE_OCE'] #\t33 - C - 27 - Vetor que representa os acertos da parte objetiva do Componente Específico\t\n",
        "del pfEnade['TP_PRES'] #\t34 - N - 3 - Tipo de presença no Enade\t\n",
        "del pfEnade['TP_PR_GER'] #\t35 - N - 3 - Tipo de presença na prova\t\n",
        "del pfEnade['TP_PR_OB_FG'] #\t36 - N - 3 - Tipo de presença na parte objetiva na formação geral\t\n",
        "del pfEnade['TP_PR_DI_FG'] #\t37 - N - 3 - Tipo de presença na parte discursiva na formação geral\t\n",
        "del pfEnade['TP_PR_OB_CE'] #\t38 - N - 3 - Tipo de presença na parte objetiva no componente específico\t\n",
        "del pfEnade['TP_PR_DI_CE'] #\t39 - N - 3 - Tipo de presença na parte discursiva no componente específico\t\n",
        "del pfEnade['TP_SFG_D1'] #\t40 - N - 3 - Tipo de situação da questão 1 da parte discursiva da formação geral\t\n",
        "del pfEnade['TP_SFG_D2'] #\t41 - N - 3 - Tipo de situação da questão 2 da parte discursiva da formação geral\t\n",
        "del pfEnade['TP_SCE_D1'] #\t42 - N - 3 - Tipo de situação da questão 1 da parte discursiva do componente específico\t\n",
        "del pfEnade['TP_SCE_D2'] #\t43 - N - 3 - Tipo de situação da questão 2 da parte discursiva do componente específico\t\n",
        "del pfEnade['TP_SCE_D3'] #\t44 - N - 3 - Tipo de situação da questão 3 da parte discursiva do componente específico\t\n",
        "del pfEnade['NT_GER'] #\t45 - N - 4 - Nota bruta da prova - Média ponderada da formação geral (25%) e componente específico (75%). (valor de 0 a 100)\t\n",
        "del pfEnade['NT_FG'] #\t46 - N - 4 - Nota bruta na formação geral - Média ponderada da parte objetiva (60%) e discursiva (40%) na formação geral. (valor de 0 a 100)\t\n",
        "del pfEnade['NT_OBJ_FG'] #\t47 - N - 4 - Nota bruta na parte objetiva da formação geral. (valor de 0 a 100)\t\n",
        "del pfEnade['NT_DIS_FG'] #\t48 - N - 4 - Nota bruta na parte discursiva da formação geral. (valor de 0 a 100)\t\n",
        "del pfEnade['NT_FG_D1'] #\t49 - N - 3 - Nota da questão 1 da parte discursiva da formação geral - Média ponderada da parte de Língua Portuguesa (20%) e Conteúdo (80%) da Questão 1 da parte discursiva (valor de 0 a 100)\t\n",
        "del pfEnade['NT_FG_D1_PT'] #\t50 - N - 3 - Nota de Língua Portuguesa da questão 1 da parte discursiva da formação geral. (valor de 0 a 100)\t\n",
        "del pfEnade['NT_FG_D1_CT'] #\t51 - N - 3 - Nota de Conteúdo da questão 1 da parte discursiva da formação geral. (valor de 0 a 100)\t\n",
        "del pfEnade['NT_FG_D2'] #\t52 - N - 3 - Nota da questão 2 da parte discursiva na formação geral - Média ponderada da parte de Língua Portuguesa (20%) e Conteúdo (80%) da Questão 2 da parte discursiva. (valor de 0 a 100)\t\n",
        "del pfEnade['NT_FG_D2_PT'] #\t53 - N - 3 - Nota de Língua Portuguesa da questão 2 da parte discursiva da formação geral. (valor de 0 a 100)\t\n",
        "del pfEnade['NT_FG_D2_CT'] #\t54 - N - 3 - Nota de Conteúdo da questão 2 da parte discursiva da formação geral. (valor de 0 a 100)\t\n",
        "del pfEnade['NT_CE'] #\t55 - N - 4 - Nota bruta no componente específico - Média ponderada da parte objetiva (85%) e discursiva (15%) no componente específico. (valor de 0 a 100)\t\n",
        "del pfEnade['NT_OBJ_CE'] #\t56 - N - 4 - Nota bruta na parte objetiva do componente específico. (valor de 0 a 100)\t\n",
        "del pfEnade['NT_DIS_CE'] #\t57 - N - 4 - Nota bruta na parte discursiva do componente específico. (valor de 0 a 100)\t\n",
        "del pfEnade['NT_CE_D1'] #\t58 - N - 3 - Nota da questão 1 da parte discursiva do componente específico. (valor de 0 a 100)\t\n",
        "del pfEnade['NT_CE_D2'] #\t59 - N - 3 - Nota da questão 2 da parte discursiva do componente específico. (valor de 0 a 100)\t\n",
        "del pfEnade['NT_CE_D3'] #\t60 - N - 3 - Nota da questão 3 da parte discursiva do componente específico. (valor de 0 a 100)\t\n",
        "del pfEnade['CO_RS_I1'] #\t61 - C - 1 - 1 - Qual o grau de dificuldade desta prova na parte de Formação Geral?\t\n",
        "del pfEnade['CO_RS_I2'] #\t62 - C - 1 - 2 - Qual o grau de dificuldade desta prova na parte do Componente Específico?\t\n",
        "del pfEnade['CO_RS_I3'] #\t63 - C - 1 - 3 - Considerando a extensão da prova, em relação ao tempo total, você considera que a prova foi:\t\n",
        "del pfEnade['CO_RS_I4'] #\t64 - C - 1 - 4 - Os enunciados das questões da prova na parte de Formação Geral estavam claros e objetivos?\t\n",
        "del pfEnade['CO_RS_I5'] #\t65 - C - 1 - 5 - Os enunciados das questões na parte do Componente Específico estavam claros e objetivos?\t\n",
        "del pfEnade['CO_RS_I6'] #\t66 - C - 1 - 6 - As informações/instruções fornecidas para a resolução das questões foram suficientes para resolvê-las?\t\n",
        "del pfEnade['CO_RS_I7'] #\t67 - C - 1 - 7 - Você se deparou com alguma dificuldade ao responder à prova. Qual?\t\n",
        "del pfEnade['CO_RS_I8'] #\t68 - C - 1 - 8 - Considerando apenas as questões objetivas da prova, você percebeu que:\t\n",
        "del pfEnade['CO_RS_I9'] #\t69 - C - 1 - 9 - Qual foi o tempo gasto por você para concluir a prova?\t\n",
        "del pfEnade['QE_I01'] #\t70 - C - 1 - Qual o seu estado civil?\t\n",
        "del pfEnade['QE_I02'] #\t71 - C - 1 - Qual é a sua cor ou raça?\t\n",
        "del pfEnade['QE_I03'] #\t72 - C - 1 - Qual a sua nacionalidade?\t\n",
        "del pfEnade['QE_I04'] #\t73 - C - 1 - Até que etapa de escolarização seu pai concluiu?\t\n",
        "del pfEnade['QE_I05'] #\t74 - C - 1 - Até que etapa de escolarização sua mãe concluiu?\t\n",
        "del pfEnade['QE_I06'] #\t75 - C - 1 - Onde e com quem você mora atualmente?\t\n",
        "del pfEnade['QE_I07'] #\t76 - C - 1 - Quantas pessoas da sua família moram com você? Considere seus pais, irmãos, cônjuge, filhos e outros parentes que moram na mesma casa com você.\t\n",
        "del pfEnade['QE_I08'] #\t77 - C - 1 - Qual a renda total de sua família, incluindo seus rendimentos?\t\n",
        "del pfEnade['QE_I09'] #\t78 - C - 1 - Qual alternativa a seguir melhor descreve sua situação financeira (incluindo bolsas)?\t\n",
        "del pfEnade['QE_I10'] #\t79 - C - 1 - Qual alternativa a seguir melhor descreve sua situação de trabalho (exceto estágio ou bolsas)?\t\n",
        "del pfEnade['QE_I11'] #\t80 - C - 1 - Que tipo de bolsa de estudos ou financiamento do curso você recebeu para custear todas ou a maior parte das mensalidades? No caso de haver mais de uma opção, marcar apenas a bolsa de maior duração.\t\n",
        "del pfEnade['QE_I12'] #\t81 - C - 1 - Ao longo da sua trajetória acadêmica, você recebeu algum tipo de bolsa de permanência? No caso de haver mais de uma opção, marcar apenas a bolsa de maior duração.\t\n",
        "del pfEnade['QE_I13'] #\t82 - C - 1 - Ao longo da sua trajetória acadêmica, você recebeu algum tipo de bolsa acadêmica? No caso de haver mais de uma opção, marcar apenas a bolsa de maior duração.\t\n",
        "del pfEnade['QE_I14'] #\t83 - C - 1 - Durante o curso de graduação, você participou de programas e ou atividades curriculares no exterior?\t\n",
        "del pfEnade['QE_I15'] #\t84 - C - 1 - Seu ingresso no curso de graduação se deu por meio de políticas de ação afirmativa ou inclusão social?\t\n",
        "del pfEnade['QE_I16'] #\t85 - N - 2 - Em que unidade da Federação você concluiu o ensino médio?\t\n",
        "del pfEnade['QE_I17'] #\t86 - C - 1 - Em que tipo de escola você cursou o ensino médio?\t\n",
        "del pfEnade['QE_I18'] #\t87 - C - 1 - Qual modalidade de ensino médio você concluiu?\t\n",
        "del pfEnade['QE_I19'] #\t88 - C - 1 - Quem mais lhe incentivou a cursar a graduação?\t\n",
        "del pfEnade['QE_I20'] #\t89 - C - 1 - Algum dos grupos abaixo foi determinante para você enfrentar dificuldades durante seu curso superior e conclui-lo?\t\n",
        "del pfEnade['QE_I21'] #\t90 - C - 1 - Alguém em sua família concluiu um curso superior?\t\n",
        "del pfEnade['QE_I22'] #\t91 - C - 1 - Excetuando-se os livros indicados na bibliografia do seu curso, quantos livros você leu neste ano?\t\n",
        "del pfEnade['QE_I23'] #\t92 - C - 1 - Quantas horas por semana, aproximadamente, você dedicou aos estudos, excetuando as horas de aula?\t\n",
        "del pfEnade['QE_I24'] #\t93 - C - 1 - Você teve oportunidade de aprendizado de idioma estrangeiro na Instituição?\t\n",
        "del pfEnade['QE_I25'] #\t94 - C - 1 - Qual o principal motivo para você ter escolhido este curso?\t\n",
        "del pfEnade['QE_I26'] #\t95 - C - 1 - Qual a principal razão para você ter escolhido a sua instituição de educação superior?\t\n",
        "del pfEnade['QE_I27'] #\t96 - N - 1 - As disciplinas cursadas contribuíram para sua formação integral, como cidadão e profissional.\t\n",
        "del pfEnade['QE_I28'] #\t97 - N - 1 - Os conteúdos abordados nas disciplinas do curso favoreceram sua atuação em estágios ou em atividades de iniciação profissional.\t\n",
        "del pfEnade['QE_I29'] #\t98 - N - 1 - As metodologias de ensino utilizadas no curso desafiaram você a aprofundar conhecimentos e desenvolver competências reflexivas e críticas.\t\n",
        "del pfEnade['QE_I30'] #\t99 - N - 1 - O curso propiciou experiências de aprendizagem inovadoras.\t\n",
        "del pfEnade['QE_I31'] #\t100 - N - 1 - O curso contribuiu para o desenvolvimento da sua consciência ética para o exercício profissional.\t\n",
        "del pfEnade['QE_I32'] #\t101 - N - 1 - No curso você teve oportunidade de aprender a trabalhar em equipe.\t\n",
        "del pfEnade['QE_I33'] #\t102 - N - 1 - O curso possibilitou aumentar sua capacidade de reflexão e argumentação.\t\n",
        "del pfEnade['QE_I34'] #\t103 - N - 1 - O curso promoveu o desenvolvimento da sua capacidade de pensar criticamente, analisar e refletir sobre soluções para problemas da sociedade.\t\n",
        "del pfEnade['QE_I35'] #\t104 - N - 1 - O curso contribuiu para você ampliar sua capacidade de comunicação nas formas oral e escrita.\t\n",
        "del pfEnade['QE_I36'] #\t105 - N - 1 - O curso contribuiu para o desenvolvimento da sua capacidade de aprender e atualizar-se permanentemente.\t\n",
        "del pfEnade['QE_I37'] #\t106 - N - 1 - As relações professor-aluno ao longo do curso estimularam você a estudar e aprender.\t\n",
        "del pfEnade['QE_I38'] #\t107 - N - 1 - Os planos de ensino apresentados pelos professores contribuíram para o desenvolvimento das atividades acadêmicas e para seus estudos.\t\n",
        "del pfEnade['QE_I39'] #\t108 - N - 1 - As referências bibliográficas indicadas pelos professores nos planos de ensino contribuíram para seus estudos e aprendizagens.\t\n",
        "del pfEnade['QE_I40'] #\t109 - N - 1 - Foram oferecidas oportunidades para os estudantes superarem problemas e dificuldades relacionados ao processo de formação.\t\n",
        "del pfEnade['QE_I41'] #\t110 - N - 1 - A coordenação do curso esteve disponível para orientação acadêmica dos estudantes.\t\n",
        "del pfEnade['QE_I42'] #\t111 - N - 1 - O curso exigiu de você organização e dedicação frequente aos estudos.\t\n",
        "del pfEnade['QE_I43'] #\t112 - N - 1 - Foram oferecidas oportunidades para os estudantes participarem de programas, projetos ou atividades de extensão universitária.\t\n",
        "del pfEnade['QE_I44'] #\t113 - N - 1 - Foram oferecidas oportunidades para os estudantes participarem de projetos de iniciação científica e de atividades que estimularam a investigação acadêmica.\t\n",
        "del pfEnade['QE_I45'] #\t114 - N - 1 - O curso ofereceu condições para os estudantes participarem de eventos internos e/ou externos à instituição.\t\n",
        "del pfEnade['QE_I46'] #\t115 - N - 1 - A instituição ofereceu oportunidades para os estudantes atuarem como representantes em órgãos colegiados.\t\n",
        "del pfEnade['QE_I47'] #\t116 - N - 1 - O curso favoreceu a articulação do conhecimento teórico com atividades práticas.\t\n",
        "del pfEnade['QE_I48'] #\t117 - N - 1 - As atividades práticas foram suficientes para relacionar os conteúdos do curso com a prática, contribuindo para sua formação profissional.\t\n",
        "del pfEnade['QE_I49'] #\t118 - N - 1 - O curso propiciou acesso a conhecimentos atualizados e/ou contemporâneos em sua área de formação.\t\n",
        "del pfEnade['QE_I50'] #\t119 - N - 1 - O estágio supervisionado proporcionou experiências diversificadas para a sua formação.\t\n",
        "del pfEnade['QE_I51'] #\t120 - N - 1 - As atividades realizadas durante seu trabalho de conclusão de curso contribuíram para qualificar sua formação profissional.\t\n",
        "del pfEnade['QE_I52'] #\t121 - N - 1 - Foram oferecidas oportunidades para os estudantes realizarem intercâmbios e/ou estágios no país. \t\n",
        "del pfEnade['QE_I53'] #\t122 - N - 1 - Foram oferecidas oportunidades para os estudantes realizarem intercâmbios e/ou estágios fora do país.\t\n",
        "del pfEnade['QE_I54'] #\t123 - N - 1 - Os estudantes participaram de avaliações periódicas do curso (disciplinas, atuação dos professores, infraestrutura).\t\n",
        "del pfEnade['QE_I55'] #\t124 - N - 1 - As avaliações de aprendizagem realizadas durante o curso foram compatíveis com os conteúdos ou temas trabalhados pelos professores.\t\n",
        "del pfEnade['QE_I56'] #\t125 - N - 1 - Os professores apresentaram disponibilidade para atender os estudantes fora do horário das aulas.\t\n",
        "del pfEnade['QE_I57'] #\t126 - N - 1 - Os professores demonstraram domínio dos conteúdos abordados nas disciplinas.\t\n",
        "del pfEnade['QE_I58'] #\t127 - N - 1 - Os professores utilizaram tecnologias da informação e comunicação (TIC's) como estratégia de ensino (projetor, multimídia, laboratório de informática, ambiente virtual de aprendizagem).\t\n",
        "del pfEnade['QE_I59'] #\t128 - N - 1 - A instituição dispôs de quantidade suficiente de funcionários para o apoio administrativo e acadêmico.\t\n",
        "del pfEnade['QE_I60'] #\t129 - N - 1 - O curso disponibilizou monitores ou tutores para auxiliar os estudantes.\t\n",
        "del pfEnade['QE_I61'] #\t130 - N - 1 - As condições de infraestrutura das salas de aula foram adequadas.\t\n",
        "del pfEnade['QE_I62'] #\t131 - N - 1 - Os equipamentos e materiais disponíveis para as aulas práticas foram adequados para a quantidade de estudantes.\t\n",
        "del pfEnade['QE_I63'] #\t132 - N - 1 - Os ambientes e equipamentos destinados às aulas práticas foram adequados ao curso.\t\n",
        "del pfEnade['QE_I64'] #\t133 - N - 1 - A biblioteca dispôs das referências bibliográficas que os estudantes necessitaram.\t\n",
        "del pfEnade['QE_I65'] #\t134 - N - 1 - A instituição contou com biblioteca virtual ou conferiu acesso a obras disponíveis em acervos virtuais.\t\n",
        "del pfEnade['QE_I66'] #\t135 - N - 1 - As atividades acadêmicas desenvolvidas dentro e fora da sala de aula possibilitaram reflexão, convivência e respeito à diversidade.\t\n",
        "del pfEnade['QE_I67'] #\t136 - N - 1 - A instituição promoveu atividades de cultura, de lazer e interação social.\t\n",
        "del pfEnade['QE_I68'] #\t137 - N - 1 - A instituição dispôs de refeitório, cantina e banheiros em condições adequadas que atenderam as necessidades dos seus usuários.\t\n",
        "\n",
        "# Qual o nome das variáveis (colunas)\n",
        "pfEnade.columns\n"
      ]
    },
    {
      "source": [
        "\n",
        "# Visualizar as primeiras linhas do dataframe\n",
        "pfEnade.head()\n"
      ],
      "cell_type": "code",
      "metadata": {},
      "execution_count": null,
      "outputs": []
    },
    {
      "cell_type": "code",
      "execution_count": null,
      "metadata": {},
      "outputs": [],
      "source": [
        "# Quais os dados faltantes\n",
        "pfEnade.isnull().sum()\n",
        "\n"
      ]
    },
    {
      "cell_type": "code",
      "execution_count": null,
      "metadata": {},
      "outputs": [],
      "source": [
        "# Calculando a idade\n",
        "# antes deste trecho\n",
        "# 130.127 registros\n",
        "# mínimo ano_fim_em 1111\n",
        "# máximo ano_in_grad 14\n",
        "\n",
        "pfEnade = pfEnade.query('ANO_FIM_EM > 1990')\n",
        "pfEnade = pfEnade.query('ANO_FIM_EM < 2020')\n",
        "pfEnade = pfEnade.query('ANO_IN_GRAD > 2010')\n",
        "pfEnade = pfEnade.query('ANO_IN_GRAD < 2020')\n",
        "pfEnade = pfEnade.query('ANO_IN_GRAD > ANO_FIM_EM')\n",
        "pfEnade[\"Tempo\"] = pfEnade[\"ANO_IN_GRAD\"] - pfEnade[\"ANO_FIM_EM\"]\n",
        "\n",
        "# Prediction Target\n",
        "y = pfEnade.Tempo\n",
        "\n",
        "#pfEnade.head()\n",
        "# Sumário estatístico \n",
        "pfEnade.describe()"
      ]
    },
    {
      "cell_type": "code",
      "execution_count": null,
      "metadata": {},
      "outputs": [],
      "source": [
        "# Prediction Target\n",
        "y = pfEnade.Tempo\n",
        "y.describe()"
      ]
    },
    {
      "cell_type": "code",
      "execution_count": null,
      "metadata": {},
      "outputs": [],
      "source": [
        "# Conversão de tipos de dado\n",
        "pfEnade['CO_CATEGAD'] = pfEnade['CO_CATEGAD'].astype(int)\n",
        "pfEnade['CO_ORGACAD'] = pfEnade['CO_ORGACAD'].astype(int)\n",
        "pfEnade['CO_GRUPO'] = pfEnade['CO_GRUPO'].astype(int)\n",
        "pfEnade['CO_CURSO'] = pfEnade['CO_CURSO'].astype(int)\n",
        "pfEnade['CO_UF_CURSO'] = pfEnade['CO_UF_CURSO'].astype(int)\n",
        "pfEnade['TP_SEXO'] = pfEnade['TP_SEXO'].astype(str)\n",
        "pfEnade['ANO_FIM_EM'] = pfEnade['ANO_FIM_EM'].astype(int)\n",
        "pfEnade['ANO_IN_GRAD'] = pfEnade['ANO_IN_GRAD'].astype(int)\n",
        "pfEnade['Tempo'] = pfEnade['Tempo'].astype(int)\n",
        "\n"
      ]
    },
    {
      "cell_type": "code",
      "execution_count": null,
      "metadata": {},
      "outputs": [],
      "source": [
        "enade_features = ['CO_CATEGAD', 'CO_ORGACAD', 'CO_GRUPO', 'CO_CURSO', 'CO_UF_CURSO', 'TP_SEXO', 'ANO_FIM_EM', 'ANO_IN_GRAD']\n",
        "X = pfEnade[enade_features]\n",
        "X.describe()\n",
        "# print(X.head())"
      ]
    },
    {
      "cell_type": "code",
      "execution_count": null,
      "metadata": {},
      "outputs": [],
      "source": [
        "# 1. Definir o modelo -- my_model = ModelName()\n",
        "enade_model_01 = DecisionTreeRegressor(random_state=1) # Cria um novo modelo não treinado\n",
        "\n",
        "# 2. Fitting a model -- my_model.fit(data)\n",
        "enade_model_01.fit(X, y)\n",
        "\n",
        "\n",
        "print(enade_model_01.predict(X.head()))"
      ]
    },
    {
      "cell_type": "code",
      "execution_count": null,
      "metadata": {},
      "outputs": [],
      "source": []
    }
  ]
}