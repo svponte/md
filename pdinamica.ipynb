{
 "metadata": {
  "language_info": {
   "codemirror_mode": {
    "name": "ipython",
    "version": 3
   },
   "file_extension": ".py",
   "mimetype": "text/x-python",
   "name": "python",
   "nbconvert_exporter": "python",
   "pygments_lexer": "ipython3",
   "version": "3.8.5"
  },
  "orig_nbformat": 2,
  "kernelspec": {
   "name": "python385jvsc74a57bd0b3ba2566441a7c06988d0923437866b63cedc61552a5af99d1f4fb67d367b25f",
   "display_name": "Python 3.8.5 64-bit ('base': conda)"
  }
 },
 "nbformat": 4,
 "nbformat_minor": 2,
 "cells": [
  {
   "cell_type": "code",
   "execution_count": 1,
   "metadata": {},
   "outputs": [],
   "source": [
    "import pandas as pd\n",
    "import matplotlib.pyplot as plt\n",
    "import plotly.express as px"
   ]
  },
  {
   "cell_type": "code",
   "execution_count": null,
   "metadata": {},
   "outputs": [],
   "source": [
    "# LISTA - Colunas de dados\n",
    "pfEnade = pd.read_csv('microdados_enade_2019.txt', nrows=0, sep = ';', low_memory=False)\n",
    "pfEnade.columns.values"
   ]
  },
  {
   "cell_type": "code",
   "execution_count": 2,
   "metadata": {},
   "outputs": [],
   "source": [
    "# CARGA\n",
    "cols = ['CO_CATEGAD', 'CO_GRUPO', 'TP_SEXO', 'ANO_FIM_EM', 'ANO_IN_GRAD', 'QE_I08']\n",
    "pfEnade = pd.read_csv('microdados_enade_2019.txt', usecols=cols, sep = ';', low_memory=False, dtype={'CO_GRUPO':'category', 'TP_SEXO':'category', 'QE_I08':'category'})\n",
    "\n",
    "pfEnade.rename(columns={'CO_CATEGAD':'Publica'}, inplace = True)\n",
    "pfEnade.rename(columns={'TP_SEXO': 'Sexo'}, inplace = True)"
   ]
  },
  {
   "cell_type": "code",
   "execution_count": null,
   "metadata": {},
   "outputs": [],
   "source": [
    "# MOSTRAR - o tipo de dados\n",
    "pfEnade.info()"
   ]
  },
  {
   "cell_type": "code",
   "execution_count": null,
   "metadata": {},
   "outputs": [],
   "source": [
    "# MOSTRAR - Head\n",
    "pfEnade.head()"
   ]
  },
  {
   "cell_type": "code",
   "execution_count": 6,
   "metadata": {},
   "outputs": [
    {
     "output_type": "execute_result",
     "data": {
      "text/plain": [
       "Publica        0\n",
       "CO_GRUPO       0\n",
       "Sexo           0\n",
       "ANO_FIM_EM     0\n",
       "ANO_IN_GRAD    0\n",
       "QE_I08         0\n",
       "Renda          0\n",
       "dtype: int64"
      ]
     },
     "metadata": {},
     "execution_count": 6
    }
   ],
   "source": [
    "# TRATAR - Valores ausentes\n",
    "pfEnade.dropna(inplace=True)\n",
    "pfEnade.isna().sum()"
   ]
  },
  {
   "cell_type": "code",
   "execution_count": 4,
   "metadata": {},
   "outputs": [
    {
     "output_type": "execute_result",
     "data": {
      "text/plain": [
       "0     26016\n",
       "1     73580\n",
       "2    113862\n",
       "3     83054\n",
       "4     47066\n",
       "5     50149\n",
       "6     33165\n",
       "7      6670\n",
       "Name: Renda, dtype: int64"
      ]
     },
     "metadata": {},
     "execution_count": 4
    }
   ],
   "source": [
    "# TRATAR - RENDA - Categóricos\n",
    "pfEnade['Renda'] = pfEnade['QE_I08'].cat.codes  # Cria um grupo numérico a partir do categórica\n",
    "# del pfEnade['QE_I08']\n",
    "pfEnade['Renda'].value_counts().sort_index()"
   ]
  },
  {
   "cell_type": "code",
   "execution_count": 8,
   "metadata": {},
   "outputs": [],
   "source": [
    "# DICIONÁRIO - Renda\n",
    "dicRenda = {\n",
    "'A' : 'Até 1,5 salário mínimo (até R$ 1.431,00)',\n",
    "'B' : 'De 1,5 a 3 salários mínimos (R$ 1.431,01 a R$ 2.862,00)',\n",
    "'C' : 'De 3 a 4,5 salários mínimos (R$ 2.862,01 a R$ 4.293,00)',\n",
    "'D' : 'De 4,5 a 6 salários mínimos (R$ 4.293,01 a R$ 5.724,00)',\n",
    "'E' : 'De 6 a 10 salários mínimos (R$ 5.724,01 a R$ 9.540,00)',\n",
    "'F' : 'De 10 a 30 salários mínimos (R$ 9.540,01 a R$ 28.620,00)',\n",
    "'G' : 'Acima de 30 salários mínimos (mais de R$ 28.620,00)'} \n",
    "pfEnade['RendaDesc'] = [dicRenda[x] for x in pfEnade.QE_I08]"
   ]
  },
  {
   "cell_type": "code",
   "execution_count": null,
   "metadata": {},
   "outputs": [],
   "source": [
    "# TRATAR - Idade\n",
    "pfEnade = pfEnade.query('ANO_FIM_EM > 1990')\n",
    "pfEnade = pfEnade.query('ANO_FIM_EM < 2020')\n",
    "pfEnade = pfEnade.query('ANO_IN_GRAD > 2010')\n",
    "pfEnade = pfEnade.query('ANO_IN_GRAD < 2020')\n",
    "pfEnade = pfEnade.query('ANO_IN_GRAD > ANO_FIM_EM')\n",
    "pfEnade[\"Tempo\"] = pfEnade[\"ANO_IN_GRAD\"] - pfEnade[\"ANO_FIM_EM\"]\n",
    "del pfEnade['ANO_IN_GRAD']\n",
    "del pfEnade['ANO_FIM_EM']\n",
    "pfEnade.groupby(\"Tempo\").count()"
   ]
  },
  {
   "cell_type": "code",
   "execution_count": null,
   "metadata": {},
   "outputs": [],
   "source": [
    "# TRATAR - BOXPLOT - Tempo - Retirar outliers\n",
    "pfEnade = pfEnade.query('Tempo < 7')\n",
    "# stats.skew(pfEnade.Tempo)   # Pearson\n",
    "fig = px.box(pfEnade, y='Tempo')\n",
    "fig.update_layout(width=500, height=500)\n",
    "fig.show()"
   ]
  },
  {
   "cell_type": "code",
   "execution_count": null,
   "metadata": {},
   "outputs": [],
   "source": [
    "# TRATAR - Publico Privada\n",
    "# 0 = Pública\n",
    "# 1 = Privada\n",
    "pfEnade.loc[pfEnade['Publica'] == 118, 'Publica'] = 1     # 118 = Pessoa Jurídica de Direito Privado - Com fins lucrativos - Sociedade Civil\n",
    "pfEnade.loc[pfEnade['Publica'] == 120, 'Publica'] = 1     # 120 = Pessoa Jurídica de Direito Privado - Sem fins lucrativos - Associação de Utilidade Pública\n",
    "pfEnade.loc[pfEnade['Publica'] == 121, 'Publica'] = 1     # 121 = Pessoa Jurídica de Direito Privado - Sem fins lucrativos - Fundação\n",
    "pfEnade.loc[pfEnade['Publica'] == 10005, 'Publica'] = 1   # 10005 = Privada com fins lucrativos\n",
    "pfEnade.loc[pfEnade['Publica'] == 10006, 'Publica'] = 1   # 10006 = Pessoa Jurídica de Direito Privado - Com fins lucrativos - Sociedade Mercantil ou Comercial\n",
    "pfEnade.loc[pfEnade['Publica'] == 10007, 'Publica'] = 1   # 10007 = Pessoa Jurídica de Direito Privado - Sem fins lucrativos - Associação de Utilidade Pública\n",
    "pfEnade.loc[pfEnade['Publica'] == 10008, 'Publica'] = 1   # 10008 = Privada sem fins lucrativos\n",
    "pfEnade.loc[pfEnade['Publica'] == 10009, 'Publica'] = 1   # 10009 = Pessoa Jurídica de Direito Privado - Sem fins lucrativos - Sociedade\n",
    "pfEnade.loc[pfEnade['Publica'] == 17634, 'Publica'] = 0   # 17634 = Fundação Pública de Direito Privado Municipal\n",
    "pfEnade.loc[pfEnade['Publica'] == 93, 'Publica'] = 0      # 93 = Pessoa Jurídica de Direito Público - Federal\n",
    "pfEnade.loc[pfEnade['Publica'] == 115, 'Publica'] = 0     # 115 = Pessoa Jurídica de Direito Público - Estadual\n",
    "pfEnade.loc[pfEnade['Publica'] == 116, 'Publica'] = 0     # 116 = Pessoa Jurídica de Direito Público - Municipal\n",
    "pfEnade.loc[pfEnade['Publica'] == 10001, 'Publica'] = 0   # 10001 = Pessoa Jurídica de Direito Público - Estadual\n",
    "pfEnade.loc[pfEnade['Publica'] == 10002, 'Publica'] = 0   # 10002 = Pessoa Jurídica de Direito Público - Federal\n",
    "pfEnade.loc[pfEnade['Publica'] == 10003, 'Publica'] = 0   # 10003 = Pessoa Jurídica de Direito Público - Municipal\n",
    "pfEnade.groupby(\"Publica\").count()"
   ]
  },
  {
   "cell_type": "code",
   "execution_count": null,
   "metadata": {},
   "outputs": [],
   "source": [
    "# TRATAR - Humanas X Exatas \n",
    "# 0 = Humanas\n",
    "# 1 = Exatas\n",
    "pfEnade.loc[pfEnade['CO_GRUPO'] == '5', 'Exatas'] = 1        # 5 = MEDICINA VETERINÁRIA\n",
    "pfEnade.loc[pfEnade['CO_GRUPO'] == '6', 'Exatas'] = 1        # 6 = ODONTOLOGIA\n",
    "pfEnade.loc[pfEnade['CO_GRUPO'] == '12', 'Exatas'] = 1      # 12 = MEDICINA\n",
    "pfEnade.loc[pfEnade['CO_GRUPO'] == '17', 'Exatas'] = 0      # 17 = AGRONOMIA\n",
    "pfEnade.loc[pfEnade['CO_GRUPO'] == '19', 'Exatas'] = 1      # 19 = FARMÁCIA\n",
    "pfEnade.loc[pfEnade['CO_GRUPO'] == '21', 'Exatas'] = 0      # 21 = ARQUITETURA E URBANISMO\n",
    "pfEnade.loc[pfEnade['CO_GRUPO'] == '23', 'Exatas'] = 1      # 23 = ENFERMAGEM\n",
    "pfEnade.loc[pfEnade['CO_GRUPO'] == '27', 'Exatas'] = 1      # 27 = FONOAUDIOLOGIA\n",
    "pfEnade.loc[pfEnade['CO_GRUPO'] == '28', 'Exatas'] = 1      # 28 = NUTRIÇÃO\n",
    "pfEnade.loc[pfEnade['CO_GRUPO'] == '36', 'Exatas'] = 1      # 36 = FISIOTERAPIA\n",
    "pfEnade.loc[pfEnade['CO_GRUPO'] == '51', 'Exatas'] = 1      # 51 = ZOOTECNIA\n",
    "pfEnade.loc[pfEnade['CO_GRUPO'] == '55', 'Exatas'] = 1      # 55 = BIOMEDICINA\n",
    "pfEnade.loc[pfEnade['CO_GRUPO'] == '69', 'Exatas'] = 0      # 69 = TECNOLOGIA EM RADIOLOGIA\n",
    "pfEnade.loc[pfEnade['CO_GRUPO'] == '90', 'Exatas'] = 0      # 90 = TECNOLOGIA EM AGRONEGÓCIOS\n",
    "pfEnade.loc[pfEnade['CO_GRUPO'] == '91', 'Exatas'] = 1      # 91 = TECNOLOGIA EM GESTÃO HOSPITALAR\n",
    "pfEnade.loc[pfEnade['CO_GRUPO'] == '92', 'Exatas'] = 1      # 92 = TECNOLOGIA EM GESTÃO AMBIENTAL\n",
    "pfEnade.loc[pfEnade['CO_GRUPO'] == '95', 'Exatas'] = 1      # 95 = TECNOLOGIA EM ESTÉTICA E COSMÉTICA\n",
    "pfEnade.loc[pfEnade['CO_GRUPO'] == '3501', 'Exatas'] = 1    # 3501 = EDUCAÇÃO FÍSICA (BACHARELADO)\n",
    "pfEnade.loc[pfEnade['CO_GRUPO'] == '4003', 'Exatas'] = 0    # 4003 = ENGENHARIA DA COMPUTAÇÃO\n",
    "pfEnade.loc[pfEnade['CO_GRUPO'] == '5710', 'Exatas'] = 0    # 5710 = ENGENHARIA CIVIL\n",
    "pfEnade.loc[pfEnade['CO_GRUPO'] == '5806', 'Exatas'] = 0    # 5806 = ENGENHARIA ELÉTRICA\n",
    "pfEnade.loc[pfEnade['CO_GRUPO'] == '5814', 'Exatas'] = 0    # 5814 = ENGENHARIA DE CONTROLE E AUTOMAÇÃO\n",
    "pfEnade.loc[pfEnade['CO_GRUPO'] == '5902', 'Exatas'] = 0    # 5902 = ENGENHARIA MECÂNICA\n",
    "pfEnade.loc[pfEnade['CO_GRUPO'] == '6002', 'Exatas'] = 0    # 6002 = ENGENHARIA DE ALIMENTOS\n",
    "pfEnade.loc[pfEnade['CO_GRUPO'] == '6008', 'Exatas'] = 0    # 6008 = ENGENHARIA QUÍMICA\n",
    "pfEnade.loc[pfEnade['CO_GRUPO'] == '6208', 'Exatas'] = 0    # 6208 = ENGENHARIA DE PRODUÇÃO\n",
    "pfEnade.loc[pfEnade['CO_GRUPO'] == '6307', 'Exatas'] = 0    # 6307 = ENGENHARIA AMBIENTAL\n",
    "pfEnade.loc[pfEnade['CO_GRUPO'] == '6405', 'Exatas'] = 0    # 6405 = ENGENHARIA FLORESTAL\n",
    "pfEnade.loc[pfEnade['CO_GRUPO'] == '6410', 'Exatas'] = 0    # 6410 = TECNOLOGIA EM SEGURANÇA NO TRABALHO\n",
    "del pfEnade['CO_GRUPO']\n",
    "pfEnade['Exatas'].value_counts()\n",
    "pfEnade['Exatas'] = pfEnade['Exatas'].astype(int)\n",
    "#pfEnade['CO_GRUPO'].value_counts()"
   ]
  },
  {
   "cell_type": "code",
   "execution_count": 13,
   "metadata": {},
   "outputs": [
    {
     "output_type": "error",
     "ename": "KeyError",
     "evalue": "2",
     "traceback": [
      "\u001b[1;31m---------------------------------------------------------------------------\u001b[0m",
      "\u001b[1;31mKeyError\u001b[0m                                  Traceback (most recent call last)",
      "\u001b[1;32m<ipython-input-13-849fad5055ef>\u001b[0m in \u001b[0;36m<module>\u001b[1;34m\u001b[0m\n\u001b[0;32m      8\u001b[0m \u001b[1;34m'F'\u001b[0m \u001b[1;33m:\u001b[0m \u001b[1;34m'De 10 a 30 salários mínimos (R$ 9.540,01 a R$ 28.620,00)'\u001b[0m\u001b[1;33m,\u001b[0m\u001b[1;33m\u001b[0m\u001b[1;33m\u001b[0m\u001b[0m\n\u001b[0;32m      9\u001b[0m 'G' : 'Acima de 30 salários mínimos (mais de R$ 28.620,00)'} \n\u001b[1;32m---> 10\u001b[1;33m \u001b[0mpfEnade\u001b[0m\u001b[1;33m[\u001b[0m\u001b[1;34m'RendaDesc'\u001b[0m\u001b[1;33m]\u001b[0m \u001b[1;33m=\u001b[0m \u001b[1;33m[\u001b[0m\u001b[0mdicRenda\u001b[0m\u001b[1;33m[\u001b[0m\u001b[0mx\u001b[0m\u001b[1;33m]\u001b[0m \u001b[1;32mfor\u001b[0m \u001b[0mx\u001b[0m \u001b[1;32min\u001b[0m \u001b[0mpfEnade\u001b[0m\u001b[1;33m.\u001b[0m\u001b[0mRenda\u001b[0m\u001b[1;33m]\u001b[0m\u001b[1;33m\u001b[0m\u001b[1;33m\u001b[0m\u001b[0m\n\u001b[0m",
      "\u001b[1;32m<ipython-input-13-849fad5055ef>\u001b[0m in \u001b[0;36m<listcomp>\u001b[1;34m(.0)\u001b[0m\n\u001b[0;32m      8\u001b[0m \u001b[1;34m'F'\u001b[0m \u001b[1;33m:\u001b[0m \u001b[1;34m'De 10 a 30 salários mínimos (R$ 9.540,01 a R$ 28.620,00)'\u001b[0m\u001b[1;33m,\u001b[0m\u001b[1;33m\u001b[0m\u001b[1;33m\u001b[0m\u001b[0m\n\u001b[0;32m      9\u001b[0m 'G' : 'Acima de 30 salários mínimos (mais de R$ 28.620,00)'} \n\u001b[1;32m---> 10\u001b[1;33m \u001b[0mpfEnade\u001b[0m\u001b[1;33m[\u001b[0m\u001b[1;34m'RendaDesc'\u001b[0m\u001b[1;33m]\u001b[0m \u001b[1;33m=\u001b[0m \u001b[1;33m[\u001b[0m\u001b[0mdicRenda\u001b[0m\u001b[1;33m[\u001b[0m\u001b[0mx\u001b[0m\u001b[1;33m]\u001b[0m \u001b[1;32mfor\u001b[0m \u001b[0mx\u001b[0m \u001b[1;32min\u001b[0m \u001b[0mpfEnade\u001b[0m\u001b[1;33m.\u001b[0m\u001b[0mRenda\u001b[0m\u001b[1;33m]\u001b[0m\u001b[1;33m\u001b[0m\u001b[1;33m\u001b[0m\u001b[0m\n\u001b[0m",
      "\u001b[1;31mKeyError\u001b[0m: 2"
     ]
    }
   ],
   "source": [
    "\n"
   ]
  },
  {
   "cell_type": "code",
   "execution_count": null,
   "metadata": {},
   "outputs": [],
   "source": [
    "# HISTOGRAMA - Renda\n",
    "pfEnade['Renda'].hist(bins=5)"
   ]
  },
  {
   "cell_type": "code",
   "execution_count": null,
   "metadata": {},
   "outputs": [],
   "source": [
    "# PERCENTUAL - Renda\n",
    "distRenda = pfEnade['Renda'].value_counts()\n",
    "\n",
    "percentRenda = [100*x/distRenda.sum() for x in distRenda]\n",
    "percentRenda"
   ]
  },
  {
   "cell_type": "code",
   "execution_count": null,
   "metadata": {},
   "outputs": [],
   "source": [
    "pfEnade.groupby('Renda').hist()"
   ]
  },
  {
   "cell_type": "code",
   "execution_count": null,
   "metadata": {},
   "outputs": [],
   "source": []
  }
 ]
}