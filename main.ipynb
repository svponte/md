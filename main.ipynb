{
  "nbformat": 4,
  "nbformat_minor": 0,
  "metadata": {
    "colab": {
      "name": "main.ipynb",
      "provenance": [],
      "authorship_tag": "ABX9TyP8lcu8nTVvbm8xE3+cNuti",
      "include_colab_link": true
    },
    "kernelspec": {
      "name": "python385jvsc74a57bd0b3ba2566441a7c06988d0923437866b63cedc61552a5af99d1f4fb67d367b25f",
      "display_name": "Python 3.8.5 64-bit (conda)"
    },
    "language_info": {
      "name": "python",
      "version": "3.8.5-final"
    }
  },
  "cells": [
    {
      "cell_type": "markdown",
      "metadata": {
        "id": "view-in-github",
        "colab_type": "text"
      },
      "source": [
        "<a href=\"https://colab.research.google.com/github/svponte/md/blob/main/main.ipynb\" target=\"_parent\"><img src=\"https://colab.research.google.com/assets/colab-badge.svg\" alt=\"Open In Colab\"/></a>"
      ]
    },
    {
      "cell_type": "markdown",
      "metadata": {
        "id": "Zb3jzcpgGR-4"
      },
      "source": [
        "# **Mineração de Dados**"
      ]
    },
    {
      "cell_type": "code",
      "metadata": {
        "colab": {
          "base_uri": "https://localhost:8080/"
        },
        "id": "gmVf8fHrAD-T",
        "outputId": "de04e870-1ba5-47f0-8763-03324ae03813"
      },
      "source": [
        "import pandas as pd\n",
        "from sklearn.tree import DecisionTreeRegressor\n",
        "\n",
        "# Carrega dataframe\n",
        "pdEnade = pd.read_csv(\"microdados_enade_2019.txt\", sep = ';', low_memory=False)\n",
        "\n",
        "# Quantas linhas e colunas no dataframe\n",
        "pdEnade.shape\n"
      ],
      "execution_count": 5,
      "outputs": [
        {
          "output_type": "execute_result",
          "data": {
            "text/plain": [
              "(130127, 137)"
            ]
          },
          "metadata": {},
          "execution_count": 5
        }
      ]
    },
    {
      "cell_type": "code",
      "execution_count": 2,
      "metadata": {},
      "outputs": [
        {
          "output_type": "execute_result",
          "data": {
            "text/plain": [
              "Index(['NU_ANO', 'CO_IES', 'CO_CATEGAD', 'CO_ORGACAD', 'CO_GRUPO', 'CO_CURSO',\n",
              "       'CO_MODALIDADE', 'CO_MUNIC_CURSO', 'CO_UF_CURSO', 'CO_REGIAO_CURSO',\n",
              "       ...\n",
              "       'QE_I59', 'QE_I60', 'QE_I61', 'QE_I62', 'QE_I63', 'QE_I64', 'QE_I65',\n",
              "       'QE_I66', 'QE_I67', 'QE_I68'],\n",
              "      dtype='object', length=137)"
            ]
          },
          "metadata": {},
          "execution_count": 2
        }
      ],
      "source": [
        "# Qual o nome das variáveis (colunas)\n",
        "pdEnade.columns\n"
      ]
    },
    {
      "cell_type": "code",
      "execution_count": 3,
      "metadata": {},
      "outputs": [
        {
          "output_type": "execute_result",
          "data": {
            "text/plain": [
              "   NU_ANO  CO_IES  CO_CATEGAD  CO_ORGACAD  CO_GRUPO  CO_CURSO  CO_MODALIDADE  \\\n",
              "0    2019       1       10002       10028      5710         3              1   \n",
              "1    2019       1       10002       10028      5710         3              1   \n",
              "2    2019       1       10002       10028      5710         3              1   \n",
              "3    2019       1       10002       10028      5710         3              1   \n",
              "4    2019       1       10002       10028      5710         3              1   \n",
              "\n",
              "   CO_MUNIC_CURSO  CO_UF_CURSO  CO_REGIAO_CURSO  ...  QE_I59 QE_I60  QE_I61  \\\n",
              "0         5103403           51                5  ...     2.0    5.0     1.0   \n",
              "1         5103403           51                5  ...     1.0    4.0     2.0   \n",
              "2         5103403           51                5  ...     3.0    4.0     4.0   \n",
              "3         5103403           51                5  ...     3.0    5.0     2.0   \n",
              "4         5103403           51                5  ...     NaN    NaN     NaN   \n",
              "\n",
              "   QE_I62  QE_I63  QE_I64  QE_I65  QE_I66  QE_I67  QE_I68  \n",
              "0     1.0     2.0     5.0     8.0     7.0     1.0     2.0  \n",
              "1     2.0     2.0     5.0     4.0     4.0     2.0     2.0  \n",
              "2     3.0     3.0     4.0     1.0     1.0     1.0     4.0  \n",
              "3     2.0     2.0     3.0     3.0     4.0     3.0     3.0  \n",
              "4     NaN     NaN     NaN     NaN     NaN     NaN     NaN  \n",
              "\n",
              "[5 rows x 137 columns]"
            ],
            "text/html": "<div>\n<style scoped>\n    .dataframe tbody tr th:only-of-type {\n        vertical-align: middle;\n    }\n\n    .dataframe tbody tr th {\n        vertical-align: top;\n    }\n\n    .dataframe thead th {\n        text-align: right;\n    }\n</style>\n<table border=\"1\" class=\"dataframe\">\n  <thead>\n    <tr style=\"text-align: right;\">\n      <th></th>\n      <th>NU_ANO</th>\n      <th>CO_IES</th>\n      <th>CO_CATEGAD</th>\n      <th>CO_ORGACAD</th>\n      <th>CO_GRUPO</th>\n      <th>CO_CURSO</th>\n      <th>CO_MODALIDADE</th>\n      <th>CO_MUNIC_CURSO</th>\n      <th>CO_UF_CURSO</th>\n      <th>CO_REGIAO_CURSO</th>\n      <th>...</th>\n      <th>QE_I59</th>\n      <th>QE_I60</th>\n      <th>QE_I61</th>\n      <th>QE_I62</th>\n      <th>QE_I63</th>\n      <th>QE_I64</th>\n      <th>QE_I65</th>\n      <th>QE_I66</th>\n      <th>QE_I67</th>\n      <th>QE_I68</th>\n    </tr>\n  </thead>\n  <tbody>\n    <tr>\n      <th>0</th>\n      <td>2019</td>\n      <td>1</td>\n      <td>10002</td>\n      <td>10028</td>\n      <td>5710</td>\n      <td>3</td>\n      <td>1</td>\n      <td>5103403</td>\n      <td>51</td>\n      <td>5</td>\n      <td>...</td>\n      <td>2.0</td>\n      <td>5.0</td>\n      <td>1.0</td>\n      <td>1.0</td>\n      <td>2.0</td>\n      <td>5.0</td>\n      <td>8.0</td>\n      <td>7.0</td>\n      <td>1.0</td>\n      <td>2.0</td>\n    </tr>\n    <tr>\n      <th>1</th>\n      <td>2019</td>\n      <td>1</td>\n      <td>10002</td>\n      <td>10028</td>\n      <td>5710</td>\n      <td>3</td>\n      <td>1</td>\n      <td>5103403</td>\n      <td>51</td>\n      <td>5</td>\n      <td>...</td>\n      <td>1.0</td>\n      <td>4.0</td>\n      <td>2.0</td>\n      <td>2.0</td>\n      <td>2.0</td>\n      <td>5.0</td>\n      <td>4.0</td>\n      <td>4.0</td>\n      <td>2.0</td>\n      <td>2.0</td>\n    </tr>\n    <tr>\n      <th>2</th>\n      <td>2019</td>\n      <td>1</td>\n      <td>10002</td>\n      <td>10028</td>\n      <td>5710</td>\n      <td>3</td>\n      <td>1</td>\n      <td>5103403</td>\n      <td>51</td>\n      <td>5</td>\n      <td>...</td>\n      <td>3.0</td>\n      <td>4.0</td>\n      <td>4.0</td>\n      <td>3.0</td>\n      <td>3.0</td>\n      <td>4.0</td>\n      <td>1.0</td>\n      <td>1.0</td>\n      <td>1.0</td>\n      <td>4.0</td>\n    </tr>\n    <tr>\n      <th>3</th>\n      <td>2019</td>\n      <td>1</td>\n      <td>10002</td>\n      <td>10028</td>\n      <td>5710</td>\n      <td>3</td>\n      <td>1</td>\n      <td>5103403</td>\n      <td>51</td>\n      <td>5</td>\n      <td>...</td>\n      <td>3.0</td>\n      <td>5.0</td>\n      <td>2.0</td>\n      <td>2.0</td>\n      <td>2.0</td>\n      <td>3.0</td>\n      <td>3.0</td>\n      <td>4.0</td>\n      <td>3.0</td>\n      <td>3.0</td>\n    </tr>\n    <tr>\n      <th>4</th>\n      <td>2019</td>\n      <td>1</td>\n      <td>10002</td>\n      <td>10028</td>\n      <td>5710</td>\n      <td>3</td>\n      <td>1</td>\n      <td>5103403</td>\n      <td>51</td>\n      <td>5</td>\n      <td>...</td>\n      <td>NaN</td>\n      <td>NaN</td>\n      <td>NaN</td>\n      <td>NaN</td>\n      <td>NaN</td>\n      <td>NaN</td>\n      <td>NaN</td>\n      <td>NaN</td>\n      <td>NaN</td>\n      <td>NaN</td>\n    </tr>\n  </tbody>\n</table>\n<p>5 rows × 137 columns</p>\n</div>"
          },
          "metadata": {},
          "execution_count": 3
        }
      ],
      "source": [
        "\n",
        "# Visualizar as primeiras linhas do dataframe\n",
        "pdEnade.head()\n",
        "\n"
      ]
    },
    {
      "cell_type": "code",
      "execution_count": 4,
      "metadata": {},
      "outputs": [
        {
          "output_type": "execute_result",
          "data": {
            "text/plain": [
              "NU_ANO           0\n",
              "CO_IES           0\n",
              "CO_CATEGAD       0\n",
              "CO_ORGACAD       0\n",
              "CO_GRUPO         0\n",
              "              ... \n",
              "QE_I64        5211\n",
              "QE_I65        5211\n",
              "QE_I66        5211\n",
              "QE_I67        5211\n",
              "QE_I68        5213\n",
              "Length: 137, dtype: int64"
            ]
          },
          "metadata": {},
          "execution_count": 4
        }
      ],
      "source": [
        "# Quais os dados faltantes\n",
        "pdEnade.isnull().sum()\n",
        "\n"
      ]
    },
    {
      "cell_type": "code",
      "execution_count": 6,
      "metadata": {},
      "outputs": [
        {
          "output_type": "execute_result",
          "data": {
            "text/plain": [
              "         NU_ANO         CO_IES     CO_CATEGAD     CO_ORGACAD       CO_GRUPO  \\\n",
              "count  130127.0  130127.000000  130127.000000  130127.000000  130127.000000   \n",
              "mean     2019.0     651.845981    8092.331207   10026.156770    1978.701568   \n",
              "std         0.0    1018.862493    3906.414128       3.217906    2736.568759   \n",
              "min      2019.0       1.000000      93.000000   10019.000000       5.000000   \n",
              "25%      2019.0     243.000000   10002.000000   10022.000000      17.000000   \n",
              "50%      2019.0     527.000000   10005.000000   10028.000000      23.000000   \n",
              "75%      2019.0     634.000000   10007.000000   10028.000000    5710.000000   \n",
              "max      2019.0   18759.000000   10009.000000   10028.000000    6405.000000   \n",
              "\n",
              "            CO_CURSO  CO_MODALIDADE  CO_MUNIC_CURSO    CO_UF_CURSO  \\\n",
              "count  130127.000000       130127.0    1.301270e+05  130127.000000   \n",
              "mean    19807.223405            1.0    3.436635e+06      34.179778   \n",
              "std     15330.675880            0.0    8.254507e+05       8.254537   \n",
              "min         3.000000            1.0    1.100049e+06      11.000000   \n",
              "25%      9709.000000            1.0    3.106200e+06      31.000000   \n",
              "50%     15475.000000            1.0    3.509502e+06      35.000000   \n",
              "75%     21599.000000            1.0    4.106902e+06      41.000000   \n",
              "max     56664.000000            1.0    5.300108e+06      53.000000   \n",
              "\n",
              "       CO_REGIAO_CURSO  ...         QE_I59         QE_I60         QE_I61  \\\n",
              "count    130127.000000  ...  124917.000000  124917.000000  124916.000000   \n",
              "mean          3.068541  ...       5.113371       5.098265       4.910692   \n",
              "std           0.908658  ...       1.328882       1.323329       1.343456   \n",
              "min           1.000000  ...       1.000000       1.000000       1.000000   \n",
              "25%           3.000000  ...       5.000000       4.000000       4.000000   \n",
              "50%           3.000000  ...       6.000000       6.000000       5.000000   \n",
              "75%           4.000000  ...       6.000000       6.000000       6.000000   \n",
              "max           5.000000  ...       8.000000       8.000000       8.000000   \n",
              "\n",
              "              QE_I62         QE_I63         QE_I64         QE_I65  \\\n",
              "count  124915.000000  124914.000000  124916.000000  124916.000000   \n",
              "mean        4.787712       4.919569       5.345168       5.354630   \n",
              "std         1.456123       1.381967       1.111004       1.562077   \n",
              "min         1.000000       1.000000       1.000000       1.000000   \n",
              "25%         4.000000       4.000000       5.000000       5.000000   \n",
              "50%         5.000000       5.000000       6.000000       6.000000   \n",
              "75%         6.000000       6.000000       6.000000       6.000000   \n",
              "max         8.000000       8.000000       8.000000       8.000000   \n",
              "\n",
              "              QE_I66         QE_I67         QE_I68  \n",
              "count  124916.000000  124916.000000  124914.000000  \n",
              "mean        5.274240       4.936269       4.970468  \n",
              "std         1.220731       1.561222       1.427707  \n",
              "min         1.000000       1.000000       1.000000  \n",
              "25%         5.000000       4.000000       4.000000  \n",
              "50%         6.000000       5.000000       6.000000  \n",
              "75%         6.000000       6.000000       6.000000  \n",
              "max         8.000000       8.000000       8.000000  \n",
              "\n",
              "[8 rows x 85 columns]"
            ],
            "text/html": "<div>\n<style scoped>\n    .dataframe tbody tr th:only-of-type {\n        vertical-align: middle;\n    }\n\n    .dataframe tbody tr th {\n        vertical-align: top;\n    }\n\n    .dataframe thead th {\n        text-align: right;\n    }\n</style>\n<table border=\"1\" class=\"dataframe\">\n  <thead>\n    <tr style=\"text-align: right;\">\n      <th></th>\n      <th>NU_ANO</th>\n      <th>CO_IES</th>\n      <th>CO_CATEGAD</th>\n      <th>CO_ORGACAD</th>\n      <th>CO_GRUPO</th>\n      <th>CO_CURSO</th>\n      <th>CO_MODALIDADE</th>\n      <th>CO_MUNIC_CURSO</th>\n      <th>CO_UF_CURSO</th>\n      <th>CO_REGIAO_CURSO</th>\n      <th>...</th>\n      <th>QE_I59</th>\n      <th>QE_I60</th>\n      <th>QE_I61</th>\n      <th>QE_I62</th>\n      <th>QE_I63</th>\n      <th>QE_I64</th>\n      <th>QE_I65</th>\n      <th>QE_I66</th>\n      <th>QE_I67</th>\n      <th>QE_I68</th>\n    </tr>\n  </thead>\n  <tbody>\n    <tr>\n      <th>count</th>\n      <td>130127.0</td>\n      <td>130127.000000</td>\n      <td>130127.000000</td>\n      <td>130127.000000</td>\n      <td>130127.000000</td>\n      <td>130127.000000</td>\n      <td>130127.0</td>\n      <td>1.301270e+05</td>\n      <td>130127.000000</td>\n      <td>130127.000000</td>\n      <td>...</td>\n      <td>124917.000000</td>\n      <td>124917.000000</td>\n      <td>124916.000000</td>\n      <td>124915.000000</td>\n      <td>124914.000000</td>\n      <td>124916.000000</td>\n      <td>124916.000000</td>\n      <td>124916.000000</td>\n      <td>124916.000000</td>\n      <td>124914.000000</td>\n    </tr>\n    <tr>\n      <th>mean</th>\n      <td>2019.0</td>\n      <td>651.845981</td>\n      <td>8092.331207</td>\n      <td>10026.156770</td>\n      <td>1978.701568</td>\n      <td>19807.223405</td>\n      <td>1.0</td>\n      <td>3.436635e+06</td>\n      <td>34.179778</td>\n      <td>3.068541</td>\n      <td>...</td>\n      <td>5.113371</td>\n      <td>5.098265</td>\n      <td>4.910692</td>\n      <td>4.787712</td>\n      <td>4.919569</td>\n      <td>5.345168</td>\n      <td>5.354630</td>\n      <td>5.274240</td>\n      <td>4.936269</td>\n      <td>4.970468</td>\n    </tr>\n    <tr>\n      <th>std</th>\n      <td>0.0</td>\n      <td>1018.862493</td>\n      <td>3906.414128</td>\n      <td>3.217906</td>\n      <td>2736.568759</td>\n      <td>15330.675880</td>\n      <td>0.0</td>\n      <td>8.254507e+05</td>\n      <td>8.254537</td>\n      <td>0.908658</td>\n      <td>...</td>\n      <td>1.328882</td>\n      <td>1.323329</td>\n      <td>1.343456</td>\n      <td>1.456123</td>\n      <td>1.381967</td>\n      <td>1.111004</td>\n      <td>1.562077</td>\n      <td>1.220731</td>\n      <td>1.561222</td>\n      <td>1.427707</td>\n    </tr>\n    <tr>\n      <th>min</th>\n      <td>2019.0</td>\n      <td>1.000000</td>\n      <td>93.000000</td>\n      <td>10019.000000</td>\n      <td>5.000000</td>\n      <td>3.000000</td>\n      <td>1.0</td>\n      <td>1.100049e+06</td>\n      <td>11.000000</td>\n      <td>1.000000</td>\n      <td>...</td>\n      <td>1.000000</td>\n      <td>1.000000</td>\n      <td>1.000000</td>\n      <td>1.000000</td>\n      <td>1.000000</td>\n      <td>1.000000</td>\n      <td>1.000000</td>\n      <td>1.000000</td>\n      <td>1.000000</td>\n      <td>1.000000</td>\n    </tr>\n    <tr>\n      <th>25%</th>\n      <td>2019.0</td>\n      <td>243.000000</td>\n      <td>10002.000000</td>\n      <td>10022.000000</td>\n      <td>17.000000</td>\n      <td>9709.000000</td>\n      <td>1.0</td>\n      <td>3.106200e+06</td>\n      <td>31.000000</td>\n      <td>3.000000</td>\n      <td>...</td>\n      <td>5.000000</td>\n      <td>4.000000</td>\n      <td>4.000000</td>\n      <td>4.000000</td>\n      <td>4.000000</td>\n      <td>5.000000</td>\n      <td>5.000000</td>\n      <td>5.000000</td>\n      <td>4.000000</td>\n      <td>4.000000</td>\n    </tr>\n    <tr>\n      <th>50%</th>\n      <td>2019.0</td>\n      <td>527.000000</td>\n      <td>10005.000000</td>\n      <td>10028.000000</td>\n      <td>23.000000</td>\n      <td>15475.000000</td>\n      <td>1.0</td>\n      <td>3.509502e+06</td>\n      <td>35.000000</td>\n      <td>3.000000</td>\n      <td>...</td>\n      <td>6.000000</td>\n      <td>6.000000</td>\n      <td>5.000000</td>\n      <td>5.000000</td>\n      <td>5.000000</td>\n      <td>6.000000</td>\n      <td>6.000000</td>\n      <td>6.000000</td>\n      <td>5.000000</td>\n      <td>6.000000</td>\n    </tr>\n    <tr>\n      <th>75%</th>\n      <td>2019.0</td>\n      <td>634.000000</td>\n      <td>10007.000000</td>\n      <td>10028.000000</td>\n      <td>5710.000000</td>\n      <td>21599.000000</td>\n      <td>1.0</td>\n      <td>4.106902e+06</td>\n      <td>41.000000</td>\n      <td>4.000000</td>\n      <td>...</td>\n      <td>6.000000</td>\n      <td>6.000000</td>\n      <td>6.000000</td>\n      <td>6.000000</td>\n      <td>6.000000</td>\n      <td>6.000000</td>\n      <td>6.000000</td>\n      <td>6.000000</td>\n      <td>6.000000</td>\n      <td>6.000000</td>\n    </tr>\n    <tr>\n      <th>max</th>\n      <td>2019.0</td>\n      <td>18759.000000</td>\n      <td>10009.000000</td>\n      <td>10028.000000</td>\n      <td>6405.000000</td>\n      <td>56664.000000</td>\n      <td>1.0</td>\n      <td>5.300108e+06</td>\n      <td>53.000000</td>\n      <td>5.000000</td>\n      <td>...</td>\n      <td>8.000000</td>\n      <td>8.000000</td>\n      <td>8.000000</td>\n      <td>8.000000</td>\n      <td>8.000000</td>\n      <td>8.000000</td>\n      <td>8.000000</td>\n      <td>8.000000</td>\n      <td>8.000000</td>\n      <td>8.000000</td>\n    </tr>\n  </tbody>\n</table>\n<p>8 rows × 85 columns</p>\n</div>"
          },
          "metadata": {},
          "execution_count": 6
        }
      ],
      "source": [
        "# Sumário estatístico \n",
        "pdEnade.describe()\n",
        "\n"
      ]
    },
    {
      "cell_type": "code",
      "execution_count": 7,
      "metadata": {},
      "outputs": [
        {
          "output_type": "execute_result",
          "data": {
            "text/plain": [
              "   NU_ANO  CO_IES  CO_CATEGAD  CO_ORGACAD  CO_GRUPO  CO_CURSO  CO_MODALIDADE  \\\n",
              "0    2019       1       10002       10028      5710         3              1   \n",
              "1    2019       1       10002       10028      5710         3              1   \n",
              "2    2019       1       10002       10028      5710         3              1   \n",
              "3    2019       1       10002       10028      5710         3              1   \n",
              "4    2019       1       10002       10028      5710         3              1   \n",
              "\n",
              "   CO_MUNIC_CURSO  CO_UF_CURSO  CO_REGIAO_CURSO  ...  QE_I60 QE_I61  QE_I62  \\\n",
              "0         5103403           51                5  ...     5.0    1.0     1.0   \n",
              "1         5103403           51                5  ...     4.0    2.0     2.0   \n",
              "2         5103403           51                5  ...     4.0    4.0     3.0   \n",
              "3         5103403           51                5  ...     5.0    2.0     2.0   \n",
              "4         5103403           51                5  ...     NaN    NaN     NaN   \n",
              "\n",
              "   QE_I63  QE_I64  QE_I65  QE_I66  QE_I67  QE_I68  Tempo  \n",
              "0     2.0     5.0     8.0     7.0     1.0     2.0      2  \n",
              "1     2.0     5.0     4.0     4.0     2.0     2.0      6  \n",
              "2     3.0     4.0     1.0     1.0     1.0     4.0      4  \n",
              "3     2.0     3.0     3.0     4.0     3.0     3.0      1  \n",
              "4     NaN     NaN     NaN     NaN     NaN     NaN      1  \n",
              "\n",
              "[5 rows x 138 columns]"
            ],
            "text/html": "<div>\n<style scoped>\n    .dataframe tbody tr th:only-of-type {\n        vertical-align: middle;\n    }\n\n    .dataframe tbody tr th {\n        vertical-align: top;\n    }\n\n    .dataframe thead th {\n        text-align: right;\n    }\n</style>\n<table border=\"1\" class=\"dataframe\">\n  <thead>\n    <tr style=\"text-align: right;\">\n      <th></th>\n      <th>NU_ANO</th>\n      <th>CO_IES</th>\n      <th>CO_CATEGAD</th>\n      <th>CO_ORGACAD</th>\n      <th>CO_GRUPO</th>\n      <th>CO_CURSO</th>\n      <th>CO_MODALIDADE</th>\n      <th>CO_MUNIC_CURSO</th>\n      <th>CO_UF_CURSO</th>\n      <th>CO_REGIAO_CURSO</th>\n      <th>...</th>\n      <th>QE_I60</th>\n      <th>QE_I61</th>\n      <th>QE_I62</th>\n      <th>QE_I63</th>\n      <th>QE_I64</th>\n      <th>QE_I65</th>\n      <th>QE_I66</th>\n      <th>QE_I67</th>\n      <th>QE_I68</th>\n      <th>Tempo</th>\n    </tr>\n  </thead>\n  <tbody>\n    <tr>\n      <th>0</th>\n      <td>2019</td>\n      <td>1</td>\n      <td>10002</td>\n      <td>10028</td>\n      <td>5710</td>\n      <td>3</td>\n      <td>1</td>\n      <td>5103403</td>\n      <td>51</td>\n      <td>5</td>\n      <td>...</td>\n      <td>5.0</td>\n      <td>1.0</td>\n      <td>1.0</td>\n      <td>2.0</td>\n      <td>5.0</td>\n      <td>8.0</td>\n      <td>7.0</td>\n      <td>1.0</td>\n      <td>2.0</td>\n      <td>2</td>\n    </tr>\n    <tr>\n      <th>1</th>\n      <td>2019</td>\n      <td>1</td>\n      <td>10002</td>\n      <td>10028</td>\n      <td>5710</td>\n      <td>3</td>\n      <td>1</td>\n      <td>5103403</td>\n      <td>51</td>\n      <td>5</td>\n      <td>...</td>\n      <td>4.0</td>\n      <td>2.0</td>\n      <td>2.0</td>\n      <td>2.0</td>\n      <td>5.0</td>\n      <td>4.0</td>\n      <td>4.0</td>\n      <td>2.0</td>\n      <td>2.0</td>\n      <td>6</td>\n    </tr>\n    <tr>\n      <th>2</th>\n      <td>2019</td>\n      <td>1</td>\n      <td>10002</td>\n      <td>10028</td>\n      <td>5710</td>\n      <td>3</td>\n      <td>1</td>\n      <td>5103403</td>\n      <td>51</td>\n      <td>5</td>\n      <td>...</td>\n      <td>4.0</td>\n      <td>4.0</td>\n      <td>3.0</td>\n      <td>3.0</td>\n      <td>4.0</td>\n      <td>1.0</td>\n      <td>1.0</td>\n      <td>1.0</td>\n      <td>4.0</td>\n      <td>4</td>\n    </tr>\n    <tr>\n      <th>3</th>\n      <td>2019</td>\n      <td>1</td>\n      <td>10002</td>\n      <td>10028</td>\n      <td>5710</td>\n      <td>3</td>\n      <td>1</td>\n      <td>5103403</td>\n      <td>51</td>\n      <td>5</td>\n      <td>...</td>\n      <td>5.0</td>\n      <td>2.0</td>\n      <td>2.0</td>\n      <td>2.0</td>\n      <td>3.0</td>\n      <td>3.0</td>\n      <td>4.0</td>\n      <td>3.0</td>\n      <td>3.0</td>\n      <td>1</td>\n    </tr>\n    <tr>\n      <th>4</th>\n      <td>2019</td>\n      <td>1</td>\n      <td>10002</td>\n      <td>10028</td>\n      <td>5710</td>\n      <td>3</td>\n      <td>1</td>\n      <td>5103403</td>\n      <td>51</td>\n      <td>5</td>\n      <td>...</td>\n      <td>NaN</td>\n      <td>NaN</td>\n      <td>NaN</td>\n      <td>NaN</td>\n      <td>NaN</td>\n      <td>NaN</td>\n      <td>NaN</td>\n      <td>NaN</td>\n      <td>NaN</td>\n      <td>1</td>\n    </tr>\n  </tbody>\n</table>\n<p>5 rows × 138 columns</p>\n</div>"
          },
          "metadata": {},
          "execution_count": 7
        }
      ],
      "source": [
        "# Calculando a idade\n",
        "pdEnade[\"Tempo\"] = pdEnade[\"ANO_IN_GRAD\"] - pdEnade[\"ANO_FIM_EM\"]\n",
        "pdEnade.head()"
      ]
    },
    {
      "cell_type": "code",
      "execution_count": 8,
      "metadata": {},
      "outputs": [
        {
          "output_type": "execute_result",
          "data": {
            "text/plain": [
              "   NU_ANO  CO_IES  CO_CATEGAD  CO_ORGACAD  CO_GRUPO  CO_CURSO  CO_MODALIDADE  \\\n",
              "0    2019       1       10002       10028      5710         3              1   \n",
              "1    2019       1       10002       10028      5710         3              1   \n",
              "2    2019       1       10002       10028      5710         3              1   \n",
              "3    2019       1       10002       10028      5710         3              1   \n",
              "4    2019       1       10002       10028      5710         3              1   \n",
              "\n",
              "   CO_MUNIC_CURSO  CO_UF_CURSO  CO_REGIAO_CURSO  ...  QE_I60 QE_I61  QE_I62  \\\n",
              "0         5103403           51                5  ...     5.0    1.0     1.0   \n",
              "1         5103403           51                5  ...     4.0    2.0     2.0   \n",
              "2         5103403           51                5  ...     4.0    4.0     3.0   \n",
              "3         5103403           51                5  ...     5.0    2.0     2.0   \n",
              "4         5103403           51                5  ...     NaN    NaN     NaN   \n",
              "\n",
              "   QE_I63  QE_I64  QE_I65  QE_I66  QE_I67  QE_I68  Tempo  \n",
              "0     2.0     5.0     8.0     7.0     1.0     2.0      2  \n",
              "1     2.0     5.0     4.0     4.0     2.0     2.0      6  \n",
              "2     3.0     4.0     1.0     1.0     1.0     4.0      4  \n",
              "3     2.0     3.0     3.0     4.0     3.0     3.0      1  \n",
              "4     NaN     NaN     NaN     NaN     NaN     NaN      1  \n",
              "\n",
              "[5 rows x 138 columns]"
            ],
            "text/html": "<div>\n<style scoped>\n    .dataframe tbody tr th:only-of-type {\n        vertical-align: middle;\n    }\n\n    .dataframe tbody tr th {\n        vertical-align: top;\n    }\n\n    .dataframe thead th {\n        text-align: right;\n    }\n</style>\n<table border=\"1\" class=\"dataframe\">\n  <thead>\n    <tr style=\"text-align: right;\">\n      <th></th>\n      <th>NU_ANO</th>\n      <th>CO_IES</th>\n      <th>CO_CATEGAD</th>\n      <th>CO_ORGACAD</th>\n      <th>CO_GRUPO</th>\n      <th>CO_CURSO</th>\n      <th>CO_MODALIDADE</th>\n      <th>CO_MUNIC_CURSO</th>\n      <th>CO_UF_CURSO</th>\n      <th>CO_REGIAO_CURSO</th>\n      <th>...</th>\n      <th>QE_I60</th>\n      <th>QE_I61</th>\n      <th>QE_I62</th>\n      <th>QE_I63</th>\n      <th>QE_I64</th>\n      <th>QE_I65</th>\n      <th>QE_I66</th>\n      <th>QE_I67</th>\n      <th>QE_I68</th>\n      <th>Tempo</th>\n    </tr>\n  </thead>\n  <tbody>\n    <tr>\n      <th>0</th>\n      <td>2019</td>\n      <td>1</td>\n      <td>10002</td>\n      <td>10028</td>\n      <td>5710</td>\n      <td>3</td>\n      <td>1</td>\n      <td>5103403</td>\n      <td>51</td>\n      <td>5</td>\n      <td>...</td>\n      <td>5.0</td>\n      <td>1.0</td>\n      <td>1.0</td>\n      <td>2.0</td>\n      <td>5.0</td>\n      <td>8.0</td>\n      <td>7.0</td>\n      <td>1.0</td>\n      <td>2.0</td>\n      <td>2</td>\n    </tr>\n    <tr>\n      <th>1</th>\n      <td>2019</td>\n      <td>1</td>\n      <td>10002</td>\n      <td>10028</td>\n      <td>5710</td>\n      <td>3</td>\n      <td>1</td>\n      <td>5103403</td>\n      <td>51</td>\n      <td>5</td>\n      <td>...</td>\n      <td>4.0</td>\n      <td>2.0</td>\n      <td>2.0</td>\n      <td>2.0</td>\n      <td>5.0</td>\n      <td>4.0</td>\n      <td>4.0</td>\n      <td>2.0</td>\n      <td>2.0</td>\n      <td>6</td>\n    </tr>\n    <tr>\n      <th>2</th>\n      <td>2019</td>\n      <td>1</td>\n      <td>10002</td>\n      <td>10028</td>\n      <td>5710</td>\n      <td>3</td>\n      <td>1</td>\n      <td>5103403</td>\n      <td>51</td>\n      <td>5</td>\n      <td>...</td>\n      <td>4.0</td>\n      <td>4.0</td>\n      <td>3.0</td>\n      <td>3.0</td>\n      <td>4.0</td>\n      <td>1.0</td>\n      <td>1.0</td>\n      <td>1.0</td>\n      <td>4.0</td>\n      <td>4</td>\n    </tr>\n    <tr>\n      <th>3</th>\n      <td>2019</td>\n      <td>1</td>\n      <td>10002</td>\n      <td>10028</td>\n      <td>5710</td>\n      <td>3</td>\n      <td>1</td>\n      <td>5103403</td>\n      <td>51</td>\n      <td>5</td>\n      <td>...</td>\n      <td>5.0</td>\n      <td>2.0</td>\n      <td>2.0</td>\n      <td>2.0</td>\n      <td>3.0</td>\n      <td>3.0</td>\n      <td>4.0</td>\n      <td>3.0</td>\n      <td>3.0</td>\n      <td>1</td>\n    </tr>\n    <tr>\n      <th>4</th>\n      <td>2019</td>\n      <td>1</td>\n      <td>10002</td>\n      <td>10028</td>\n      <td>5710</td>\n      <td>3</td>\n      <td>1</td>\n      <td>5103403</td>\n      <td>51</td>\n      <td>5</td>\n      <td>...</td>\n      <td>NaN</td>\n      <td>NaN</td>\n      <td>NaN</td>\n      <td>NaN</td>\n      <td>NaN</td>\n      <td>NaN</td>\n      <td>NaN</td>\n      <td>NaN</td>\n      <td>NaN</td>\n      <td>1</td>\n    </tr>\n  </tbody>\n</table>\n<p>5 rows × 138 columns</p>\n</div>"
          },
          "metadata": {},
          "execution_count": 8
        }
      ],
      "source": [
        "# Prediction Target\n",
        "y = pdEnade.Tempo\n",
        "pdEnade.head() "
      ]
    },
    {
      "cell_type": "code",
      "execution_count": 9,
      "metadata": {},
      "outputs": [
        {
          "output_type": "execute_result",
          "data": {
            "text/plain": [
              "              CO_IES     CO_CATEGAD     CO_ORGACAD       CO_GRUPO  \\\n",
              "count  130127.000000  130127.000000  130127.000000  130127.000000   \n",
              "mean      651.845981    8092.331207   10026.156770    1978.701568   \n",
              "std      1018.862493    3906.414128       3.217906    2736.568759   \n",
              "min         1.000000      93.000000   10019.000000       5.000000   \n",
              "25%       243.000000   10002.000000   10022.000000      17.000000   \n",
              "50%       527.000000   10005.000000   10028.000000      23.000000   \n",
              "75%       634.000000   10007.000000   10028.000000    5710.000000   \n",
              "max     18759.000000   10009.000000   10028.000000    6405.000000   \n",
              "\n",
              "            CO_CURSO     ANO_FIM_EM    ANO_IN_GRAD  \n",
              "count  130127.000000  130127.000000  130127.000000  \n",
              "mean    19807.223405    2010.848340    2014.216150  \n",
              "std     15330.675880       6.348421      18.917391  \n",
              "min         3.000000    1111.000000      14.000000  \n",
              "25%      9709.000000    2010.000000    2014.000000  \n",
              "50%     15475.000000    2012.000000    2015.000000  \n",
              "75%     21599.000000    2014.000000    2015.000000  \n",
              "max     56664.000000    2612.000000    2092.000000  "
            ],
            "text/html": "<div>\n<style scoped>\n    .dataframe tbody tr th:only-of-type {\n        vertical-align: middle;\n    }\n\n    .dataframe tbody tr th {\n        vertical-align: top;\n    }\n\n    .dataframe thead th {\n        text-align: right;\n    }\n</style>\n<table border=\"1\" class=\"dataframe\">\n  <thead>\n    <tr style=\"text-align: right;\">\n      <th></th>\n      <th>CO_IES</th>\n      <th>CO_CATEGAD</th>\n      <th>CO_ORGACAD</th>\n      <th>CO_GRUPO</th>\n      <th>CO_CURSO</th>\n      <th>ANO_FIM_EM</th>\n      <th>ANO_IN_GRAD</th>\n    </tr>\n  </thead>\n  <tbody>\n    <tr>\n      <th>count</th>\n      <td>130127.000000</td>\n      <td>130127.000000</td>\n      <td>130127.000000</td>\n      <td>130127.000000</td>\n      <td>130127.000000</td>\n      <td>130127.000000</td>\n      <td>130127.000000</td>\n    </tr>\n    <tr>\n      <th>mean</th>\n      <td>651.845981</td>\n      <td>8092.331207</td>\n      <td>10026.156770</td>\n      <td>1978.701568</td>\n      <td>19807.223405</td>\n      <td>2010.848340</td>\n      <td>2014.216150</td>\n    </tr>\n    <tr>\n      <th>std</th>\n      <td>1018.862493</td>\n      <td>3906.414128</td>\n      <td>3.217906</td>\n      <td>2736.568759</td>\n      <td>15330.675880</td>\n      <td>6.348421</td>\n      <td>18.917391</td>\n    </tr>\n    <tr>\n      <th>min</th>\n      <td>1.000000</td>\n      <td>93.000000</td>\n      <td>10019.000000</td>\n      <td>5.000000</td>\n      <td>3.000000</td>\n      <td>1111.000000</td>\n      <td>14.000000</td>\n    </tr>\n    <tr>\n      <th>25%</th>\n      <td>243.000000</td>\n      <td>10002.000000</td>\n      <td>10022.000000</td>\n      <td>17.000000</td>\n      <td>9709.000000</td>\n      <td>2010.000000</td>\n      <td>2014.000000</td>\n    </tr>\n    <tr>\n      <th>50%</th>\n      <td>527.000000</td>\n      <td>10005.000000</td>\n      <td>10028.000000</td>\n      <td>23.000000</td>\n      <td>15475.000000</td>\n      <td>2012.000000</td>\n      <td>2015.000000</td>\n    </tr>\n    <tr>\n      <th>75%</th>\n      <td>634.000000</td>\n      <td>10007.000000</td>\n      <td>10028.000000</td>\n      <td>5710.000000</td>\n      <td>21599.000000</td>\n      <td>2014.000000</td>\n      <td>2015.000000</td>\n    </tr>\n    <tr>\n      <th>max</th>\n      <td>18759.000000</td>\n      <td>10009.000000</td>\n      <td>10028.000000</td>\n      <td>6405.000000</td>\n      <td>56664.000000</td>\n      <td>2612.000000</td>\n      <td>2092.000000</td>\n    </tr>\n  </tbody>\n</table>\n</div>"
          },
          "metadata": {},
          "execution_count": 9
        }
      ],
      "source": [
        "enade_features = ['CO_IES', 'CO_CATEGAD', 'CO_ORGACAD', 'CO_GRUPO', 'CO_CURSO', 'ANO_FIM_EM', 'ANO_IN_GRAD', 'NT_OBJ_FG', 'NT_DIS_FG', 'QE_I15', 'QE_I17', 'QE_I19', 'QE_I23', 'QE_I25']\n",
        "X = pdEnade[enade_features]\n",
        "X.describe()"
      ]
    },
    {
      "cell_type": "code",
      "execution_count": 11,
      "metadata": {},
      "outputs": [],
      "source": [
        "# 1. Definir o modelo -- my_model = ModelName()\n",
        "enade_model = DecisionTreeRegressor(random_state=1) # Cria um novo modelo não treinado\n"
      ]
    },
    {
      "cell_type": "code",
      "execution_count": null,
      "metadata": {},
      "outputs": [],
      "source": [
        "# 2. Fitting a model -- my_model.fit(data)\n",
        "enade_model.fit(X, y)\n",
        "\n",
        "print(X.head())\n",
        "print(enade_model.predict(X.head()))"
      ]
    }
  ]
}