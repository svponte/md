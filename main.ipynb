{
  "nbformat": 4,
  "nbformat_minor": 0,
  "metadata": {
    "colab": {
      "name": "main.ipynb",
      "provenance": [],
      "authorship_tag": "ABX9TyP8lcu8nTVvbm8xE3+cNuti",
      "include_colab_link": true
    },
    "kernelspec": {
      "name": "python385jvsc74a57bd0b3ba2566441a7c06988d0923437866b63cedc61552a5af99d1f4fb67d367b25f",
      "display_name": "Python 3.8.5 64-bit (conda)"
    },
    "language_info": {
      "name": "python",
      "version": "3.8.5-final"
    }
  },
  "cells": [
    {
      "cell_type": "markdown",
      "metadata": {
        "id": "view-in-github",
        "colab_type": "text"
      },
      "source": [
        "<a href=\"https://colab.research.google.com/github/svponte/md/blob/main/main.ipynb\" target=\"_parent\"><img src=\"https://colab.research.google.com/assets/colab-badge.svg\" alt=\"Open In Colab\"/></a>"
      ]
    },
    {
      "cell_type": "markdown",
      "metadata": {
        "id": "Zb3jzcpgGR-4"
      },
      "source": [
        "# **Mineração de Dados**"
      ]
    },
    {
      "cell_type": "code",
      "metadata": {
        "colab": {
          "base_uri": "https://localhost:8080/"
        },
        "id": "gmVf8fHrAD-T",
        "outputId": "de04e870-1ba5-47f0-8763-03324ae03813"
      },
      "source": [
        "import pandas as pd\n",
        "from sklearn.tree import DecisionTreeRegressor\n",
        "\n",
        "# Carrega dataframe\n",
        "pfEnade = pd.read_csv(\"microdados_enade_2019.txt\", sep = ';', low_memory=False)\n",
        "\n",
        "# Quantas linhas e colunas no dataframe\n",
        "pfEnade.shape\n"
      ],
      "execution_count": 4,
      "outputs": [
        {
          "output_type": "execute_result",
          "data": {
            "text/plain": [
              "(130127, 137)"
            ]
          },
          "metadata": {},
          "execution_count": 4
        }
      ]
    },
    {
      "cell_type": "code",
      "execution_count": 5,
      "metadata": {},
      "outputs": [
        {
          "output_type": "execute_result",
          "data": {
            "text/plain": [
              "Index(['CO_IES', 'CO_CATEGAD', 'CO_ORGACAD', 'CO_GRUPO', 'CO_CURSO',\n",
              "       'ANO_FIM_EM', 'ANO_IN_GRAD', 'QE_I15', 'QE_I17', 'QE_I19', 'QE_I23',\n",
              "       'QE_I25'],\n",
              "      dtype='object')"
            ]
          },
          "metadata": {},
          "execution_count": 5
        }
      ],
      "source": [
        "# Remover colunas excedentes \n",
        "del pfEnade['NU_ANO']\n",
        "del pfEnade['CO_MODALIDADE']\n",
        "del pfEnade['CO_MUNIC_CURSO']\n",
        "del pfEnade['CO_UF_CURSO']\n",
        "del pfEnade['CO_REGIAO_CURSO']\n",
        "del pfEnade['NU_IDADE']\n",
        "del pfEnade['TP_SEXO']\n",
        "del pfEnade['CO_TURNO_GRADUACAO']\n",
        "del pfEnade['QE_I59']\n",
        "del pfEnade['QE_I60']\n",
        "del pfEnade['QE_I61']\n",
        "del pfEnade['QE_I63']\n",
        "del pfEnade['QE_I64']\n",
        "del pfEnade['QE_I65']\n",
        "del pfEnade['QE_I66']\n",
        "del pfEnade['QE_I67']\n",
        "del pfEnade['QE_I68']\n",
        "del pfEnade['TP_INSCRICAO_ADM']\n",
        "del pfEnade['TP_INSCRICAO']\n",
        "del pfEnade['NU_ITEM_OFG']\n",
        "del pfEnade['QE_I50']\n",
        "del pfEnade['QE_I51']\n",
        "del pfEnade['QE_I52']\n",
        "del pfEnade['QE_I53']\n",
        "del pfEnade['QE_I54']\n",
        "del pfEnade['QE_I55']\n",
        "del pfEnade['QE_I56']\n",
        "del pfEnade['QE_I57']\n",
        "del pfEnade['QE_I58']\n",
        "del pfEnade['QE_I62']\n",
        "del pfEnade['NU_ITEM_OFG_Z']\n",
        "del pfEnade['NU_ITEM_OFG_X']\n",
        "del pfEnade['NU_ITEM_OFG_N']\n",
        "del pfEnade['QE_I40']\n",
        "del pfEnade['QE_I41']\n",
        "del pfEnade['QE_I42']\n",
        "del pfEnade['QE_I43']\n",
        "del pfEnade['QE_I44']\n",
        "del pfEnade['QE_I45']\n",
        "del pfEnade['QE_I46']\n",
        "del pfEnade['QE_I47']\n",
        "del pfEnade['QE_I48']\n",
        "del pfEnade['QE_I49']\n",
        "del pfEnade['NU_ITEM_OCE']\n",
        "del pfEnade['NU_ITEM_OCE_Z']\n",
        "del pfEnade['NU_ITEM_OCE_X']\n",
        "del pfEnade['NU_ITEM_OCE_N']\n",
        "del pfEnade['DS_VT_GAB_OFG_ORIG']\n",
        "del pfEnade['DS_VT_GAB_OFG_FIN']\n",
        "del pfEnade['DS_VT_GAB_OCE_ORIG']\n",
        "del pfEnade['DS_VT_GAB_OCE_FIN']\n",
        "del pfEnade['DS_VT_ESC_OFG']\n",
        "del pfEnade['DS_VT_ACE_OFG']\n",
        "del pfEnade['DS_VT_ESC_OCE']\n",
        "del pfEnade['DS_VT_ACE_OCE']\n",
        "del pfEnade['TP_PRES']\n",
        "del pfEnade['TP_PR_GER']\n",
        "del pfEnade['TP_PR_OB_FG']\n",
        "del pfEnade['TP_PR_DI_FG']\n",
        "del pfEnade['QE_I39']\n",
        "del pfEnade['QE_I38']\n",
        "del pfEnade['QE_I37']\n",
        "del pfEnade['QE_I36']\n",
        "del pfEnade['QE_I35']\n",
        "del pfEnade['QE_I34']\n",
        "del pfEnade['QE_I33']\n",
        "del pfEnade['QE_I32']\n",
        "del pfEnade['QE_I31']\n",
        "del pfEnade['QE_I30']\n",
        "del pfEnade['QE_I29']\n",
        "del pfEnade['QE_I28']\n",
        "del pfEnade['QE_I27']\n",
        "del pfEnade['QE_I26']\n",
        "del pfEnade['QE_I24']\n",
        "del pfEnade['QE_I22']\n",
        "del pfEnade['QE_I21']\n",
        "del pfEnade['QE_I20']\n",
        "del pfEnade['QE_I18']\n",
        "del pfEnade['QE_I16']\n",
        "del pfEnade['QE_I14']\n",
        "del pfEnade['QE_I13']\n",
        "del pfEnade['QE_I12']\n",
        "del pfEnade['QE_I11']\n",
        "del pfEnade['QE_I10']\n",
        "del pfEnade['QE_I09']\n",
        "del pfEnade['QE_I08']\n",
        "del pfEnade['QE_I07']\n",
        "del pfEnade['QE_I06']\n",
        "del pfEnade['QE_I05']\n",
        "del pfEnade['QE_I04']\n",
        "del pfEnade['QE_I03']\n",
        "del pfEnade['QE_I02']\n",
        "del pfEnade['QE_I01']\n",
        "del pfEnade['CO_RS_I9']\n",
        "del pfEnade['CO_RS_I8']\n",
        "del pfEnade['CO_RS_I7']\n",
        "del pfEnade['CO_RS_I6']\n",
        "del pfEnade['CO_RS_I5']\n",
        "del pfEnade['CO_RS_I4']\n",
        "del pfEnade['CO_RS_I3']\n",
        "del pfEnade['CO_RS_I2']\n",
        "del pfEnade['CO_RS_I1']\n",
        "del pfEnade['NT_CE_D3']\n",
        "del pfEnade['NT_CE_D2']\n",
        "del pfEnade['NT_DIS_CE']\n",
        "del pfEnade['TP_PR_OB_CE']\n",
        "del pfEnade['TP_PR_DI_CE']\n",
        "del pfEnade['TP_SFG_D1']\n",
        "del pfEnade['TP_SFG_D2']\n",
        "del pfEnade['TP_SCE_D1']\n",
        "del pfEnade['TP_SCE_D2']\n",
        "del pfEnade['TP_SCE_D3']\n",
        "del pfEnade['NT_GER']\n",
        "del pfEnade['NT_FG']\n",
        "del pfEnade['NT_FG_D1']\n",
        "del pfEnade['NT_FG_D1_PT']\n",
        "del pfEnade['NT_FG_D1_CT']\n",
        "del pfEnade['NT_FG_D2']\n",
        "del pfEnade['NT_FG_D2_PT']\n",
        "del pfEnade['NT_FG_D2_CT']\n",
        "del pfEnade['NT_CE']\n",
        "del pfEnade['NT_OBJ_CE']\n",
        "del pfEnade['NT_CE_D1']\n",
        "del pfEnade['NT_OBJ_FG']\n",
        "del pfEnade['NT_DIS_FG']\n",
        "\n",
        "# Qual o nome das variáveis (colunas)\n",
        "pfEnade.columns\n",
        "\n",
        "#['CO_IES', 'CO_CATEGAD', 'CO_ORGACAD', 'CO_GRUPO', 'CO_CURSO', \n",
        "# 'ANO_FIM_EM', 'ANO_IN_GRAD', 'NT_OBJ_FG', 'NT_DIS_FG', \n",
        "# 'QE_I15', 'QE_I17', 'QE_I19', 'QE_I23', 'QE_I25']\n",
        "\n"
      ]
    },
    {
      "cell_type": "code",
      "execution_count": 6,
      "metadata": {},
      "outputs": [
        {
          "output_type": "execute_result",
          "data": {
            "text/plain": [
              "   CO_IES  CO_CATEGAD  CO_ORGACAD  CO_GRUPO  CO_CURSO  ANO_FIM_EM  \\\n",
              "0       1       10002       10028      5710         3        2010   \n",
              "1       1       10002       10028      5710         3        2009   \n",
              "2       1       10002       10028      5710         3        2012   \n",
              "3       1       10002       10028      5710         3        2013   \n",
              "4       1       10002       10028      5710         3        2012   \n",
              "\n",
              "   ANO_IN_GRAD QE_I15 QE_I17 QE_I19 QE_I23 QE_I25  \n",
              "0         2012      A      B      B      D      E  \n",
              "1         2015      A      B      A      D      E  \n",
              "2         2016      D      A      B      B      B  \n",
              "3         2014      A      B      D      D      C  \n",
              "4         2013                                     "
            ],
            "text/html": "<div>\n<style scoped>\n    .dataframe tbody tr th:only-of-type {\n        vertical-align: middle;\n    }\n\n    .dataframe tbody tr th {\n        vertical-align: top;\n    }\n\n    .dataframe thead th {\n        text-align: right;\n    }\n</style>\n<table border=\"1\" class=\"dataframe\">\n  <thead>\n    <tr style=\"text-align: right;\">\n      <th></th>\n      <th>CO_IES</th>\n      <th>CO_CATEGAD</th>\n      <th>CO_ORGACAD</th>\n      <th>CO_GRUPO</th>\n      <th>CO_CURSO</th>\n      <th>ANO_FIM_EM</th>\n      <th>ANO_IN_GRAD</th>\n      <th>QE_I15</th>\n      <th>QE_I17</th>\n      <th>QE_I19</th>\n      <th>QE_I23</th>\n      <th>QE_I25</th>\n    </tr>\n  </thead>\n  <tbody>\n    <tr>\n      <th>0</th>\n      <td>1</td>\n      <td>10002</td>\n      <td>10028</td>\n      <td>5710</td>\n      <td>3</td>\n      <td>2010</td>\n      <td>2012</td>\n      <td>A</td>\n      <td>B</td>\n      <td>B</td>\n      <td>D</td>\n      <td>E</td>\n    </tr>\n    <tr>\n      <th>1</th>\n      <td>1</td>\n      <td>10002</td>\n      <td>10028</td>\n      <td>5710</td>\n      <td>3</td>\n      <td>2009</td>\n      <td>2015</td>\n      <td>A</td>\n      <td>B</td>\n      <td>A</td>\n      <td>D</td>\n      <td>E</td>\n    </tr>\n    <tr>\n      <th>2</th>\n      <td>1</td>\n      <td>10002</td>\n      <td>10028</td>\n      <td>5710</td>\n      <td>3</td>\n      <td>2012</td>\n      <td>2016</td>\n      <td>D</td>\n      <td>A</td>\n      <td>B</td>\n      <td>B</td>\n      <td>B</td>\n    </tr>\n    <tr>\n      <th>3</th>\n      <td>1</td>\n      <td>10002</td>\n      <td>10028</td>\n      <td>5710</td>\n      <td>3</td>\n      <td>2013</td>\n      <td>2014</td>\n      <td>A</td>\n      <td>B</td>\n      <td>D</td>\n      <td>D</td>\n      <td>C</td>\n    </tr>\n    <tr>\n      <th>4</th>\n      <td>1</td>\n      <td>10002</td>\n      <td>10028</td>\n      <td>5710</td>\n      <td>3</td>\n      <td>2012</td>\n      <td>2013</td>\n      <td></td>\n      <td></td>\n      <td></td>\n      <td></td>\n      <td></td>\n    </tr>\n  </tbody>\n</table>\n</div>"
          },
          "metadata": {},
          "execution_count": 6
        }
      ],
      "source": [
        "\n",
        "# Visualizar as primeiras linhas do dataframe\n",
        "pfEnade.head()\n",
        "\n"
      ]
    },
    {
      "cell_type": "code",
      "execution_count": 7,
      "metadata": {},
      "outputs": [
        {
          "output_type": "execute_result",
          "data": {
            "text/plain": [
              "CO_IES         0\n",
              "CO_CATEGAD     0\n",
              "CO_ORGACAD     0\n",
              "CO_GRUPO       0\n",
              "CO_CURSO       0\n",
              "ANO_FIM_EM     0\n",
              "ANO_IN_GRAD    0\n",
              "QE_I15         0\n",
              "QE_I17         0\n",
              "QE_I19         0\n",
              "QE_I23         0\n",
              "QE_I25         0\n",
              "dtype: int64"
            ]
          },
          "metadata": {},
          "execution_count": 7
        }
      ],
      "source": [
        "# Quais os dados faltantes\n",
        "pfEnade.isnull().sum()\n",
        "\n"
      ]
    },
    {
      "cell_type": "code",
      "execution_count": 8,
      "metadata": {},
      "outputs": [
        {
          "output_type": "execute_result",
          "data": {
            "text/plain": [
              "              CO_IES     CO_CATEGAD     CO_ORGACAD       CO_GRUPO  \\\n",
              "count  130127.000000  130127.000000  130127.000000  130127.000000   \n",
              "mean      651.845981    8092.331207   10026.156770    1978.701568   \n",
              "std      1018.862493    3906.414128       3.217906    2736.568759   \n",
              "min         1.000000      93.000000   10019.000000       5.000000   \n",
              "25%       243.000000   10002.000000   10022.000000      17.000000   \n",
              "50%       527.000000   10005.000000   10028.000000      23.000000   \n",
              "75%       634.000000   10007.000000   10028.000000    5710.000000   \n",
              "max     18759.000000   10009.000000   10028.000000    6405.000000   \n",
              "\n",
              "            CO_CURSO     ANO_FIM_EM    ANO_IN_GRAD  \n",
              "count  130127.000000  130127.000000  130127.000000  \n",
              "mean    19807.223405    2010.848340    2014.216150  \n",
              "std     15330.675880       6.348421      18.917391  \n",
              "min         3.000000    1111.000000      14.000000  \n",
              "25%      9709.000000    2010.000000    2014.000000  \n",
              "50%     15475.000000    2012.000000    2015.000000  \n",
              "75%     21599.000000    2014.000000    2015.000000  \n",
              "max     56664.000000    2612.000000    2092.000000  "
            ],
            "text/html": "<div>\n<style scoped>\n    .dataframe tbody tr th:only-of-type {\n        vertical-align: middle;\n    }\n\n    .dataframe tbody tr th {\n        vertical-align: top;\n    }\n\n    .dataframe thead th {\n        text-align: right;\n    }\n</style>\n<table border=\"1\" class=\"dataframe\">\n  <thead>\n    <tr style=\"text-align: right;\">\n      <th></th>\n      <th>CO_IES</th>\n      <th>CO_CATEGAD</th>\n      <th>CO_ORGACAD</th>\n      <th>CO_GRUPO</th>\n      <th>CO_CURSO</th>\n      <th>ANO_FIM_EM</th>\n      <th>ANO_IN_GRAD</th>\n    </tr>\n  </thead>\n  <tbody>\n    <tr>\n      <th>count</th>\n      <td>130127.000000</td>\n      <td>130127.000000</td>\n      <td>130127.000000</td>\n      <td>130127.000000</td>\n      <td>130127.000000</td>\n      <td>130127.000000</td>\n      <td>130127.000000</td>\n    </tr>\n    <tr>\n      <th>mean</th>\n      <td>651.845981</td>\n      <td>8092.331207</td>\n      <td>10026.156770</td>\n      <td>1978.701568</td>\n      <td>19807.223405</td>\n      <td>2010.848340</td>\n      <td>2014.216150</td>\n    </tr>\n    <tr>\n      <th>std</th>\n      <td>1018.862493</td>\n      <td>3906.414128</td>\n      <td>3.217906</td>\n      <td>2736.568759</td>\n      <td>15330.675880</td>\n      <td>6.348421</td>\n      <td>18.917391</td>\n    </tr>\n    <tr>\n      <th>min</th>\n      <td>1.000000</td>\n      <td>93.000000</td>\n      <td>10019.000000</td>\n      <td>5.000000</td>\n      <td>3.000000</td>\n      <td>1111.000000</td>\n      <td>14.000000</td>\n    </tr>\n    <tr>\n      <th>25%</th>\n      <td>243.000000</td>\n      <td>10002.000000</td>\n      <td>10022.000000</td>\n      <td>17.000000</td>\n      <td>9709.000000</td>\n      <td>2010.000000</td>\n      <td>2014.000000</td>\n    </tr>\n    <tr>\n      <th>50%</th>\n      <td>527.000000</td>\n      <td>10005.000000</td>\n      <td>10028.000000</td>\n      <td>23.000000</td>\n      <td>15475.000000</td>\n      <td>2012.000000</td>\n      <td>2015.000000</td>\n    </tr>\n    <tr>\n      <th>75%</th>\n      <td>634.000000</td>\n      <td>10007.000000</td>\n      <td>10028.000000</td>\n      <td>5710.000000</td>\n      <td>21599.000000</td>\n      <td>2014.000000</td>\n      <td>2015.000000</td>\n    </tr>\n    <tr>\n      <th>max</th>\n      <td>18759.000000</td>\n      <td>10009.000000</td>\n      <td>10028.000000</td>\n      <td>6405.000000</td>\n      <td>56664.000000</td>\n      <td>2612.000000</td>\n      <td>2092.000000</td>\n    </tr>\n  </tbody>\n</table>\n</div>"
          },
          "metadata": {},
          "execution_count": 8
        }
      ],
      "source": [
        "# Sumário estatístico \n",
        "pfEnade.describe()\n",
        "\n"
      ]
    },
    {
      "cell_type": "code",
      "execution_count": 9,
      "metadata": {},
      "outputs": [
        {
          "output_type": "execute_result",
          "data": {
            "text/plain": [
              "   CO_IES  CO_CATEGAD  CO_ORGACAD  CO_GRUPO  CO_CURSO  ANO_FIM_EM  \\\n",
              "0       1       10002       10028      5710         3        2010   \n",
              "1       1       10002       10028      5710         3        2009   \n",
              "2       1       10002       10028      5710         3        2012   \n",
              "3       1       10002       10028      5710         3        2013   \n",
              "4       1       10002       10028      5710         3        2012   \n",
              "\n",
              "   ANO_IN_GRAD QE_I15 QE_I17 QE_I19 QE_I23 QE_I25  Tempo  \n",
              "0         2012      A      B      B      D      E      2  \n",
              "1         2015      A      B      A      D      E      6  \n",
              "2         2016      D      A      B      B      B      4  \n",
              "3         2014      A      B      D      D      C      1  \n",
              "4         2013                                         1  "
            ],
            "text/html": "<div>\n<style scoped>\n    .dataframe tbody tr th:only-of-type {\n        vertical-align: middle;\n    }\n\n    .dataframe tbody tr th {\n        vertical-align: top;\n    }\n\n    .dataframe thead th {\n        text-align: right;\n    }\n</style>\n<table border=\"1\" class=\"dataframe\">\n  <thead>\n    <tr style=\"text-align: right;\">\n      <th></th>\n      <th>CO_IES</th>\n      <th>CO_CATEGAD</th>\n      <th>CO_ORGACAD</th>\n      <th>CO_GRUPO</th>\n      <th>CO_CURSO</th>\n      <th>ANO_FIM_EM</th>\n      <th>ANO_IN_GRAD</th>\n      <th>QE_I15</th>\n      <th>QE_I17</th>\n      <th>QE_I19</th>\n      <th>QE_I23</th>\n      <th>QE_I25</th>\n      <th>Tempo</th>\n    </tr>\n  </thead>\n  <tbody>\n    <tr>\n      <th>0</th>\n      <td>1</td>\n      <td>10002</td>\n      <td>10028</td>\n      <td>5710</td>\n      <td>3</td>\n      <td>2010</td>\n      <td>2012</td>\n      <td>A</td>\n      <td>B</td>\n      <td>B</td>\n      <td>D</td>\n      <td>E</td>\n      <td>2</td>\n    </tr>\n    <tr>\n      <th>1</th>\n      <td>1</td>\n      <td>10002</td>\n      <td>10028</td>\n      <td>5710</td>\n      <td>3</td>\n      <td>2009</td>\n      <td>2015</td>\n      <td>A</td>\n      <td>B</td>\n      <td>A</td>\n      <td>D</td>\n      <td>E</td>\n      <td>6</td>\n    </tr>\n    <tr>\n      <th>2</th>\n      <td>1</td>\n      <td>10002</td>\n      <td>10028</td>\n      <td>5710</td>\n      <td>3</td>\n      <td>2012</td>\n      <td>2016</td>\n      <td>D</td>\n      <td>A</td>\n      <td>B</td>\n      <td>B</td>\n      <td>B</td>\n      <td>4</td>\n    </tr>\n    <tr>\n      <th>3</th>\n      <td>1</td>\n      <td>10002</td>\n      <td>10028</td>\n      <td>5710</td>\n      <td>3</td>\n      <td>2013</td>\n      <td>2014</td>\n      <td>A</td>\n      <td>B</td>\n      <td>D</td>\n      <td>D</td>\n      <td>C</td>\n      <td>1</td>\n    </tr>\n    <tr>\n      <th>4</th>\n      <td>1</td>\n      <td>10002</td>\n      <td>10028</td>\n      <td>5710</td>\n      <td>3</td>\n      <td>2012</td>\n      <td>2013</td>\n      <td></td>\n      <td></td>\n      <td></td>\n      <td></td>\n      <td></td>\n      <td>1</td>\n    </tr>\n  </tbody>\n</table>\n</div>"
          },
          "metadata": {},
          "execution_count": 9
        }
      ],
      "source": [
        "# Calculando a idade\n",
        "pfEnade[\"Tempo\"] = pfEnade[\"ANO_IN_GRAD\"] - pfEnade[\"ANO_FIM_EM\"]\n",
        "pfEnade.head()"
      ]
    },
    {
      "cell_type": "code",
      "execution_count": 10,
      "metadata": {},
      "outputs": [
        {
          "output_type": "execute_result",
          "data": {
            "text/plain": [
              "   CO_IES  CO_CATEGAD  CO_ORGACAD  CO_GRUPO  CO_CURSO  ANO_FIM_EM  \\\n",
              "0       1       10002       10028      5710         3        2010   \n",
              "1       1       10002       10028      5710         3        2009   \n",
              "2       1       10002       10028      5710         3        2012   \n",
              "3       1       10002       10028      5710         3        2013   \n",
              "4       1       10002       10028      5710         3        2012   \n",
              "\n",
              "   ANO_IN_GRAD QE_I15 QE_I17 QE_I19 QE_I23 QE_I25  Tempo  \n",
              "0         2012      A      B      B      D      E      2  \n",
              "1         2015      A      B      A      D      E      6  \n",
              "2         2016      D      A      B      B      B      4  \n",
              "3         2014      A      B      D      D      C      1  \n",
              "4         2013                                         1  "
            ],
            "text/html": "<div>\n<style scoped>\n    .dataframe tbody tr th:only-of-type {\n        vertical-align: middle;\n    }\n\n    .dataframe tbody tr th {\n        vertical-align: top;\n    }\n\n    .dataframe thead th {\n        text-align: right;\n    }\n</style>\n<table border=\"1\" class=\"dataframe\">\n  <thead>\n    <tr style=\"text-align: right;\">\n      <th></th>\n      <th>CO_IES</th>\n      <th>CO_CATEGAD</th>\n      <th>CO_ORGACAD</th>\n      <th>CO_GRUPO</th>\n      <th>CO_CURSO</th>\n      <th>ANO_FIM_EM</th>\n      <th>ANO_IN_GRAD</th>\n      <th>QE_I15</th>\n      <th>QE_I17</th>\n      <th>QE_I19</th>\n      <th>QE_I23</th>\n      <th>QE_I25</th>\n      <th>Tempo</th>\n    </tr>\n  </thead>\n  <tbody>\n    <tr>\n      <th>0</th>\n      <td>1</td>\n      <td>10002</td>\n      <td>10028</td>\n      <td>5710</td>\n      <td>3</td>\n      <td>2010</td>\n      <td>2012</td>\n      <td>A</td>\n      <td>B</td>\n      <td>B</td>\n      <td>D</td>\n      <td>E</td>\n      <td>2</td>\n    </tr>\n    <tr>\n      <th>1</th>\n      <td>1</td>\n      <td>10002</td>\n      <td>10028</td>\n      <td>5710</td>\n      <td>3</td>\n      <td>2009</td>\n      <td>2015</td>\n      <td>A</td>\n      <td>B</td>\n      <td>A</td>\n      <td>D</td>\n      <td>E</td>\n      <td>6</td>\n    </tr>\n    <tr>\n      <th>2</th>\n      <td>1</td>\n      <td>10002</td>\n      <td>10028</td>\n      <td>5710</td>\n      <td>3</td>\n      <td>2012</td>\n      <td>2016</td>\n      <td>D</td>\n      <td>A</td>\n      <td>B</td>\n      <td>B</td>\n      <td>B</td>\n      <td>4</td>\n    </tr>\n    <tr>\n      <th>3</th>\n      <td>1</td>\n      <td>10002</td>\n      <td>10028</td>\n      <td>5710</td>\n      <td>3</td>\n      <td>2013</td>\n      <td>2014</td>\n      <td>A</td>\n      <td>B</td>\n      <td>D</td>\n      <td>D</td>\n      <td>C</td>\n      <td>1</td>\n    </tr>\n    <tr>\n      <th>4</th>\n      <td>1</td>\n      <td>10002</td>\n      <td>10028</td>\n      <td>5710</td>\n      <td>3</td>\n      <td>2012</td>\n      <td>2013</td>\n      <td></td>\n      <td></td>\n      <td></td>\n      <td></td>\n      <td></td>\n      <td>1</td>\n    </tr>\n  </tbody>\n</table>\n</div>"
          },
          "metadata": {},
          "execution_count": 10
        }
      ],
      "source": [
        "# Prediction Target\n",
        "y = pfEnade.Tempo\n",
        "pfEnade.head() "
      ]
    },
    {
      "cell_type": "code",
      "execution_count": 11,
      "metadata": {},
      "outputs": [
        {
          "output_type": "execute_result",
          "data": {
            "text/plain": [
              "              CO_IES     CO_CATEGAD     CO_ORGACAD       CO_GRUPO  \\\n",
              "count  130127.000000  130127.000000  130127.000000  130127.000000   \n",
              "mean      651.845981    8092.331207   10026.156770    1978.701568   \n",
              "std      1018.862493    3906.414128       3.217906    2736.568759   \n",
              "min         1.000000      93.000000   10019.000000       5.000000   \n",
              "25%       243.000000   10002.000000   10022.000000      17.000000   \n",
              "50%       527.000000   10005.000000   10028.000000      23.000000   \n",
              "75%       634.000000   10007.000000   10028.000000    5710.000000   \n",
              "max     18759.000000   10009.000000   10028.000000    6405.000000   \n",
              "\n",
              "            CO_CURSO     ANO_FIM_EM    ANO_IN_GRAD  \n",
              "count  130127.000000  130127.000000  130127.000000  \n",
              "mean    19807.223405    2010.848340    2014.216150  \n",
              "std     15330.675880       6.348421      18.917391  \n",
              "min         3.000000    1111.000000      14.000000  \n",
              "25%      9709.000000    2010.000000    2014.000000  \n",
              "50%     15475.000000    2012.000000    2015.000000  \n",
              "75%     21599.000000    2014.000000    2015.000000  \n",
              "max     56664.000000    2612.000000    2092.000000  "
            ],
            "text/html": "<div>\n<style scoped>\n    .dataframe tbody tr th:only-of-type {\n        vertical-align: middle;\n    }\n\n    .dataframe tbody tr th {\n        vertical-align: top;\n    }\n\n    .dataframe thead th {\n        text-align: right;\n    }\n</style>\n<table border=\"1\" class=\"dataframe\">\n  <thead>\n    <tr style=\"text-align: right;\">\n      <th></th>\n      <th>CO_IES</th>\n      <th>CO_CATEGAD</th>\n      <th>CO_ORGACAD</th>\n      <th>CO_GRUPO</th>\n      <th>CO_CURSO</th>\n      <th>ANO_FIM_EM</th>\n      <th>ANO_IN_GRAD</th>\n    </tr>\n  </thead>\n  <tbody>\n    <tr>\n      <th>count</th>\n      <td>130127.000000</td>\n      <td>130127.000000</td>\n      <td>130127.000000</td>\n      <td>130127.000000</td>\n      <td>130127.000000</td>\n      <td>130127.000000</td>\n      <td>130127.000000</td>\n    </tr>\n    <tr>\n      <th>mean</th>\n      <td>651.845981</td>\n      <td>8092.331207</td>\n      <td>10026.156770</td>\n      <td>1978.701568</td>\n      <td>19807.223405</td>\n      <td>2010.848340</td>\n      <td>2014.216150</td>\n    </tr>\n    <tr>\n      <th>std</th>\n      <td>1018.862493</td>\n      <td>3906.414128</td>\n      <td>3.217906</td>\n      <td>2736.568759</td>\n      <td>15330.675880</td>\n      <td>6.348421</td>\n      <td>18.917391</td>\n    </tr>\n    <tr>\n      <th>min</th>\n      <td>1.000000</td>\n      <td>93.000000</td>\n      <td>10019.000000</td>\n      <td>5.000000</td>\n      <td>3.000000</td>\n      <td>1111.000000</td>\n      <td>14.000000</td>\n    </tr>\n    <tr>\n      <th>25%</th>\n      <td>243.000000</td>\n      <td>10002.000000</td>\n      <td>10022.000000</td>\n      <td>17.000000</td>\n      <td>9709.000000</td>\n      <td>2010.000000</td>\n      <td>2014.000000</td>\n    </tr>\n    <tr>\n      <th>50%</th>\n      <td>527.000000</td>\n      <td>10005.000000</td>\n      <td>10028.000000</td>\n      <td>23.000000</td>\n      <td>15475.000000</td>\n      <td>2012.000000</td>\n      <td>2015.000000</td>\n    </tr>\n    <tr>\n      <th>75%</th>\n      <td>634.000000</td>\n      <td>10007.000000</td>\n      <td>10028.000000</td>\n      <td>5710.000000</td>\n      <td>21599.000000</td>\n      <td>2014.000000</td>\n      <td>2015.000000</td>\n    </tr>\n    <tr>\n      <th>max</th>\n      <td>18759.000000</td>\n      <td>10009.000000</td>\n      <td>10028.000000</td>\n      <td>6405.000000</td>\n      <td>56664.000000</td>\n      <td>2612.000000</td>\n      <td>2092.000000</td>\n    </tr>\n  </tbody>\n</table>\n</div>"
          },
          "metadata": {},
          "execution_count": 11
        }
      ],
      "source": [
        "enade_features = ['CO_IES', 'CO_CATEGAD', 'CO_ORGACAD', 'CO_GRUPO', 'CO_CURSO', 'ANO_FIM_EM', 'ANO_IN_GRAD', 'QE_I15', 'QE_I17', 'QE_I19', 'QE_I23', 'QE_I25']\n",
        "X = pfEnade[enade_features]\n",
        "X.describe()"
      ]
    },
    {
      "cell_type": "code",
      "execution_count": 12,
      "metadata": {},
      "outputs": [
        {
          "output_type": "error",
          "ename": "ValueError",
          "evalue": "could not convert string to float: 'A'",
          "traceback": [
            "\u001b[1;31m---------------------------------------------------------------------------\u001b[0m",
            "\u001b[1;31mValueError\u001b[0m                                Traceback (most recent call last)",
            "\u001b[1;32m<ipython-input-12-a8fd469bc92a>\u001b[0m in \u001b[0;36m<module>\u001b[1;34m\u001b[0m\n\u001b[0;32m      3\u001b[0m \u001b[1;33m\u001b[0m\u001b[0m\n\u001b[0;32m      4\u001b[0m \u001b[1;31m# 2. Fitting a model -- my_model.fit(data)\u001b[0m\u001b[1;33m\u001b[0m\u001b[1;33m\u001b[0m\u001b[1;33m\u001b[0m\u001b[0m\n\u001b[1;32m----> 5\u001b[1;33m \u001b[0menade_model_01\u001b[0m\u001b[1;33m.\u001b[0m\u001b[0mfit\u001b[0m\u001b[1;33m(\u001b[0m\u001b[0mX\u001b[0m\u001b[1;33m,\u001b[0m \u001b[0my\u001b[0m\u001b[1;33m)\u001b[0m\u001b[1;33m\u001b[0m\u001b[1;33m\u001b[0m\u001b[0m\n\u001b[0m\u001b[0;32m      6\u001b[0m \u001b[1;33m\u001b[0m\u001b[0m\n\u001b[0;32m      7\u001b[0m \u001b[0mprint\u001b[0m\u001b[1;33m(\u001b[0m\u001b[0mX\u001b[0m\u001b[1;33m.\u001b[0m\u001b[0mhead\u001b[0m\u001b[1;33m(\u001b[0m\u001b[1;33m)\u001b[0m\u001b[1;33m)\u001b[0m\u001b[1;33m\u001b[0m\u001b[1;33m\u001b[0m\u001b[0m\n",
            "\u001b[1;32mC:\\ProgramData\\Anaconda3\\lib\\site-packages\\sklearn\\tree\\_classes.py\u001b[0m in \u001b[0;36mfit\u001b[1;34m(self, X, y, sample_weight, check_input, X_idx_sorted)\u001b[0m\n\u001b[0;32m   1240\u001b[0m         \"\"\"\n\u001b[0;32m   1241\u001b[0m \u001b[1;33m\u001b[0m\u001b[0m\n\u001b[1;32m-> 1242\u001b[1;33m         super().fit(\n\u001b[0m\u001b[0;32m   1243\u001b[0m             \u001b[0mX\u001b[0m\u001b[1;33m,\u001b[0m \u001b[0my\u001b[0m\u001b[1;33m,\u001b[0m\u001b[1;33m\u001b[0m\u001b[1;33m\u001b[0m\u001b[0m\n\u001b[0;32m   1244\u001b[0m             \u001b[0msample_weight\u001b[0m\u001b[1;33m=\u001b[0m\u001b[0msample_weight\u001b[0m\u001b[1;33m,\u001b[0m\u001b[1;33m\u001b[0m\u001b[1;33m\u001b[0m\u001b[0m\n",
            "\u001b[1;32mC:\\ProgramData\\Anaconda3\\lib\\site-packages\\sklearn\\tree\\_classes.py\u001b[0m in \u001b[0;36mfit\u001b[1;34m(self, X, y, sample_weight, check_input, X_idx_sorted)\u001b[0m\n\u001b[0;32m    154\u001b[0m             \u001b[0mcheck_X_params\u001b[0m \u001b[1;33m=\u001b[0m \u001b[0mdict\u001b[0m\u001b[1;33m(\u001b[0m\u001b[0mdtype\u001b[0m\u001b[1;33m=\u001b[0m\u001b[0mDTYPE\u001b[0m\u001b[1;33m,\u001b[0m \u001b[0maccept_sparse\u001b[0m\u001b[1;33m=\u001b[0m\u001b[1;34m\"csc\"\u001b[0m\u001b[1;33m)\u001b[0m\u001b[1;33m\u001b[0m\u001b[1;33m\u001b[0m\u001b[0m\n\u001b[0;32m    155\u001b[0m             \u001b[0mcheck_y_params\u001b[0m \u001b[1;33m=\u001b[0m \u001b[0mdict\u001b[0m\u001b[1;33m(\u001b[0m\u001b[0mensure_2d\u001b[0m\u001b[1;33m=\u001b[0m\u001b[1;32mFalse\u001b[0m\u001b[1;33m,\u001b[0m \u001b[0mdtype\u001b[0m\u001b[1;33m=\u001b[0m\u001b[1;32mNone\u001b[0m\u001b[1;33m)\u001b[0m\u001b[1;33m\u001b[0m\u001b[1;33m\u001b[0m\u001b[0m\n\u001b[1;32m--> 156\u001b[1;33m             X, y = self._validate_data(X, y,\n\u001b[0m\u001b[0;32m    157\u001b[0m                                        validate_separately=(check_X_params,\n\u001b[0;32m    158\u001b[0m                                                             check_y_params))\n",
            "\u001b[1;32mC:\\ProgramData\\Anaconda3\\lib\\site-packages\\sklearn\\base.py\u001b[0m in \u001b[0;36m_validate_data\u001b[1;34m(self, X, y, reset, validate_separately, **check_params)\u001b[0m\n\u001b[0;32m    427\u001b[0m                 \u001b[1;31m# :(\u001b[0m\u001b[1;33m\u001b[0m\u001b[1;33m\u001b[0m\u001b[1;33m\u001b[0m\u001b[0m\n\u001b[0;32m    428\u001b[0m                 \u001b[0mcheck_X_params\u001b[0m\u001b[1;33m,\u001b[0m \u001b[0mcheck_y_params\u001b[0m \u001b[1;33m=\u001b[0m \u001b[0mvalidate_separately\u001b[0m\u001b[1;33m\u001b[0m\u001b[1;33m\u001b[0m\u001b[0m\n\u001b[1;32m--> 429\u001b[1;33m                 \u001b[0mX\u001b[0m \u001b[1;33m=\u001b[0m \u001b[0mcheck_array\u001b[0m\u001b[1;33m(\u001b[0m\u001b[0mX\u001b[0m\u001b[1;33m,\u001b[0m \u001b[1;33m**\u001b[0m\u001b[0mcheck_X_params\u001b[0m\u001b[1;33m)\u001b[0m\u001b[1;33m\u001b[0m\u001b[1;33m\u001b[0m\u001b[0m\n\u001b[0m\u001b[0;32m    430\u001b[0m                 \u001b[0my\u001b[0m \u001b[1;33m=\u001b[0m \u001b[0mcheck_array\u001b[0m\u001b[1;33m(\u001b[0m\u001b[0my\u001b[0m\u001b[1;33m,\u001b[0m \u001b[1;33m**\u001b[0m\u001b[0mcheck_y_params\u001b[0m\u001b[1;33m)\u001b[0m\u001b[1;33m\u001b[0m\u001b[1;33m\u001b[0m\u001b[0m\n\u001b[0;32m    431\u001b[0m             \u001b[1;32melse\u001b[0m\u001b[1;33m:\u001b[0m\u001b[1;33m\u001b[0m\u001b[1;33m\u001b[0m\u001b[0m\n",
            "\u001b[1;32mC:\\ProgramData\\Anaconda3\\lib\\site-packages\\sklearn\\utils\\validation.py\u001b[0m in \u001b[0;36minner_f\u001b[1;34m(*args, **kwargs)\u001b[0m\n\u001b[0;32m     70\u001b[0m                           FutureWarning)\n\u001b[0;32m     71\u001b[0m         \u001b[0mkwargs\u001b[0m\u001b[1;33m.\u001b[0m\u001b[0mupdate\u001b[0m\u001b[1;33m(\u001b[0m\u001b[1;33m{\u001b[0m\u001b[0mk\u001b[0m\u001b[1;33m:\u001b[0m \u001b[0marg\u001b[0m \u001b[1;32mfor\u001b[0m \u001b[0mk\u001b[0m\u001b[1;33m,\u001b[0m \u001b[0marg\u001b[0m \u001b[1;32min\u001b[0m \u001b[0mzip\u001b[0m\u001b[1;33m(\u001b[0m\u001b[0msig\u001b[0m\u001b[1;33m.\u001b[0m\u001b[0mparameters\u001b[0m\u001b[1;33m,\u001b[0m \u001b[0margs\u001b[0m\u001b[1;33m)\u001b[0m\u001b[1;33m}\u001b[0m\u001b[1;33m)\u001b[0m\u001b[1;33m\u001b[0m\u001b[1;33m\u001b[0m\u001b[0m\n\u001b[1;32m---> 72\u001b[1;33m         \u001b[1;32mreturn\u001b[0m \u001b[0mf\u001b[0m\u001b[1;33m(\u001b[0m\u001b[1;33m**\u001b[0m\u001b[0mkwargs\u001b[0m\u001b[1;33m)\u001b[0m\u001b[1;33m\u001b[0m\u001b[1;33m\u001b[0m\u001b[0m\n\u001b[0m\u001b[0;32m     73\u001b[0m     \u001b[1;32mreturn\u001b[0m \u001b[0minner_f\u001b[0m\u001b[1;33m\u001b[0m\u001b[1;33m\u001b[0m\u001b[0m\n\u001b[0;32m     74\u001b[0m \u001b[1;33m\u001b[0m\u001b[0m\n",
            "\u001b[1;32mC:\\ProgramData\\Anaconda3\\lib\\site-packages\\sklearn\\utils\\validation.py\u001b[0m in \u001b[0;36mcheck_array\u001b[1;34m(array, accept_sparse, accept_large_sparse, dtype, order, copy, force_all_finite, ensure_2d, allow_nd, ensure_min_samples, ensure_min_features, estimator)\u001b[0m\n\u001b[0;32m    596\u001b[0m                     \u001b[0marray\u001b[0m \u001b[1;33m=\u001b[0m \u001b[0marray\u001b[0m\u001b[1;33m.\u001b[0m\u001b[0mastype\u001b[0m\u001b[1;33m(\u001b[0m\u001b[0mdtype\u001b[0m\u001b[1;33m,\u001b[0m \u001b[0mcasting\u001b[0m\u001b[1;33m=\u001b[0m\u001b[1;34m\"unsafe\"\u001b[0m\u001b[1;33m,\u001b[0m \u001b[0mcopy\u001b[0m\u001b[1;33m=\u001b[0m\u001b[1;32mFalse\u001b[0m\u001b[1;33m)\u001b[0m\u001b[1;33m\u001b[0m\u001b[1;33m\u001b[0m\u001b[0m\n\u001b[0;32m    597\u001b[0m                 \u001b[1;32melse\u001b[0m\u001b[1;33m:\u001b[0m\u001b[1;33m\u001b[0m\u001b[1;33m\u001b[0m\u001b[0m\n\u001b[1;32m--> 598\u001b[1;33m                     \u001b[0marray\u001b[0m \u001b[1;33m=\u001b[0m \u001b[0mnp\u001b[0m\u001b[1;33m.\u001b[0m\u001b[0masarray\u001b[0m\u001b[1;33m(\u001b[0m\u001b[0marray\u001b[0m\u001b[1;33m,\u001b[0m \u001b[0morder\u001b[0m\u001b[1;33m=\u001b[0m\u001b[0morder\u001b[0m\u001b[1;33m,\u001b[0m \u001b[0mdtype\u001b[0m\u001b[1;33m=\u001b[0m\u001b[0mdtype\u001b[0m\u001b[1;33m)\u001b[0m\u001b[1;33m\u001b[0m\u001b[1;33m\u001b[0m\u001b[0m\n\u001b[0m\u001b[0;32m    599\u001b[0m             \u001b[1;32mexcept\u001b[0m \u001b[0mComplexWarning\u001b[0m\u001b[1;33m:\u001b[0m\u001b[1;33m\u001b[0m\u001b[1;33m\u001b[0m\u001b[0m\n\u001b[0;32m    600\u001b[0m                 raise ValueError(\"Complex data not supported\\n\"\n",
            "\u001b[1;32mC:\\ProgramData\\Anaconda3\\lib\\site-packages\\numpy\\core\\_asarray.py\u001b[0m in \u001b[0;36masarray\u001b[1;34m(a, dtype, order)\u001b[0m\n\u001b[0;32m     81\u001b[0m \u001b[1;33m\u001b[0m\u001b[0m\n\u001b[0;32m     82\u001b[0m     \"\"\"\n\u001b[1;32m---> 83\u001b[1;33m     \u001b[1;32mreturn\u001b[0m \u001b[0marray\u001b[0m\u001b[1;33m(\u001b[0m\u001b[0ma\u001b[0m\u001b[1;33m,\u001b[0m \u001b[0mdtype\u001b[0m\u001b[1;33m,\u001b[0m \u001b[0mcopy\u001b[0m\u001b[1;33m=\u001b[0m\u001b[1;32mFalse\u001b[0m\u001b[1;33m,\u001b[0m \u001b[0morder\u001b[0m\u001b[1;33m=\u001b[0m\u001b[0morder\u001b[0m\u001b[1;33m)\u001b[0m\u001b[1;33m\u001b[0m\u001b[1;33m\u001b[0m\u001b[0m\n\u001b[0m\u001b[0;32m     84\u001b[0m \u001b[1;33m\u001b[0m\u001b[0m\n\u001b[0;32m     85\u001b[0m \u001b[1;33m\u001b[0m\u001b[0m\n",
            "\u001b[1;32mC:\\ProgramData\\Anaconda3\\lib\\site-packages\\pandas\\core\\generic.py\u001b[0m in \u001b[0;36m__array__\u001b[1;34m(self, dtype)\u001b[0m\n\u001b[0;32m   1779\u001b[0m \u001b[1;33m\u001b[0m\u001b[0m\n\u001b[0;32m   1780\u001b[0m     \u001b[1;32mdef\u001b[0m \u001b[0m__array__\u001b[0m\u001b[1;33m(\u001b[0m\u001b[0mself\u001b[0m\u001b[1;33m,\u001b[0m \u001b[0mdtype\u001b[0m\u001b[1;33m=\u001b[0m\u001b[1;32mNone\u001b[0m\u001b[1;33m)\u001b[0m \u001b[1;33m->\u001b[0m \u001b[0mnp\u001b[0m\u001b[1;33m.\u001b[0m\u001b[0mndarray\u001b[0m\u001b[1;33m:\u001b[0m\u001b[1;33m\u001b[0m\u001b[1;33m\u001b[0m\u001b[0m\n\u001b[1;32m-> 1781\u001b[1;33m         \u001b[1;32mreturn\u001b[0m \u001b[0mnp\u001b[0m\u001b[1;33m.\u001b[0m\u001b[0masarray\u001b[0m\u001b[1;33m(\u001b[0m\u001b[0mself\u001b[0m\u001b[1;33m.\u001b[0m\u001b[0m_values\u001b[0m\u001b[1;33m,\u001b[0m \u001b[0mdtype\u001b[0m\u001b[1;33m=\u001b[0m\u001b[0mdtype\u001b[0m\u001b[1;33m)\u001b[0m\u001b[1;33m\u001b[0m\u001b[1;33m\u001b[0m\u001b[0m\n\u001b[0m\u001b[0;32m   1782\u001b[0m \u001b[1;33m\u001b[0m\u001b[0m\n\u001b[0;32m   1783\u001b[0m     \u001b[1;32mdef\u001b[0m \u001b[0m__array_wrap__\u001b[0m\u001b[1;33m(\u001b[0m\u001b[0mself\u001b[0m\u001b[1;33m,\u001b[0m \u001b[0mresult\u001b[0m\u001b[1;33m,\u001b[0m \u001b[0mcontext\u001b[0m\u001b[1;33m=\u001b[0m\u001b[1;32mNone\u001b[0m\u001b[1;33m)\u001b[0m\u001b[1;33m:\u001b[0m\u001b[1;33m\u001b[0m\u001b[1;33m\u001b[0m\u001b[0m\n",
            "\u001b[1;32mC:\\ProgramData\\Anaconda3\\lib\\site-packages\\numpy\\core\\_asarray.py\u001b[0m in \u001b[0;36masarray\u001b[1;34m(a, dtype, order)\u001b[0m\n\u001b[0;32m     81\u001b[0m \u001b[1;33m\u001b[0m\u001b[0m\n\u001b[0;32m     82\u001b[0m     \"\"\"\n\u001b[1;32m---> 83\u001b[1;33m     \u001b[1;32mreturn\u001b[0m \u001b[0marray\u001b[0m\u001b[1;33m(\u001b[0m\u001b[0ma\u001b[0m\u001b[1;33m,\u001b[0m \u001b[0mdtype\u001b[0m\u001b[1;33m,\u001b[0m \u001b[0mcopy\u001b[0m\u001b[1;33m=\u001b[0m\u001b[1;32mFalse\u001b[0m\u001b[1;33m,\u001b[0m \u001b[0morder\u001b[0m\u001b[1;33m=\u001b[0m\u001b[0morder\u001b[0m\u001b[1;33m)\u001b[0m\u001b[1;33m\u001b[0m\u001b[1;33m\u001b[0m\u001b[0m\n\u001b[0m\u001b[0;32m     84\u001b[0m \u001b[1;33m\u001b[0m\u001b[0m\n\u001b[0;32m     85\u001b[0m \u001b[1;33m\u001b[0m\u001b[0m\n",
            "\u001b[1;31mValueError\u001b[0m: could not convert string to float: 'A'"
          ]
        }
      ],
      "source": [
        "# 1. Definir o modelo -- my_model = ModelName()\n",
        "enade_model_01 = DecisionTreeRegressor(random_state=1) # Cria um novo modelo não treinado\n",
        "\n",
        "# 2. Fitting a model -- my_model.fit(data)\n",
        "enade_model_01.fit(X, y)\n",
        "\n",
        "print(X.head())\n",
        "print(enade_model_01.predict(X.head()))"
      ]
    },
    {
      "cell_type": "code",
      "execution_count": null,
      "metadata": {},
      "outputs": [],
      "source": []
    }
  ]
}