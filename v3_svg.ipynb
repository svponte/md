{
 "metadata": {
  "language_info": {
   "codemirror_mode": {
    "name": "ipython",
    "version": 3
   },
   "file_extension": ".py",
   "mimetype": "text/x-python",
   "name": "python",
   "nbconvert_exporter": "python",
   "pygments_lexer": "ipython3",
   "version": "3.8.5"
  },
  "orig_nbformat": 2,
  "kernelspec": {
   "name": "python385jvsc74a57bd0b3ba2566441a7c06988d0923437866b63cedc61552a5af99d1f4fb67d367b25f",
   "display_name": "Python 3.8.5 64-bit ('base': conda)"
  }
 },
 "nbformat": 4,
 "nbformat_minor": 2,
 "cells": [
  {
   "cell_type": "code",
   "execution_count": 1,
   "metadata": {},
   "outputs": [],
   "source": [
    "# Biblotecas de manipulação de dados\n",
    "import numpy as np\n",
    "import pandas as pd\n",
    "# Bibliotecas de visualização\n",
    "import seaborn as sns\n",
    "import matplotlib.pyplot as plt\n",
    "# Testes estatísticos\n",
    "from scipy.stats import ttest_ind\n",
    "\n",
    "from sklearn.tree import DecisionTreeRegressor\n",
    "from sklearn import svm\n",
    "from sklearn import datasets, linear_model\n",
    "from sklearn.metrics import classification_report \n",
    "from sklearn.neighbors import KNeighborsClassifier\n",
    "from sklearn.model_selection import train_test_split, cross_val_score\n",
    "from sklearn.ensemble import RandomForestClassifier\n",
    "\n",
    "# Bibliotecas Locais\n",
    "from carga import *\n",
    "from tratamentos import *\n",
    "from categorizacao import *\n",
    "\n",
    "pfEnade = doCarga('microdados_enade_2019.txt')\n",
    "# TRATAMENTOS \n",
    "pfEnade = doIdade(pfEnade)\n",
    "pfEnade = doNota(pfEnade)\n",
    "pfEnade = doVazios(pfEnade)\n",
    "pfEnade = doPublicoPrivada(pfEnade)\n",
    "pfEnade = doHumanasExatas(pfEnade)\n",
    "pfEnade = doRenda(pfEnade)\n",
    "pfEnade = doMigracao(pfEnade)\n",
    "pfEnade = doRenda(pfEnade)\n",
    "pfEnade = doEscolaridade(pfEnade)\n",
    "pfEnade = doCategoricos(pfEnade)\n",
    "\n",
    "X, y, X_train, X_test, y_train, y_test = doSplit(pfEnade)"
   ]
  },
  {
   "cell_type": "code",
   "execution_count": 3,
   "metadata": {},
   "outputs": [
    {
     "output_type": "execute_result",
     "data": {
      "text/plain": [
       "0.6460598567220627"
      ]
     },
     "metadata": {},
     "execution_count": 3
    }
   ],
   "source": [
    "modelo_randomforest = RandomForestClassifier()\n",
    "modelo_randomforest.fit(X_train, y_train.values.ravel())\n",
    "modelo_randomforest.score(X_test, y_test)"
   ]
  },
  {
   "cell_type": "code",
   "execution_count": 4,
   "metadata": {},
   "outputs": [],
   "source": [
    "scores = cross_val_score(modelo_randomforest, X_test, y_test.values.ravel(), cv=5)\n"
   ]
  },
  {
   "cell_type": "code",
   "execution_count": 5,
   "metadata": {},
   "outputs": [
    {
     "output_type": "execute_result",
     "data": {
      "text/plain": [
       "0.6316956802063185"
      ]
     },
     "metadata": {},
     "execution_count": 5
    }
   ],
   "source": [
    "scores.mean()"
   ]
  },
  {
   "cell_type": "code",
   "execution_count": null,
   "metadata": {},
   "outputs": [],
   "source": []
  }
 ]
}