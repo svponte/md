{
 "metadata": {
  "language_info": {
   "codemirror_mode": {
    "name": "ipython",
    "version": 3
   },
   "file_extension": ".py",
   "mimetype": "text/x-python",
   "name": "python",
   "nbconvert_exporter": "python",
   "pygments_lexer": "ipython3",
   "version": "3.8.5"
  },
  "orig_nbformat": 2,
  "kernelspec": {
   "name": "python385jvsc74a57bd0b3ba2566441a7c06988d0923437866b63cedc61552a5af99d1f4fb67d367b25f",
   "display_name": "Python 3.8.5 64-bit ('base': conda)"
  }
 },
 "nbformat": 4,
 "nbformat_minor": 2,
 "cells": [
  {
   "cell_type": "code",
   "execution_count": 1,
   "metadata": {},
   "outputs": [],
   "source": [
    "# Biblotecas de manipulação de dados\n",
    "import numpy as np\n",
    "import pandas as pd\n",
    "\n",
    "# Bibliotecas de visualização\n",
    "import seaborn as sns\n",
    "import matplotlib.pyplot as plt\n",
    "\n",
    "# Testes estatísticos\n",
    "from scipy.stats import ttest_ind\n",
    "\n",
    "# Bibliotecas Locais\n",
    "from carga import *\n",
    "from tratamentos import *\n",
    "from categorizacao import *\n",
    "\n",
    "pfEnade = doCarga('microdados_enade_2019.txt')\n",
    "\n",
    "# TRATAMENTOS \n",
    "pfEnade = doIdade(pfEnade)\n",
    "pfEnade = doNota(pfEnade)\n",
    "pfEnade = doVazios(pfEnade)\n",
    "pfEnade = doPublicoPrivada(pfEnade)\n",
    "pfEnade = doHumanasExatas(pfEnade)\n",
    "pfEnade = doRenda(pfEnade)\n",
    "\n",
    "pfEnade = doMigracao(pfEnade)\n",
    "\n",
    "# TRATAMENTOS - Dicionários\n",
    "pfEnade = doRenda(pfEnade)\n",
    "#pfEnade['Renda'].value_counts().sort_index()\n",
    "# pfEnade.isna().sum()    # Mostra se há vazios\n",
    "pfEnade = doEscolaridade(pfEnade)"
   ]
  },
  {
   "cell_type": "code",
   "execution_count": 2,
   "metadata": {},
   "outputs": [
    {
     "output_type": "execute_result",
     "data": {
      "text/plain": [
       "       CO_GRUPO  CO_UF_CURSO TP_SEXO  NT_GER QE_I04 QE_I05 QE_I08  QE_I16  \\\n",
       "19290      5806           33       M    19.6      D      D             33   \n",
       "97953        23           31       F    42.8      B      B             31   \n",
       "98173      5902           41       M    46.8      F      F             41   \n",
       "321754     6208           50       M    38.9      C      B             35   \n",
       "321860     4003           35       M    29.2      C      D             43   \n",
       "\n",
       "       QE_I17  Indice  Tempo  Publica  Exatas  Renda RendaDIC  Migrado  EPai  \\\n",
       "19290       B   19291    2.0        1       0      0        ?        0     4   \n",
       "97953       A   97954   11.0        1       1      0        ?        0     2   \n",
       "98173       B   98174    2.0        0       0      0        ?        0     6   \n",
       "321754      A  321755    1.0        1       0      0        ?        1     3   \n",
       "321860      A  321861    9.0        1       0      0        ?        1     3   \n",
       "\n",
       "                                        EscolaridadeDesc  \n",
       "19290                                       Ensino Médio  \n",
       "97953   Ensino Fundamental: 1º ao 5º ano (1ª a 4ª série)  \n",
       "98173                                      Pós-graduação  \n",
       "321754  Ensino Fundamental: 6º ao 9º ano (5ª a 8ª série)  \n",
       "321860  Ensino Fundamental: 6º ao 9º ano (5ª a 8ª série)  "
      ],
      "text/html": "<div>\n<style scoped>\n    .dataframe tbody tr th:only-of-type {\n        vertical-align: middle;\n    }\n\n    .dataframe tbody tr th {\n        vertical-align: top;\n    }\n\n    .dataframe thead th {\n        text-align: right;\n    }\n</style>\n<table border=\"1\" class=\"dataframe\">\n  <thead>\n    <tr style=\"text-align: right;\">\n      <th></th>\n      <th>CO_GRUPO</th>\n      <th>CO_UF_CURSO</th>\n      <th>TP_SEXO</th>\n      <th>NT_GER</th>\n      <th>QE_I04</th>\n      <th>QE_I05</th>\n      <th>QE_I08</th>\n      <th>QE_I16</th>\n      <th>QE_I17</th>\n      <th>Indice</th>\n      <th>Tempo</th>\n      <th>Publica</th>\n      <th>Exatas</th>\n      <th>Renda</th>\n      <th>RendaDIC</th>\n      <th>Migrado</th>\n      <th>EPai</th>\n      <th>EscolaridadeDesc</th>\n    </tr>\n  </thead>\n  <tbody>\n    <tr>\n      <th>19290</th>\n      <td>5806</td>\n      <td>33</td>\n      <td>M</td>\n      <td>19.6</td>\n      <td>D</td>\n      <td>D</td>\n      <td></td>\n      <td>33</td>\n      <td>B</td>\n      <td>19291</td>\n      <td>2.0</td>\n      <td>1</td>\n      <td>0</td>\n      <td>0</td>\n      <td>?</td>\n      <td>0</td>\n      <td>4</td>\n      <td>Ensino Médio</td>\n    </tr>\n    <tr>\n      <th>97953</th>\n      <td>23</td>\n      <td>31</td>\n      <td>F</td>\n      <td>42.8</td>\n      <td>B</td>\n      <td>B</td>\n      <td></td>\n      <td>31</td>\n      <td>A</td>\n      <td>97954</td>\n      <td>11.0</td>\n      <td>1</td>\n      <td>1</td>\n      <td>0</td>\n      <td>?</td>\n      <td>0</td>\n      <td>2</td>\n      <td>Ensino Fundamental: 1º ao 5º ano (1ª a 4ª série)</td>\n    </tr>\n    <tr>\n      <th>98173</th>\n      <td>5902</td>\n      <td>41</td>\n      <td>M</td>\n      <td>46.8</td>\n      <td>F</td>\n      <td>F</td>\n      <td></td>\n      <td>41</td>\n      <td>B</td>\n      <td>98174</td>\n      <td>2.0</td>\n      <td>0</td>\n      <td>0</td>\n      <td>0</td>\n      <td>?</td>\n      <td>0</td>\n      <td>6</td>\n      <td>Pós-graduação</td>\n    </tr>\n    <tr>\n      <th>321754</th>\n      <td>6208</td>\n      <td>50</td>\n      <td>M</td>\n      <td>38.9</td>\n      <td>C</td>\n      <td>B</td>\n      <td></td>\n      <td>35</td>\n      <td>A</td>\n      <td>321755</td>\n      <td>1.0</td>\n      <td>1</td>\n      <td>0</td>\n      <td>0</td>\n      <td>?</td>\n      <td>1</td>\n      <td>3</td>\n      <td>Ensino Fundamental: 6º ao 9º ano (5ª a 8ª série)</td>\n    </tr>\n    <tr>\n      <th>321860</th>\n      <td>4003</td>\n      <td>35</td>\n      <td>M</td>\n      <td>29.2</td>\n      <td>C</td>\n      <td>D</td>\n      <td></td>\n      <td>43</td>\n      <td>A</td>\n      <td>321861</td>\n      <td>9.0</td>\n      <td>1</td>\n      <td>0</td>\n      <td>0</td>\n      <td>?</td>\n      <td>1</td>\n      <td>3</td>\n      <td>Ensino Fundamental: 6º ao 9º ano (5ª a 8ª série)</td>\n    </tr>\n  </tbody>\n</table>\n</div>"
     },
     "metadata": {},
     "execution_count": 2
    }
   ],
   "source": [
    "tmp = pfEnade.query('QE_I08 == \" \"')\n",
    "tmp.head()"
   ]
  },
  {
   "cell_type": "code",
   "execution_count": 3,
   "metadata": {},
   "outputs": [
    {
     "output_type": "execute_result",
     "data": {
      "text/plain": [
       "                                                         mean        std  \\\n",
       "Qual a renda total de sua família, incluindo se...                         \n",
       "?                                                   35.316667   9.855438   \n",
       "Até 1,5 salário mínimo (até R$ 1.431,00)            38.952305  16.183434   \n",
       "De 1,5 a 3 salários mínimos (R$ 1.431,01 a R$ 2...  40.388231  16.128882   \n",
       "De 3 a 4,5 salários mínimos (R$ 2.862,01 a R$ 4...  41.939163  16.592564   \n",
       "De 4,5 a 6 salários mínimos (R$ 4.293,01 a R$ 5...  43.400706  16.908141   \n",
       "De 6 a 10 salários mínimos (R$ 5.724,01 a R$ 9....  45.390344  17.258026   \n",
       "De 10 a 30 salários mínimos (R$ 9.540,01 a R$ 2...  48.725288  17.422918   \n",
       "Acima de 30 salários mínimos (mais de R$ 28.620...  50.567785  17.580247   \n",
       "\n",
       "                                                     count  \n",
       "Qual a renda total de sua família, incluindo se...          \n",
       "?                                                        6  \n",
       "Até 1,5 salário mínimo (até R$ 1.431,00)             70974  \n",
       "De 1,5 a 3 salários mínimos (R$ 1.431,01 a R$ 2...  109810  \n",
       "De 3 a 4,5 salários mínimos (R$ 2.862,01 a R$ 4...   79438  \n",
       "De 4,5 a 6 salários mínimos (R$ 4.293,01 a R$ 5...   44614  \n",
       "De 6 a 10 salários mínimos (R$ 5.724,01 a R$ 9....   47357  \n",
       "De 10 a 30 salários mínimos (R$ 9.540,01 a R$ 2...   31149  \n",
       "Acima de 30 salários mínimos (mais de R$ 28.620...    6320  "
      ],
      "text/html": "<div>\n<style scoped>\n    .dataframe tbody tr th:only-of-type {\n        vertical-align: middle;\n    }\n\n    .dataframe tbody tr th {\n        vertical-align: top;\n    }\n\n    .dataframe thead th {\n        text-align: right;\n    }\n</style>\n<table border=\"1\" class=\"dataframe\">\n  <thead>\n    <tr style=\"text-align: right;\">\n      <th></th>\n      <th>mean</th>\n      <th>std</th>\n      <th>count</th>\n    </tr>\n    <tr>\n      <th>Qual a renda total de sua família, incluindo seus rendimentos?</th>\n      <th></th>\n      <th></th>\n      <th></th>\n    </tr>\n  </thead>\n  <tbody>\n    <tr>\n      <th>?</th>\n      <td>35.316667</td>\n      <td>9.855438</td>\n      <td>6</td>\n    </tr>\n    <tr>\n      <th>Até 1,5 salário mínimo (até R$ 1.431,00)</th>\n      <td>38.952305</td>\n      <td>16.183434</td>\n      <td>70974</td>\n    </tr>\n    <tr>\n      <th>De 1,5 a 3 salários mínimos (R$ 1.431,01 a R$ 2.862,00)</th>\n      <td>40.388231</td>\n      <td>16.128882</td>\n      <td>109810</td>\n    </tr>\n    <tr>\n      <th>De 3 a 4,5 salários mínimos (R$ 2.862,01 a R$ 4.293,00)</th>\n      <td>41.939163</td>\n      <td>16.592564</td>\n      <td>79438</td>\n    </tr>\n    <tr>\n      <th>De 4,5 a 6 salários mínimos (R$ 4.293,01 a R$ 5.724,00)</th>\n      <td>43.400706</td>\n      <td>16.908141</td>\n      <td>44614</td>\n    </tr>\n    <tr>\n      <th>De 6 a 10 salários mínimos (R$ 5.724,01 a R$ 9.540,00)</th>\n      <td>45.390344</td>\n      <td>17.258026</td>\n      <td>47357</td>\n    </tr>\n    <tr>\n      <th>De 10 a 30 salários mínimos (R$ 9.540,01 a R$ 28.620,00)</th>\n      <td>48.725288</td>\n      <td>17.422918</td>\n      <td>31149</td>\n    </tr>\n    <tr>\n      <th>Acima de 30 salários mínimos (mais de R$ 28.620,00)</th>\n      <td>50.567785</td>\n      <td>17.580247</td>\n      <td>6320</td>\n    </tr>\n  </tbody>\n</table>\n</div>"
     },
     "metadata": {},
     "execution_count": 3
    }
   ],
   "source": [
    "# Renda Familiar X Nota\n",
    "\n",
    "# groupby_1_var(df=df, groupby_var='QE_I08', key_var = 'NT_GER')\n",
    "# def groupby_1_var(df, groupby_var, key_var, agg_method=['mean', 'std', 'count']):\n",
    "\n",
    "tmp = pfEnade.groupby('QE_I08')['NT_GER'].agg(['mean', 'std', 'count']).sort_index()\n",
    "\n",
    "#tmp.index = dicRenda\n",
    "tmp.index = pd.Series(tmp.index).replace(doRendaDIC())\n",
    "tmp.index.name = 'Qual a renda total de sua família, incluindo seus rendimentos?'\n",
    "tmp "
   ]
  },
  {
   "cell_type": "code",
   "execution_count": null,
   "metadata": {},
   "outputs": [],
   "source": [
    "\n"
   ]
  }
 ]
}