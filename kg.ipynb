{
 "metadata": {
  "language_info": {
   "codemirror_mode": {
    "name": "ipython",
    "version": 3
   },
   "file_extension": ".py",
   "mimetype": "text/x-python",
   "name": "python",
   "nbconvert_exporter": "python",
   "pygments_lexer": "ipython3",
   "version": "3.8.5"
  },
  "orig_nbformat": 2,
  "kernelspec": {
   "name": "python385jvsc74a57bd0b3ba2566441a7c06988d0923437866b63cedc61552a5af99d1f4fb67d367b25f",
   "display_name": "Python 3.8.5 64-bit ('base': conda)"
  }
 },
 "nbformat": 4,
 "nbformat_minor": 2,
 "cells": [
  {
   "cell_type": "code",
   "execution_count": null,
   "metadata": {},
   "outputs": [],
   "source": [
    "# Biblotecas de manipulação de dados\n",
    "import numpy as np\n",
    "import pandas as pd\n",
    "# Bibliotecas de visualização\n",
    "import seaborn as sns\n",
    "import matplotlib.pyplot as plt\n",
    "# Testes estatísticos\n",
    "from scipy.stats import ttest_ind\n",
    "# Bibliotecas Locais\n",
    "from carga import *\n",
    "from tratamentos import *\n",
    "from categorizacao import *\n",
    "\n",
    "pfEnade = doCarga('microdados_enade_2019.txt')\n",
    "# TRATAMENTOS \n",
    "pfEnade = doIdade(pfEnade)\n",
    "pfEnade = doNota(pfEnade)\n",
    "pfEnade = doVazios(pfEnade)\n",
    "pfEnade = doPublicoPrivada(pfEnade)\n",
    "pfEnade = doHumanasExatas(pfEnade)\n",
    "pfEnade = doRenda(pfEnade)\n",
    "pfEnade = doMigracao(pfEnade)\n",
    "# TRATAMENTOS - Dicionários\n",
    "pfEnade = doRenda(pfEnade)\n",
    "#pfEnade['Renda'].value_counts().sort_index()\n",
    "# pfEnade.isna().sum()    # Mostra se há vazios\n",
    "pfEnade = doEscolaridade(pfEnade)"
   ]
  },
  {
   "cell_type": "code",
   "execution_count": null,
   "metadata": {},
   "outputs": [],
   "source": [
    "# TABELA - ÚTIL - Incluído\n",
    "# Renda Familiar X Nota\n",
    "tmp = pfEnade.groupby('QE_I08')['NT_GER'].agg(['mean', 'std', 'count']).sort_index()\n",
    "tmp.index = pd.Series(tmp.index).replace(doRendaDIC())\n",
    "tmp.index.name = 'Qual a renda total de sua família, incluindo seus rendimentos?'\n",
    "tmp "
   ]
  },
  {
   "cell_type": "code",
   "execution_count": null,
   "metadata": {},
   "outputs": [],
   "source": [
    "# MAPA CALOR - ÚTIL - Incluído\n",
    "# CORRELAÇÂO - Renda Familiar e Nota\n",
    "lista_de_listas = []\n",
    "valores = sorted(pfEnade['QE_I08'].dropna().unique().tolist())\n",
    "for i in valores:\n",
    "    lista_de_listas.append([])\n",
    "    for j in valores:\n",
    "        t_res = ttest_ind(pfEnade.query(f'QE_I08 == @i')['NT_GER'], pfEnade.query(f'QE_I08 == @j')['NT_GER'])\n",
    "        lista_de_listas[-1].append(t_res.pvalue)\n",
    "\n",
    "valores = pd.Series(valores).replace(doRendaDIC())\n",
    "tmp = pd.DataFrame(lista_de_listas, index=valores, columns=valores)    \n",
    "\n",
    "sns.heatmap(tmp, cmap=sns.diverging_palette(150, 275, s=80, l=55, n=9))"
   ]
  },
  {
   "cell_type": "code",
   "execution_count": null,
   "metadata": {},
   "outputs": [],
   "source": [
    "# TABELA - ÚTIL - Incluído\n",
    "# Horas de Estudo X Renda Familiar\n",
    "tmp = pfEnade.groupby('QE_I23')['NT_GER'].agg(['mean', 'std', 'count']).sort_index()\n",
    "tmp.index = pd.Series(tmp.index).replace(doHEstudoDIC())\n",
    "tmp.index.name = 'Horas de estudo extra classe?'\n",
    "tmp "
   ]
  },
  {
   "cell_type": "code",
   "execution_count": null,
   "metadata": {},
   "outputs": [],
   "source": [
    "# MAPA CALOR - ÚTIL - NÂO incluído\n",
    "# CORRELAÇÂO entre os grupos de horas de estudos\n",
    "lista_de_listas = []\n",
    "valores = sorted(pfEnade['QE_I23'].dropna().unique().tolist())\n",
    "for i in valores:\n",
    "    lista_de_listas.append([])\n",
    "    for j in valores:\n",
    "        t_res = ttest_ind(pfEnade.query(f'QE_I23 == @i')['NT_GER'], pfEnade.query(f'QE_I23 == @j')['NT_GER'])\n",
    "        lista_de_listas[-1].append(t_res.pvalue)\n",
    "\n",
    "valores = pd.Series(valores).replace(doHEstudoDIC())\n",
    "tmp = pd.DataFrame(lista_de_listas, index=valores, columns=valores)    \n",
    "\n",
    "sns.heatmap(tmp, cmap=sns.diverging_palette(150, 275, s=80, l=55, n=9))"
   ]
  },
  {
   "cell_type": "code",
   "execution_count": null,
   "metadata": {},
   "outputs": [],
   "source": [
    "# TABELA - ÚTIL \n",
    "# AGRUPANDO Renda X Horas de Estudo X Nota Média\n",
    "tmp = pfEnade.groupby(['QE_I08', 'QE_I23'])['NT_GER'].agg(['mean']).unstack()\n",
    "    \n",
    "tmp.index = pd.Series(tmp.index).replace(doRendaDIC())\n",
    "tmp.index.name = 'Qual a renda total de sua família, incluindo seus rendimentos?'\n",
    "\n",
    "tmp.columns = tmp.columns.droplevel(0)\n",
    "tmp.columns = pd.Series(tmp.columns).replace(doHEstudoDIC())\n",
    "tmp.columns.name = 'Quantas horas por semana, aproximadamente, você dedicou aos estudos, excetuando as horas de aula?'\n",
    "    \n",
    "tmp "
   ]
  },
  {
   "cell_type": "code",
   "execution_count": null,
   "metadata": {},
   "outputs": [],
   "source": [
    "# TABELA - Potencial útil\n",
    "tmp = pfEnade.groupby(['QE_I08', 'QE_I23'])['NT_GER'].agg(['mean']).unstack() #.where(pfEnade.QE_I08 != ' ')\n",
    "    \n",
    "#tmp.index = pd.Series(tmp.index).replace(doRendaDIC())\n",
    "#tmp.index.name = 'Qual a renda total de sua família, incluindo seus rendimentos?'\n",
    "tmp.index.name = 'Renda total familiar'\n",
    "\n",
    "tmp.columns = tmp.columns.droplevel(0)\n",
    "\n",
    "tmp.columns = pd.Series(tmp.columns).replace(doHEstudoDIC())\n",
    "#tmp.columns.name = 'Quantas horas por semana, aproximadamente, você dedicou aos estudos, excetuando as horas de aula?'\n",
    "tmp.columns.name = 'Horas por semana extra classe'\n",
    "\n",
    "    \n",
    "ax = tmp.plot(figsize=(8, 5)) \n",
    "#ax.set_title('Nota X Renda X Horas', fontsize=15)\n",
    "\n",
    "textoRenda = \"Renda Familiar\\n\"\n",
    "for key, value in doRendaDIC().items():\n",
    "    textoRenda = textoRenda + \"{k} : {v}\\n\".format(k=key, v=value)\n",
    "ax.text(1.01, 0.6, textoRenda, transform=ax.transAxes, fontsize=8)\n",
    "\n",
    "#textoEstudo = \"\"\n",
    "#for key, value in doRendaDIC().items():\n",
    "#    textoEstudo = textoEstudo + \"{k} : {v}\\n\".format(k=key, v=value)\n",
    "#ax.legend(textoEstudo)\n",
    "ax.legend(bbox_to_anchor=(1.01, 0.5), loc='upper left', borderaxespad=0.)"
   ]
  },
  {
   "cell_type": "code",
   "execution_count": null,
   "metadata": {},
   "outputs": [],
   "source": [
    "#MAPA CALOR - Potencial útil\n",
    "sns.heatmap(data=tmp, cmap=sns.diverging_palette(150, 275, s=80, l=55, n=9), )"
   ]
  },
  {
   "cell_type": "code",
   "execution_count": null,
   "metadata": {},
   "outputs": [],
   "source": [
    "# TABELA - Possívelmente útil\n",
    "# Gênero X Nota\n",
    "tmp = pfEnade.groupby('TP_SEXO')['NT_GER'].agg(['mean', 'std', 'count']).sort_index()\n",
    "tmp.index = pd.Series(tmp.index).replace(doSexoDIC())\n",
    "tmp.index.name = 'Sexo'\n",
    "tmp "
   ]
  },
  {
   "cell_type": "code",
   "execution_count": null,
   "metadata": {},
   "outputs": [],
   "source": [
    "# TABELA - Possívelmente útil\n",
    "# Gênero X Nota\n",
    "tmp.div(tmp.iloc[1])"
   ]
  },
  {
   "cell_type": "code",
   "execution_count": null,
   "metadata": {},
   "outputs": [],
   "source": [
    "# TABELA - Utilidade não definida\n",
    "# Sexo X Renda\n",
    "SxR = pfEnade.groupby(['TP_SEXO', 'QE_I08'])['NT_GER'].agg(['count']).unstack()\n",
    "    \n",
    "SxR.index = pd.Series(SxR.index).replace(doSexoDIC())\n",
    "SxR.index.name = 'Sexo'\n",
    "\n",
    "SxR.columns = SxR.columns.droplevel(0)\n",
    "SxR.columns = pd.Series(SxR.columns).replace(doRendaDIC())\n",
    "SxR.columns.name = 'Qual a renda total de sua família, incluindo seus rendimentos?'\n",
    "    \n",
    "SxR "
   ]
  },
  {
   "cell_type": "code",
   "execution_count": null,
   "metadata": {},
   "outputs": [],
   "source": [
    "# BUG\n",
    "fig, ax = plt.subplots(figsize=(16,8))\n",
    "plt.suptitle('Título Plot')\n",
    "SxR.filter(items=['TP_SEXO', 'QE_I08', 'NT_GER'])\\\n",
    "    .groupby(['TP_SEXO', 'QE_I08'])\\\n",
    "    .mean().sort_values(by='NT_GER', ascending=False)\\\n",
    "    .unstack().plot(ax=ax)"
   ]
  },
  {
   "cell_type": "code",
   "execution_count": null,
   "metadata": {},
   "outputs": [],
   "source": [
    "SxR.div(SxR.iloc[1])"
   ]
  },
  {
   "cell_type": "code",
   "execution_count": null,
   "metadata": {},
   "outputs": [],
   "source": [
    "# TABELA - Não útil\n",
    "# Migrado X Renda X Nota\n",
    "xq = pfEnade.where(pfEnade.Migrado == 1)\n",
    "#xq = xq.where(xq.NT_GER != ' ')\n",
    "#xq = xq.where(xq.NT_GER > 0)\n",
    "#xq = xq.where(xq.QE_I08 != ' ')\n",
    "\n",
    "MxR = xq.groupby(['NT_GER', 'QE_I08'])['Migrado'].agg(['count']).unstack()\n",
    "    \n",
    "MxR.index = pd.Series(MxR.index).replace(doMigradoDIC())\n",
    "MxR.index.name = 'Migrado'\n",
    "\n",
    "MxR.columns = MxR.columns.droplevel(0)\n",
    "MxR.columns = pd.Series(MxR.columns).replace(doRendaDIC())\n",
    "MxR.columns.name = 'Qual a renda total de sua família, incluindo seus rendimentos?'\n",
    "    \n",
    "MxR "
   ]
  },
  {
   "cell_type": "code",
   "execution_count": null,
   "metadata": {},
   "outputs": [],
   "source": [
    "# DISTRIBUIÇÂO - UTIL - Utilizado\n",
    "#tmp = pfEnade.groupby(['QE_I08', 'QE_I23'])['NT_GER'].agg(['mean']).unstack() #.where(pfEnade.QE_I08 != ' ')\n",
    "# MxR = pfEnade.groupby(['NT_GER', 'QE_I08'])['Migrado'].agg(['count']).unstack().where('NT_GER > 0')\n",
    "#MxR = pfEnade.groupby(['NT_GER', 'QE_I08'])['Migrado'].agg(['count']).unstack().where(pfEnade.NT_GER != ' ')\n",
    "xq = pfEnade.where(pfEnade.Migrado == 1)\n",
    "MxR = xq.groupby(['NT_GER',  'RendaDIC'])['Migrado']\\\n",
    "    .agg(['count'])\\\n",
    "    .unstack()\n",
    "    \n",
    "MxR.index.name = 'Notas'\n",
    "\n",
    "MxR.columns = MxR.columns.droplevel(0)\n",
    "MxR.columns.name = 'Renda'\n",
    "    \n",
    "ax = MxR.plot(figsize=(10,5)) \n",
    "ax.legend(bbox_to_anchor=(0.7, 1), loc=0, borderaxespad=0.)\n",
    "#ax.set_title('Nota X Renda X Migração', fontsize=20)\n",
    "\n",
    "# textoRenda = \"\"\n",
    "# for key, value in doRendaDIC().items():\n",
    "#    textoRenda = textoRenda + \"{k} : {v}\\n\".format(k=key, v=value)\n",
    "#ax.text(0.05, 0.6, textoRenda, transform=ax.transAxes, fontsize=8)\n",
    "\n",
    "#textoEstudo = \"\"\n",
    "#for key, value in doRendaDIC().items():\n",
    "#    textoEstudo = textoEstudo + \"{k} : {v}\\n\".format(k=key, v=value)\n",
    "#ax.legend(textoEstudo)"
   ]
  },
  {
   "cell_type": "code",
   "execution_count": null,
   "metadata": {},
   "outputs": [],
   "source": []
  }
 ]
}