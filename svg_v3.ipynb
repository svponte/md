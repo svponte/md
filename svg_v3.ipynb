{
 "metadata": {
  "language_info": {
   "codemirror_mode": {
    "name": "ipython",
    "version": 3
   },
   "file_extension": ".py",
   "mimetype": "text/x-python",
   "name": "python",
   "nbconvert_exporter": "python",
   "pygments_lexer": "ipython3",
   "version": "3.8.5"
  },
  "orig_nbformat": 2,
  "kernelspec": {
   "name": "python385jvsc74a57bd0b3ba2566441a7c06988d0923437866b63cedc61552a5af99d1f4fb67d367b25f",
   "display_name": "Python 3.8.5 64-bit ('base': conda)"
  }
 },
 "nbformat": 4,
 "nbformat_minor": 2,
 "cells": [
  {
   "cell_type": "code",
   "execution_count": 6,
   "metadata": {},
   "outputs": [],
   "source": [
    "# Biblotecas de manipulação de dados\n",
    "import numpy as np\n",
    "import pandas as pd\n",
    "# Bibliotecas de visualização\n",
    "import seaborn as sns\n",
    "import matplotlib.pyplot as plt\n",
    "# Testes estatísticos\n",
    "from scipy.stats import ttest_ind\n",
    "\n",
    "\n",
    "from sklearn.tree import DecisionTreeRegressor\n",
    "from sklearn import svm\n",
    "from sklearn import datasets, linear_model\n",
    "from sklearn.metrics import classification_report \n",
    "from sklearn.neighbors import KNeighborsClassifier\n",
    "from sklearn.model_selection import train_test_split, cross_val_score\n",
    "from sklearn.ensemble import RandomForestClassifier\n",
    "\n",
    "# Bibliotecas Locais\n",
    "from carga import *\n",
    "from tratamentos import *\n",
    "from categorizacao import *\n",
    "\n",
    "pfEnade = doCarga('microdados_enade_2019.txt')\n",
    "# TRATAMENTOS \n",
    "pfEnade = doIdade(pfEnade)\n",
    "pfEnade = doNota(pfEnade)\n",
    "pfEnade = doVazios(pfEnade)\n",
    "pfEnade = doPublicoPrivada(pfEnade)\n",
    "pfEnade = doHumanasExatas(pfEnade)\n",
    "pfEnade = doRenda(pfEnade)\n",
    "pfEnade = doMigracao(pfEnade)\n",
    "pfEnade = doRenda(pfEnade)\n",
    "pfEnade = doEscolaridade(pfEnade)\n",
    "pfEnade = doCategoricos(pfEnade)"
   ]
  },
  {
   "cell_type": "code",
   "execution_count": null,
   "metadata": {},
   "outputs": [],
   "source": [
    "# BomAluno # AJUSTADO\n",
    "# Publica       -0.22588985181090404, 0.0\n",
    "# Tempo         -0.06319841811379118 \n",
    "# BaixaRenda    0.18514620582187313\n",
    "# QE_I23CAT     -0.16467544491208252  horas dedicou aos estudos\n",
    "# Exatas        0.08940482401535141\n",
    "# Familia       -0.09275717382254631\n",
    "# NU_IDADE      -0.13719553638364812\n",
    "# CO_REGIAO_CURSO  0.05901777166108786\n",
    "# Migrado       0.043418457133967366\n"
   ]
  },
  {
   "cell_type": "code",
   "execution_count": 7,
   "metadata": {},
   "outputs": [
    {
     "output_type": "execute_result",
     "data": {
      "text/plain": [
       "1    247250\n",
       "0     84499\n",
       "Name: Publica, dtype: int64"
      ]
     },
     "metadata": {},
     "execution_count": 7
    }
   ],
   "source": [
    "pfEnade['Publica'].value_counts() "
   ]
  },
  {
   "cell_type": "code",
   "execution_count": 8,
   "metadata": {},
   "outputs": [
    {
     "output_type": "execute_result",
     "data": {
      "text/plain": [
       "0    84499\n",
       "1    84499\n",
       "Name: Publica, dtype: int64"
      ]
     },
     "metadata": {},
     "execution_count": 8
    }
   ],
   "source": [
    "# CONTAR CLASSES\n",
    "count_class_0, count_class_1 = pfEnade['Publica'].value_counts()# pfEnade.target.value_counts()\n",
    "# Divide by class\n",
    "df_class_0 = pfEnade[pfEnade['Publica'] == 1]   # 1 = Privada\n",
    "df_class_1 = pfEnade[pfEnade['Publica'] == 0]   # 0 = Publica\n",
    "df_class_0_under = df_class_0.sample(count_class_1)\n",
    "dfAjustado = pd.concat([df_class_0_under, df_class_1], axis=0)\n",
    "\n",
    "dfAjustado['Publica'].value_counts() "
   ]
  },
  {
   "cell_type": "code",
   "execution_count": 20,
   "metadata": {},
   "outputs": [],
   "source": [
    "# CARGA - X e y\n",
    "y = pd.DataFrame(dfAjustado, columns = ['Publica'])\n",
    "enade_features = [ 'BomAluno','CO_REGIAO_CURSO', 'Jovem', 'Migrado', 'Solo', 'Exatas', 'QE_I23CAT', 'QE_I08CAT', 'Sustento', 'Sexo'] \n",
    "# , 'Familia', , 'NU_IDADE' BaixaRenda\n",
    "# , 'Tempo', 'RecemFormado', 'QE_I08CAT', 'Age'\n",
    "# Ou solo ou família\n",
    "\n",
    "X = dfAjustado[enade_features]\n",
    "X_train, X_test, y_train, y_test = train_test_split(X, y, test_size=0.33, random_state=42)\n"
   ]
  },
  {
   "cell_type": "code",
   "execution_count": 21,
   "metadata": {},
   "outputs": [
    {
     "output_type": "execute_result",
     "data": {
      "text/plain": [
       "0.6618612157073696"
      ]
     },
     "metadata": {},
     "execution_count": 21
    }
   ],
   "source": [
    "modelo_randomforest = RandomForestClassifier()\n",
    "modelo_randomforest.fit(X_train, y_train.values.ravel())\n",
    "modelo_randomforest.score(X_test, y_test)"
   ]
  },
  {
   "cell_type": "code",
   "execution_count": 22,
   "metadata": {},
   "outputs": [],
   "source": [
    "scores = cross_val_score(modelo_randomforest, X_test, y_test.values.ravel(), cv=5)\n"
   ]
  },
  {
   "cell_type": "code",
   "execution_count": 23,
   "metadata": {},
   "outputs": [
    {
     "output_type": "execute_result",
     "data": {
      "text/plain": [
       "0.6502420656266811"
      ]
     },
     "metadata": {},
     "execution_count": 23
    }
   ],
   "source": [
    "scores.mean()"
   ]
  },
  {
   "cell_type": "code",
   "execution_count": null,
   "metadata": {},
   "outputs": [],
   "source": []
  }
 ]
}