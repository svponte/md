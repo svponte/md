{
 "metadata": {
  "language_info": {
   "codemirror_mode": {
    "name": "ipython",
    "version": 3
   },
   "file_extension": ".py",
   "mimetype": "text/x-python",
   "name": "python",
   "nbconvert_exporter": "python",
   "pygments_lexer": "ipython3",
   "version": "3.8.5"
  },
  "orig_nbformat": 2,
  "kernelspec": {
   "name": "python385jvsc74a57bd0b3ba2566441a7c06988d0923437866b63cedc61552a5af99d1f4fb67d367b25f",
   "display_name": "Python 3.8.5 64-bit ('base': conda)"
  }
 },
 "nbformat": 4,
 "nbformat_minor": 2,
 "cells": [
  {
   "cell_type": "code",
   "execution_count": 1,
   "metadata": {},
   "outputs": [],
   "source": [
    "# Biblotecas de manipulação de dados\n",
    "import numpy as np\n",
    "import pandas as pd\n",
    "# Bibliotecas de visualização\n",
    "import seaborn as sns\n",
    "import matplotlib.pyplot as plt\n",
    "# Testes estatísticos\n",
    "from scipy.stats import ttest_ind\n",
    "\n",
    "from sklearn.tree import DecisionTreeRegressor\n",
    "from sklearn.model_selection import train_test_split\n",
    "from sklearn import svm\n",
    "from sklearn import datasets\n",
    "from sklearn.metrics import classification_report \n",
    "from sklearn.neighbors import KNeighborsClassifier\n",
    "from sklearn.model_selection import train_test_split\n",
    "\n",
    "# Bibliotecas Locais\n",
    "from carga import *\n",
    "from tratamentos import *\n",
    "from categorizacao import *\n",
    "\n",
    "pfEnade = doCarga('microdados_enade_2019.txt')\n",
    "# TRATAMENTOS \n",
    "pfEnade = doIdade(pfEnade)\n",
    "pfEnade = doNota(pfEnade)\n",
    "pfEnade = doVazios(pfEnade)\n",
    "pfEnade = doPublicoPrivada(pfEnade)\n",
    "pfEnade = doHumanasExatas(pfEnade)\n",
    "pfEnade = doRenda(pfEnade)\n",
    "pfEnade = doMigracao(pfEnade)\n",
    "pfEnade = doRenda(pfEnade)\n",
    "pfEnade = doEscolaridade(pfEnade)\n",
    "pfEnade = doCategoricos(pfEnade)\n",
    "\n",
    "X, y, X_train, X_test, y_train, y_test = doSplit(pfEnade)"
   ]
  },
  {
   "cell_type": "code",
   "execution_count": 2,
   "metadata": {},
   "outputs": [],
   "source": [
    "#n_neighbors = 5  # 29 # notas de 10 em 10 \n",
    "# n_neighbors = 10 # 32 # notas de 10 em 10 \n",
    "# n_neighbors = 20 # 35 # notas de 10 em 10 \n",
    "n_neighbors = 30 # 37 # notas de 10 em 10 \n",
    "# n_neighbors = 50 # 38 # notas de 10 em 10 \n",
    "# n_neighbors = 100 # 39 # notas de 10 em 10 \n",
    "# n_neighbors = 1000 # 39 # notas de 10 em 10 \n",
    "clf = KNeighborsClassifier(n_neighbors=n_neighbors)"
   ]
  },
  {
   "cell_type": "code",
   "execution_count": 3,
   "metadata": {},
   "outputs": [
    {
     "output_type": "execute_result",
     "data": {
      "text/plain": [
       "KNeighborsClassifier(n_neighbors=30)"
      ]
     },
     "metadata": {},
     "execution_count": 3
    }
   ],
   "source": [
    "clf.fit(X_train, y_train.values.ravel())"
   ]
  },
  {
   "cell_type": "code",
   "execution_count": 4,
   "metadata": {},
   "outputs": [],
   "source": [
    "y_pred = clf.predict(X_test)"
   ]
  },
  {
   "cell_type": "code",
   "execution_count": 5,
   "metadata": {},
   "outputs": [
    {
     "output_type": "stream",
     "name": "stdout",
     "text": [
      "              precision    recall  f1-score   support\n\n           0       0.64      0.69      0.66     13725\n           1       0.66      0.62      0.64     13774\n\n    accuracy                           0.65     27499\n   macro avg       0.65      0.65      0.65     27499\nweighted avg       0.65      0.65      0.65     27499\n\n"
     ]
    }
   ],
   "source": [
    "# Relatório de Classificação F1\n",
    "target_names = doPublicaDIC()\n",
    "print (classification_report(y_test, y_pred)) #, target_names=target_names))"
   ]
  },
  {
   "cell_type": "code",
   "execution_count": 6,
   "metadata": {},
   "outputs": [
    {
     "output_type": "execute_result",
     "data": {
      "text/plain": [
       "0.6518418851594604"
      ]
     },
     "metadata": {},
     "execution_count": 6
    }
   ],
   "source": [
    "clf.score(X_test, y_test)"
   ]
  },
  {
   "cell_type": "code",
   "execution_count": 7,
   "metadata": {},
   "outputs": [
    {
     "output_type": "execute_result",
     "data": {
      "text/plain": [
       "(55829, 10)"
      ]
     },
     "metadata": {},
     "execution_count": 7
    }
   ],
   "source": [
    "X_train.shape"
   ]
  },
  {
   "cell_type": "code",
   "execution_count": 8,
   "metadata": {},
   "outputs": [
    {
     "output_type": "execute_result",
     "data": {
      "text/plain": [
       "(27499, 10)"
      ]
     },
     "metadata": {},
     "execution_count": 8
    }
   ],
   "source": [
    "X_test.shape "
   ]
  },
  {
   "cell_type": "code",
   "execution_count": null,
   "metadata": {},
   "outputs": [],
   "source": []
  }
 ]
}