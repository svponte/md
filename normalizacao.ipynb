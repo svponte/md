{
 "metadata": {
  "language_info": {
   "codemirror_mode": {
    "name": "ipython",
    "version": 3
   },
   "file_extension": ".py",
   "mimetype": "text/x-python",
   "name": "python",
   "nbconvert_exporter": "python",
   "pygments_lexer": "ipython3",
   "version": "3.8.5"
  },
  "orig_nbformat": 2,
  "kernelspec": {
   "name": "python385jvsc74a57bd0b3ba2566441a7c06988d0923437866b63cedc61552a5af99d1f4fb67d367b25f",
   "display_name": "Python 3.8.5 64-bit ('base': conda)"
  }
 },
 "nbformat": 4,
 "nbformat_minor": 2,
 "cells": [
  {
   "cell_type": "code",
   "execution_count": null,
   "metadata": {},
   "outputs": [],
   "source": [
    "# Biblotecas de manipulação de dados\n",
    "import numpy as np\n",
    "import pandas as pd\n",
    "# Bibliotecas de visualização\n",
    "import seaborn as sns\n",
    "import matplotlib.pyplot as plt\n",
    "# Testes estatísticos\n",
    "from scipy.stats import ttest_ind\n",
    "# Bibliotecas Locais\n",
    "from carga import *\n",
    "from tratamentos import *\n",
    "from categorizacao import *\n",
    "\n",
    "import plotly.express as px\n",
    "from scipy import stats \n",
    "\n",
    "pfEnade = doCarga('microdados_enade_2019.txt')\n",
    "pfEnade.dropna(inplace=True)\n",
    "# PEARSON - Mostra o coeficiente de Pearson Original\n",
    "# Valor entre -1 e 1    = distriuição simétrica\n",
    "# Valor maior que 1     = distribuição assimétrica positiva\n",
    "# Valor Maior que -1    = distribuição assimétrica negativa \n"
   ]
  },
  {
   "cell_type": "code",
   "execution_count": null,
   "metadata": {},
   "outputs": [],
   "source": [
    "pfEnade.dtypes"
   ]
  },
  {
   "cell_type": "code",
   "execution_count": null,
   "metadata": {},
   "outputs": [],
   "source": [
    "# 'CO_CATEGAD'  - Categórico - NADA A FAZER\n",
    "# 'CO_GRUPO'    - Categórico - NADA A FAZER\n",
    "# 'TP_SEXO'     - Categórico - NADA A FAZER\n",
    "# 'ANO_FIM_EM'  - NORMALIZADO\n",
    "# 'ANO_IN_GRAD' - NORMALIZADO\n",
    "# 'QE_I08'      - Categórico - TRATADO\n",
    "# 'QE_I16'      - Categórico - NADA A FAZER - 99 = ESTRANGEIRO\n",
    "# 'QE_I17'      - Categórico - NADA A FAZER\n",
    "# 'QE_I04'      - Categórico - NADA A FAZER\n",
    "# 'QE_I05'      - Categórico - NADA A FAZER\n",
    "# 'CO_UF_CURSO' - Categórico - NADA A FAZER\n",
    "# 'NT_GER'      - NORMALIZADO\n",
    "# 'QE_I23'      - Categórico - NADA A FAZER\n",
    "# 'QE_I07'      - Categórico - "
   ]
  },
  {
   "cell_type": "code",
   "execution_count": null,
   "metadata": {},
   "outputs": [],
   "source": [
    "################################################\n",
    "# PEARSON - ANO_FIM_EM - ANTES\n",
    "stats.skew(pfEnade.ANO_FIM_EM)"
   ]
  },
  {
   "cell_type": "code",
   "execution_count": null,
   "metadata": {},
   "outputs": [],
   "source": [
    "# BOXPLOT ANTES - ANO_FIM_EM - Visualizando outliers\n",
    "fig = px.box(pfEnade, y='ANO_FIM_EM')\n",
    "fig.update_layout(width=500, height=500)\n",
    "fig.show()"
   ]
  },
  {
   "cell_type": "code",
   "execution_count": null,
   "metadata": {},
   "outputs": [],
   "source": [
    "# TRATAMENTO\n",
    "# +389152\n",
    "# - 39195\n",
    "# =343433\n",
    "print (pfEnade.query('ANO_FIM_EM < 2004 | ANO_FIM_EM > 2020').value_counts())\n",
    "pfEnade = pfEnade.query('ANO_FIM_EM > 2004')\n",
    "pfEnade = pfEnade.query('ANO_FIM_EM < 2020')"
   ]
  },
  {
   "cell_type": "code",
   "execution_count": null,
   "metadata": {},
   "outputs": [],
   "source": [
    "# BOXPLOT DEPOIS - ANO_FIM_EM - Visualizando outliers\n",
    "fig = px.box(pfEnade, y='ANO_FIM_EM')\n",
    "fig.update_layout(width=500, height=500)\n",
    "fig.show()"
   ]
  },
  {
   "cell_type": "code",
   "execution_count": null,
   "metadata": {},
   "outputs": [],
   "source": [
    "# PEARSON - ANO_FIM_EM - DEPOIS\n",
    "stats.skew(pfEnade.ANO_FIM_EM)"
   ]
  },
  {
   "cell_type": "code",
   "execution_count": null,
   "metadata": {},
   "outputs": [],
   "source": [
    "pfEnade.CO_CATEGAD.head "
   ]
  },
  {
   "cell_type": "code",
   "execution_count": null,
   "metadata": {},
   "outputs": [],
   "source": [
    "################################################\n",
    "# PEARSON - ANO_IN_GRAD - ANTES\n",
    "stats.skew(pfEnade.ANO_IN_GRAD)"
   ]
  },
  {
   "cell_type": "code",
   "execution_count": null,
   "metadata": {},
   "outputs": [],
   "source": [
    "# BOXPLOT ANTES - ANO_IN_GRAD - Visualizando outliers\n",
    "fig = px.box(pfEnade, y='ANO_IN_GRAD')\n",
    "fig.update_layout(width=500, height=500)\n",
    "fig.show()"
   ]
  },
  {
   "cell_type": "code",
   "execution_count": null,
   "metadata": {},
   "outputs": [],
   "source": [
    "# TRATAMENTO\n",
    "# + 343433\n",
    "# -   1716\n",
    "# = 339669\n",
    "print (pfEnade.query('ANO_IN_GRAD < 2010 | ANO_IN_GRAD > 2020').value_counts())\n",
    "pfEnade = pfEnade.query('ANO_IN_GRAD > 2010')\n",
    "pfEnade = pfEnade.query('ANO_IN_GRAD < 2020')"
   ]
  },
  {
   "cell_type": "code",
   "execution_count": null,
   "metadata": {},
   "outputs": [],
   "source": [
    "# BOXPLOT DEPOIS - ANO_IN_GRAD - Visualizando outliers\n",
    "fig = px.box(pfEnade, y='ANO_IN_GRAD')\n",
    "fig.update_layout(width=500, height=500)\n",
    "fig.show()"
   ]
  },
  {
   "cell_type": "code",
   "execution_count": null,
   "metadata": {},
   "outputs": [],
   "source": [
    "# PEARSON - ANO_IN_GRAD - DEPOIS\n",
    "stats.skew(pfEnade.ANO_IN_GRAD)"
   ]
  },
  {
   "cell_type": "code",
   "execution_count": null,
   "metadata": {},
   "outputs": [],
   "source": [
    "pfEnade.value_counts()"
   ]
  },
  {
   "cell_type": "code",
   "execution_count": null,
   "metadata": {},
   "outputs": [],
   "source": [
    "pfEnade.value_counts()"
   ]
  },
  {
   "cell_type": "code",
   "execution_count": null,
   "metadata": {},
   "outputs": [],
   "source": [
    "################################################\n",
    "# QE_I08 - ANTES\n",
    "# + 389152\n",
    "# = 389146\n",
    "# print (pfEnade.query('ANO_IN_GRAD < 2010 | ANO_IN_GRAD > 2020').value_counts())\n",
    "pfEnade['QE_I08'] = pfEnade['QE_I08'].str.strip()  \n",
    "pfEnade['QE_I08'].value_counts(dropna=False).sort_index()"
   ]
  },
  {
   "cell_type": "code",
   "execution_count": null,
   "metadata": {},
   "outputs": [],
   "source": [
    "pfEnade.value_counts()"
   ]
  },
  {
   "cell_type": "code",
   "execution_count": null,
   "metadata": {},
   "outputs": [],
   "source": [
    "# QE_I08 - REMOÇÂO DE BRANCOS\n",
    "# + 339669\n",
    "# = 339663\n",
    "pfEnade['QE_I08'] = pfEnade['QE_I08'].str.strip()  \n",
    "pfEnade = pfEnade.query('QE_I08 != \"\"')"
   ]
  },
  {
   "cell_type": "code",
   "execution_count": null,
   "metadata": {},
   "outputs": [],
   "source": [
    "# QE_I08 - DEPOIS\n",
    "pfEnade['QE_I08'] = pfEnade['QE_I08'].str.strip()  # or .replace as above\n",
    "pfEnade['QE_I08'].value_counts(dropna=False).sort_index()"
   ]
  },
  {
   "cell_type": "code",
   "execution_count": null,
   "metadata": {},
   "outputs": [],
   "source": [
    "################################################\n",
    "# PEARSON - QE_I16 - ANTES\n",
    "stats.skew(pfEnade.NT_GER)"
   ]
  },
  {
   "cell_type": "code",
   "execution_count": null,
   "metadata": {},
   "outputs": [],
   "source": [
    "# BOXPLOT ANTES - ANO_IN_GRAD - Visualizando outliers\n",
    "fig = px.box(pfEnade, y='NT_GER')\n",
    "fig.update_layout(width=500, height=500)\n",
    "fig.show()"
   ]
  },
  {
   "cell_type": "code",
   "execution_count": null,
   "metadata": {},
   "outputs": [],
   "source": [
    "# TRATAMENTO\n",
    "pfEnade = pfEnade.query('NT_GER > 1')\n",
    "pfEnade = pfEnade.query('NT_GER < 87')"
   ]
  },
  {
   "cell_type": "code",
   "execution_count": null,
   "metadata": {},
   "outputs": [],
   "source": [
    "# BOXPLOT DEPOIS - ANO_FIM_EM - Visualizando outliers\n",
    "fig = px.box(pfEnade, y='NT_GER')\n",
    "fig.update_layout(width=500, height=500)\n",
    "fig.show()"
   ]
  },
  {
   "cell_type": "code",
   "execution_count": null,
   "metadata": {},
   "outputs": [],
   "source": [
    "# PEARSON - NT_GER - DEPOIS\n",
    "stats.skew(pfEnade.NT_GER)"
   ]
  },
  {
   "cell_type": "code",
   "execution_count": null,
   "metadata": {},
   "outputs": [],
   "source": [
    "################################################\n",
    "# PEARSON - QE_I17 - ANTES\n",
    "pfEnade['QE_I07'].value_counts(dropna=False).sort_index()"
   ]
  },
  {
   "cell_type": "code",
   "execution_count": null,
   "metadata": {},
   "outputs": [],
   "source": []
  }
 ]
}