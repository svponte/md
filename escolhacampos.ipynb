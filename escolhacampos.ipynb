{
 "metadata": {
  "language_info": {
   "codemirror_mode": {
    "name": "ipython",
    "version": 3
   },
   "file_extension": ".py",
   "mimetype": "text/x-python",
   "name": "python",
   "nbconvert_exporter": "python",
   "pygments_lexer": "ipython3",
   "version": "3.8.5"
  },
  "orig_nbformat": 2,
  "kernelspec": {
   "name": "python385jvsc74a57bd0b3ba2566441a7c06988d0923437866b63cedc61552a5af99d1f4fb67d367b25f",
   "display_name": "Python 3.8.5 64-bit ('base': conda)"
  }
 },
 "nbformat": 4,
 "nbformat_minor": 2,
 "cells": [
  {
   "cell_type": "code",
   "execution_count": 6,
   "metadata": {},
   "outputs": [],
   "source": [
    "# Biblotecas de manipulação de dados\n",
    "import numpy as np\n",
    "import pandas as pd\n",
    "# Bibliotecas de visualização\n",
    "import seaborn as sns\n",
    "import matplotlib.pyplot as plt\n",
    "# Testes estatísticos\n",
    "from scipy.stats import ttest_ind\n",
    "# Bibliotecas Locais\n",
    "from carga import *\n",
    "from tratamentos import *\n",
    "from categorizacao import *\n",
    "\n",
    "from sklearn.model_selection import train_test_split\n",
    "\n",
    "pfEnade = doCargaTodos('microdados_enade_2019.txt')\n",
    "# TRATAMENTOS \n",
    "pfEnade = doIdade(pfEnade)\n",
    "pfEnade = doNota(pfEnade)\n",
    "pfEnade = doVazios(pfEnade)\n",
    "pfEnade = doPublicoPrivada(pfEnade)\n",
    "pfEnade = doHumanasExatas(pfEnade)\n",
    "pfEnade = doRenda(pfEnade)\n",
    "pfEnade = doMigracao(pfEnade)\n",
    "# TRATAMENTOS - Dicionários\n",
    "pfEnade = doRenda(pfEnade)\n",
    "pfEnade = doEscolaridade(pfEnade)\n",
    "pfEnade = doCategoricos(pfEnade)"
   ]
  },
  {
   "cell_type": "code",
   "execution_count": 7,
   "metadata": {},
   "outputs": [
    {
     "output_type": "execute_result",
     "data": {
      "text/plain": [
       "2    91314\n",
       "3    65832\n",
       "1    59695\n",
       "5    40214\n",
       "4    37402\n",
       "6    27717\n",
       "7     5860\n",
       "Name: QE_I08CAT, dtype: int64"
      ]
     },
     "metadata": {},
     "execution_count": 7
    }
   ],
   "source": [
    "pfEnade['QE_I08CAT'].value_counts() # e veja a distribuição . Se estiver muito desbalanceado, tem que balancear"
   ]
  },
  {
   "cell_type": "code",
   "execution_count": 8,
   "metadata": {},
   "outputs": [
    {
     "output_type": "execute_result",
     "data": {
      "text/plain": [
       "0    177025\n",
       "1    151009\n",
       "Name: BaixaRenda, dtype: int64"
      ]
     },
     "metadata": {},
     "execution_count": 8
    }
   ],
   "source": [
    "pfEnade['BaixaRenda'].value_counts()"
   ]
  },
  {
   "cell_type": "code",
   "execution_count": 9,
   "metadata": {},
   "outputs": [
    {
     "output_type": "execute_result",
     "data": {
      "text/plain": [
       "0    122774\n",
       "1    122774\n",
       "Name: BomAluno, dtype: int64"
      ]
     },
     "metadata": {},
     "execution_count": 9
    }
   ],
   "source": [
    "\n",
    "# BONS ALUNOS\n",
    "#pfBom = pfEnade.query('BomAluno = 1')\n",
    "# OUTROS ALUNOS\n",
    "#pfRum = pfEnade.query('BomAluno = 0')\n",
    "\n",
    "# CONTAR CLASSES\n",
    "count_class_0, count_class_1 = pfEnade['BomAluno'].value_counts()# pfEnade.target.value_counts()\n",
    "# Divide by class\n",
    "df_class_0 = pfEnade[pfEnade['BomAluno'] == 0]\n",
    "df_class_1 = pfEnade[pfEnade['BomAluno'] == 1]\n",
    "df_class_0_under = df_class_0.sample(count_class_1)\n",
    "dfAjustado = pd.concat([df_class_0_under, df_class_1], axis=0)\n",
    "\n",
    "dfAjustado['BomAluno'].value_counts() \n",
    "# print('Random under-sampling:')\n",
    "#print(df_test_under.target.value_counts())\n",
    "#df_test_under.target.value_counts().plot(kind='bar', title='Count (target)',color = ['#1F77B4', '#FF7F0E']);\n",
    "\n"
   ]
  },
  {
   "cell_type": "code",
   "execution_count": 10,
   "metadata": {},
   "outputs": [],
   "source": [
    "# Criar um novo campo BOM \n",
    "# 'CO_CATEGAD'  - Categórico - NADA A FAZER\n",
    "# 'CO_GRUPO'    - Categórico - NADA A FAZER\n",
    "# 'TP_SEXO'     - Categórico - NADA A FAZER\n",
    "# 'ANO_FIM_EM'  - NORMALIZADO\n",
    "# 'ANO_IN_GRAD' - NORMALIZADO\n",
    "# 'QE_I08'      - Categórico - TRATADO\n",
    "# 'QE_I16'      - Categórico - NADA A FAZER - 99 = ESTRANGEIRO\n",
    "# 'QE_I17'      - Categórico - NADA A FAZER\n",
    "# 'QE_I04'      - Categórico - NADA A FAZER\n",
    "# 'QE_I05'      - Categórico - NADA A FAZER\n",
    "# 'CO_UF_CURSO' - Categórico - NADA A FAZER\n",
    "# 'NT_GER'      - NORMALIZADO\n",
    "# 'QE_I23'      - Categórico - NADA A FAZER\n",
    "# 'QE_I07'      - Categórico - \n",
    "\n",
    "\n",
    "# BomAluno #\n",
    "# Publica     -0.008140375468443534\n",
    "# Tempo       -0.0056554919143847185 \n",
    "# BaixaRenda  -0.008845247217803975\n",
    "# QE_I23CAT   -0.007114004428688395  horas dedicou aos estudos\n",
    "# Exatas       0.011938251686242905\n",
    "# Familia     -0.0024920997772955315\n",
    "# NU_IDADE     -0.019972496744919247\n",
    "# CO_REGIAO_CURSO  0.006099003402017071\n",
    "\n",
    "# Publica #\n",
    "# BomAluno    -0.010162778519049067\n",
    "# Tempo       -0.09738447258175284 \n",
    "# BaixaRenda  -0.13486876868123468\n",
    "# QE_I23CAT   -0.1353703570106511 \n",
    "# Exatas       0.13023873370153055 \n",
    "# Familia      0.13824793681421685\n",
    "# NU_IDADE     0.08922957351915316\n",
    "# CO_REGIAO_CURSO  -0.030309285147768712\n",
    "\n",
    "# BomAluno #\n",
    "# Publica       -0.22588985181090404, 0.0\n",
    "# Tempo         -0.06072271814398024 \n",
    "# BaixaRenda    0.1780600026426546\n",
    "# QE_I23CAT     -0.15792681809833836  horas dedicou aos estudos\n",
    "# Exatas        0.08767358428768886\n",
    "# Familia       -0.08935190808224927\n",
    "# NU_IDADE      -0.12811083229020462\n",
    "# CO_REGIAO_CURSO  0.057026041132231246\n",
    "\n",
    "# BomAluno # AJUSTADO\n",
    "# Publica       -0.22588985181090404, 0.0\n",
    "# Tempo         -0.06319841811379118 \n",
    "# BaixaRenda    0.1408383670390131\n",
    "# QE_I23CAT     -0.1677376764426451  horas dedicou aos estudos\n",
    "# Exatas        0.08940482401535141\n",
    "# Familia       -0.09275717382254631\n",
    "# NU_IDADE      -0.13719553638364812\n",
    "# CO_REGIAO_CURSO  0.05901777166108786\n",
    "# Migrado       0.043418457133967366\n",
    "# RecemFormado\n",
    "# Solo          -0.14238685189558453\n",
    "# Jovem"
   ]
  },
  {
   "cell_type": "code",
   "execution_count": 13,
   "metadata": {},
   "outputs": [
    {
     "output_type": "execute_result",
     "data": {
      "text/plain": [
       "(0.09139736399569992, 0.0)"
      ]
     },
     "metadata": {},
     "execution_count": 13
    }
   ],
   "source": [
    "from scipy import stats\n",
    "y = dfAjustado['Publica']\n",
    "X = dfAjustado['BaixaRenda']\n",
    "\n",
    "#b = np.arange(7)\n",
    "#print(a)\n",
    "#print(b)\n",
    "stats.pearsonr(X, y) # Coeficiente, p-value"
   ]
  },
  {
   "cell_type": "code",
   "execution_count": null,
   "metadata": {},
   "outputs": [],
   "source": []
  }
 ]
}