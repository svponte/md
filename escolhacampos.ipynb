{
 "metadata": {
  "language_info": {
   "codemirror_mode": {
    "name": "ipython",
    "version": 3
   },
   "file_extension": ".py",
   "mimetype": "text/x-python",
   "name": "python",
   "nbconvert_exporter": "python",
   "pygments_lexer": "ipython3",
   "version": "3.8.5"
  },
  "orig_nbformat": 2,
  "kernelspec": {
   "name": "python385jvsc74a57bd0b3ba2566441a7c06988d0923437866b63cedc61552a5af99d1f4fb67d367b25f",
   "display_name": "Python 3.8.5 64-bit ('base': conda)"
  }
 },
 "nbformat": 4,
 "nbformat_minor": 2,
 "cells": [
  {
   "cell_type": "code",
   "execution_count": 1,
   "metadata": {},
   "outputs": [],
   "source": [
    "# Biblotecas de manipulação de dados\n",
    "import numpy as np\n",
    "import pandas as pd\n",
    "# Bibliotecas de visualização\n",
    "import seaborn as sns\n",
    "import matplotlib.pyplot as plt\n",
    "# Testes estatísticos\n",
    "from scipy.stats import ttest_ind\n",
    "# Bibliotecas Locais\n",
    "from carga import *\n",
    "from tratamentos import *\n",
    "from categorizacao import *\n",
    "\n",
    "from sklearn.model_selection import train_test_split\n",
    "\n",
    "pfEnade = doCargaTodos('microdados_enade_2019.txt')\n",
    "#pfEnade = doCarga('microdados_enade_2019.txt')\n",
    "# TRATAMENTOS \n",
    "pfEnade = doIdade(pfEnade)\n",
    "pfEnade = doNota(pfEnade)\n",
    "pfEnade = doVazios(pfEnade)\n",
    "pfEnade = doPublicoPrivada(pfEnade)\n",
    "pfEnade = doHumanasExatas(pfEnade)\n",
    "pfEnade = doRenda(pfEnade)\n",
    "pfEnade = doMigracao(pfEnade)\n",
    "# TRATAMENTOS - Dicionários\n",
    "pfEnade = doRenda(pfEnade)\n",
    "pfEnade = doEscolaridade(pfEnade)\n",
    "pfEnade = doCategoricos(pfEnade)"
   ]
  },
  {
   "cell_type": "code",
   "execution_count": 2,
   "metadata": {},
   "outputs": [
    {
     "output_type": "execute_result",
     "data": {
      "text/plain": [
       "        BomAluno  CO_REGIAO_CURSO  Jovem  Migrado  Solo  Exatas  QE_I23CAT  \\\n",
       "91106          0                2      1        0     1       0          0   \n",
       "121035         0                3      1        0     0       0          1   \n",
       "86634          0                2      0        0     1       0          1   \n",
       "101699         0                3      0        0     1       0          1   \n",
       "97020          0                3      0        0     1       0          1   \n",
       "\n",
       "        QE_I08CAT  Sustento  Sexo  \n",
       "91106           4         1     0  \n",
       "121035          3         0     0  \n",
       "86634           1         0     1  \n",
       "101699          3         0     1  \n",
       "97020           3         0     1  "
      ],
      "text/html": "<div>\n<style scoped>\n    .dataframe tbody tr th:only-of-type {\n        vertical-align: middle;\n    }\n\n    .dataframe tbody tr th {\n        vertical-align: top;\n    }\n\n    .dataframe thead th {\n        text-align: right;\n    }\n</style>\n<table border=\"1\" class=\"dataframe\">\n  <thead>\n    <tr style=\"text-align: right;\">\n      <th></th>\n      <th>BomAluno</th>\n      <th>CO_REGIAO_CURSO</th>\n      <th>Jovem</th>\n      <th>Migrado</th>\n      <th>Solo</th>\n      <th>Exatas</th>\n      <th>QE_I23CAT</th>\n      <th>QE_I08CAT</th>\n      <th>Sustento</th>\n      <th>Sexo</th>\n    </tr>\n  </thead>\n  <tbody>\n    <tr>\n      <th>91106</th>\n      <td>0</td>\n      <td>2</td>\n      <td>1</td>\n      <td>0</td>\n      <td>1</td>\n      <td>0</td>\n      <td>0</td>\n      <td>4</td>\n      <td>1</td>\n      <td>0</td>\n    </tr>\n    <tr>\n      <th>121035</th>\n      <td>0</td>\n      <td>3</td>\n      <td>1</td>\n      <td>0</td>\n      <td>0</td>\n      <td>0</td>\n      <td>1</td>\n      <td>3</td>\n      <td>0</td>\n      <td>0</td>\n    </tr>\n    <tr>\n      <th>86634</th>\n      <td>0</td>\n      <td>2</td>\n      <td>0</td>\n      <td>0</td>\n      <td>1</td>\n      <td>0</td>\n      <td>1</td>\n      <td>1</td>\n      <td>0</td>\n      <td>1</td>\n    </tr>\n    <tr>\n      <th>101699</th>\n      <td>0</td>\n      <td>3</td>\n      <td>0</td>\n      <td>0</td>\n      <td>1</td>\n      <td>0</td>\n      <td>1</td>\n      <td>3</td>\n      <td>0</td>\n      <td>1</td>\n    </tr>\n    <tr>\n      <th>97020</th>\n      <td>0</td>\n      <td>3</td>\n      <td>0</td>\n      <td>0</td>\n      <td>1</td>\n      <td>0</td>\n      <td>1</td>\n      <td>3</td>\n      <td>0</td>\n      <td>1</td>\n    </tr>\n  </tbody>\n</table>\n</div>"
     },
     "metadata": {},
     "execution_count": 2
    }
   ],
   "source": [
    "pflixo = doAjustado(pfEnade)\n",
    "pflixo.head()"
   ]
  },
  {
   "cell_type": "code",
   "execution_count": 3,
   "metadata": {},
   "outputs": [
    {
     "output_type": "execute_result",
     "data": {
      "text/plain": [
       "2    24431\n",
       "3    21001\n",
       "5    17460\n",
       "6    14574\n",
       "1    13802\n",
       "4    13796\n",
       "7     3495\n",
       "Name: QE_I08CAT, dtype: int64"
      ]
     },
     "metadata": {},
     "execution_count": 3
    }
   ],
   "source": [
    "pfEnade['QE_I08CAT'].value_counts() # e veja a distribuição . Se estiver muito desbalanceado, tem que balancear"
   ]
  },
  {
   "cell_type": "code",
   "execution_count": 4,
   "metadata": {},
   "outputs": [
    {
     "output_type": "execute_result",
     "data": {
      "text/plain": [
       "0    70326\n",
       "1    38233\n",
       "Name: BaixaRenda, dtype: int64"
      ]
     },
     "metadata": {},
     "execution_count": 4
    }
   ],
   "source": [
    "pfEnade['BaixaRenda'].value_counts()"
   ]
  },
  {
   "cell_type": "code",
   "execution_count": 5,
   "metadata": {},
   "outputs": [
    {
     "output_type": "execute_result",
     "data": {
      "text/plain": [
       "0    53336\n",
       "1    53336\n",
       "Name: BomAluno, dtype: int64"
      ]
     },
     "metadata": {},
     "execution_count": 5
    }
   ],
   "source": [
    "\n",
    "# BONS ALUNOS\n",
    "#pfBom = pfEnade.query('BomAluno = 1')\n",
    "# OUTROS ALUNOS\n",
    "#pfRum = pfEnade.query('BomAluno = 0')\n",
    "\n",
    "# CONTAR CLASSES\n",
    "count_class_0, count_class_1 = pfEnade['BomAluno'].value_counts()# pfEnade.target.value_counts()\n",
    "# Divide by class\n",
    "df_class_0 = pfEnade[pfEnade['BomAluno'] == 0]\n",
    "df_class_1 = pfEnade[pfEnade['BomAluno'] == 1]\n",
    "df_class_0_under = df_class_0.sample(count_class_1)\n",
    "dfAjustado = pd.concat([df_class_0_under, df_class_1], axis=0)\n",
    "\n",
    "dfAjustado['BomAluno'].value_counts() \n",
    "# print('Random under-sampling:')\n",
    "#print(df_test_under.target.value_counts())\n",
    "#df_test_under.target.value_counts().plot(kind='bar', title='Count (target)',color = ['#1F77B4', '#FF7F0E']);\n",
    "\n"
   ]
  },
  {
   "cell_type": "code",
   "execution_count": 6,
   "metadata": {},
   "outputs": [],
   "source": [
    "# Criar um novo campo BOM \n",
    "# 'CO_CATEGAD'  - Categórico - NADA A FAZER\n",
    "# 'CO_GRUPO'    - Categórico - NADA A FAZER\n",
    "# 'TP_SEXO'     - Categórico - NADA A FAZER\n",
    "# 'ANO_FIM_EM'  - NORMALIZADO\n",
    "# 'ANO_IN_GRAD' - NORMALIZADO\n",
    "# 'QE_I08'      - Categórico - TRATADO\n",
    "# 'QE_I16'      - Categórico - NADA A FAZER - 99 = ESTRANGEIRO\n",
    "# 'QE_I17'      - Categórico - NADA A FAZER\n",
    "# 'QE_I04'      - Categórico - NADA A FAZER\n",
    "# 'QE_I05'      - Categórico - NADA A FAZER\n",
    "# 'CO_UF_CURSO' - Categórico - NADA A FAZER\n",
    "# 'NT_GER'      - NORMALIZADO\n",
    "# 'QE_I23'      - Categórico - NADA A FAZER\n",
    "# 'QE_I07'      - Categórico - \n",
    "\n",
    "\n",
    "# BomAluno #\n",
    "# Publica     -0.008140375468443534\n",
    "# Tempo       -0.0056554919143847185 \n",
    "# BaixaRenda  -0.008845247217803975\n",
    "# QE_I23CAT   -0.007114004428688395  horas dedicou aos estudos\n",
    "# Exatas       0.011938251686242905\n",
    "# Familia     -0.0024920997772955315\n",
    "# NU_IDADE     -0.019972496744919247\n",
    "# CO_REGIAO_CURSO  0.006099003402017071\n",
    "\n",
    "# Publica #\n",
    "# BomAluno    -0.010162778519049067\n",
    "# Tempo       -0.09738447258175284 \n",
    "# BaixaRenda  -0.13486876868123468\n",
    "# QE_I23CAT   -0.1353703570106511 \n",
    "# Exatas       0.13023873370153055 \n",
    "# Familia      0.13824793681421685\n",
    "# NU_IDADE     0.08922957351915316\n",
    "# CO_REGIAO_CURSO  -0.030309285147768712\n",
    "\n",
    "# BomAluno #\n",
    "# Publica       -0.22588985181090404, 0.0\n",
    "# Tempo         -0.06072271814398024 \n",
    "# BaixaRenda    0.1780600026426546\n",
    "# QE_I23CAT     -0.15792681809833836  horas dedicou aos estudos\n",
    "# Exatas        0.08767358428768886\n",
    "# Familia       -0.08935190808224927\n",
    "# NU_IDADE      -0.12811083229020462\n",
    "# CO_REGIAO_CURSO  0.057026041132231246\n",
    "\n",
    "# BomAluno # AJUSTADO\n",
    "# Publica       -0.22588985181090404, 0.0\n",
    "# Tempo         -0.06319841811379118 \n",
    "# BaixaRenda    0.1408383670390131\n",
    "# QE_I23CAT     -0.1677376764426451  horas dedicou aos estudos\n",
    "# Exatas        0.08940482401535141\n",
    "# Familia       -0.09275717382254631\n",
    "# NU_IDADE      -0.13719553638364812\n",
    "# CO_REGIAO_CURSO  0.05901777166108786\n",
    "# Migrado       0.043418457133967366\n",
    "# RecemFormado\n",
    "# Solo          -0.14238685189558453\n",
    "# Jovem"
   ]
  },
  {
   "cell_type": "code",
   "execution_count": 17,
   "metadata": {},
   "outputs": [
    {
     "output_type": "execute_result",
     "data": {
      "text/plain": [
       "(-0.112819381915011, 4.1497984705238784e-299)"
      ]
     },
     "metadata": {},
     "execution_count": 17
    }
   ],
   "source": [
    "from scipy import stats\n",
    "y = dfAjustado['Publica']\n",
    "X = dfAjustado['Sexo']\n",
    "\n",
    "#b = np.arange(7)\n",
    "#print(a)\n",
    "#print(b)\n",
    "stats.pearsonr(X, y) # Coeficiente, p-value"
   ]
  },
  {
   "cell_type": "code",
   "execution_count": null,
   "metadata": {},
   "outputs": [],
   "source": [
    "BomAluno\\\\0.23361602558231145\\\\0.0\n",
    "CO_REGIAO_CURSO\\\\0.046896248430586526\\\\5.214653008964321e-53\n",
    "Jovem\\\\0.03865960726977642\\\\1.4234024023466744e-36\n",
    "Migrado\\\\-0.07220403524617151\\\\2.8424258056227845e-123\n",
    "Solo\\\\-0.07801396710919317\\\\1.2290927739788168e-143\n",
    "Exatas\\\\0.12565015202350432\\\\0.0\n",
    "QE_I23CAT\\\\0.11293540847239115\\\\1.0069949272129123e-299\n",
    "QE_I08CAT\\\\-0.07564097434146663\\\\3.970932917133818e-135\n",
    "Sustento\\\\-0.025018447672893344\\\\3.023684835486549e-16\n",
    "Sexo\\\\-0.112819381915011\\\\4.1497984705238784e-299\n"
   ]
  },
  {
   "cell_type": "code",
   "execution_count": 20,
   "metadata": {},
   "outputs": [
    {
     "output_type": "execute_result",
     "data": {
      "text/plain": [
       "<bound method Series.count of 101462    1\n",
       "41409     1\n",
       "92361     0\n",
       "55562     1\n",
       "41559     1\n",
       "         ..\n",
       "130108    1\n",
       "130111    0\n",
       "130113    1\n",
       "130118    1\n",
       "130121    1\n",
       "Name: Sexo, Length: 106672, dtype: int8>"
      ]
     },
     "metadata": {},
     "execution_count": 20
    }
   ],
   "source": [
    "X.count"
   ]
  },
  {
   "cell_type": "code",
   "execution_count": 22,
   "metadata": {},
   "outputs": [
    {
     "output_type": "execute_result",
     "data": {
      "text/plain": [
       "1    64382\n",
       "0    42290\n",
       "Name: Publica, dtype: int64"
      ]
     },
     "metadata": {},
     "execution_count": 22
    }
   ],
   "source": [
    "dfAjustado['Publica'].value_counts() "
   ]
  },
  {
   "cell_type": "code",
   "execution_count": null,
   "metadata": {},
   "outputs": [],
   "source": []
  }
 ]
}